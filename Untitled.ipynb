{
 "cells": [
  {
   "cell_type": "code",
   "execution_count": 3,
   "id": "0f47f102",
   "metadata": {},
   "outputs": [
    {
     "name": "stdout",
     "output_type": "stream",
     "text": [
      "Collecting pandas\n",
      "  Downloading pandas-1.5.0-cp310-cp310-macosx_10_9_x86_64.whl (12.0 MB)\n",
      "\u001b[2K     \u001b[38;2;114;156;31m━━━━━━━━━━━━━━━━━━━━━━━━━━━━━━━━━━━━━━━━\u001b[0m \u001b[32m12.0/12.0 MB\u001b[0m \u001b[31m3.9 MB/s\u001b[0m eta \u001b[36m0:00:00\u001b[0mm eta \u001b[36m0:00:01\u001b[0m[36m0:00:01\u001b[0m\n",
      "\u001b[?25hRequirement already satisfied: python-dateutil>=2.8.1 in /Library/Frameworks/Python.framework/Versions/3.10/lib/python3.10/site-packages (from pandas) (2.8.2)\n",
      "Collecting numpy>=1.21.0\n",
      "  Downloading numpy-1.23.3-cp310-cp310-macosx_10_9_x86_64.whl (18.1 MB)\n",
      "\u001b[2K     \u001b[38;2;114;156;31m━━━━━━━━━━━━━━━━━━━━━━━━━━━━━━━━━━━━━━━━\u001b[0m \u001b[32m18.1/18.1 MB\u001b[0m \u001b[31m3.0 MB/s\u001b[0m eta \u001b[36m0:00:00\u001b[0mm eta \u001b[36m0:00:01\u001b[0m[36m0:00:01\u001b[0m\n",
      "\u001b[?25hCollecting pytz>=2020.1\n",
      "  Downloading pytz-2022.2.1-py2.py3-none-any.whl (500 kB)\n",
      "\u001b[2K     \u001b[38;2;114;156;31m━━━━━━━━━━━━━━━━━━━━━━━━━━━━━━━━━━━━━━━\u001b[0m \u001b[32m500.6/500.6 kB\u001b[0m \u001b[31m2.2 MB/s\u001b[0m eta \u001b[36m0:00:00\u001b[0m[36m0:00:01\u001b[0mm eta \u001b[36m0:00:01\u001b[0m\n",
      "\u001b[?25hRequirement already satisfied: six>=1.5 in /Library/Frameworks/Python.framework/Versions/3.10/lib/python3.10/site-packages (from python-dateutil>=2.8.1->pandas) (1.16.0)\n",
      "Installing collected packages: pytz, numpy, pandas\n",
      "Successfully installed numpy-1.23.3 pandas-1.5.0 pytz-2022.2.1\n"
     ]
    }
   ],
   "source": [
    "!pip install pandas"
   ]
  },
  {
   "cell_type": "code",
   "execution_count": 4,
   "id": "3bc83db4",
   "metadata": {},
   "outputs": [],
   "source": [
    "import pandas as pd\n"
   ]
  },
  {
   "cell_type": "code",
   "execution_count": 5,
   "id": "15725025",
   "metadata": {},
   "outputs": [],
   "source": [
    "import numpy as np"
   ]
  },
  {
   "cell_type": "code",
   "execution_count": 18,
   "id": "2fd03649",
   "metadata": {},
   "outputs": [
    {
     "name": "stdout",
     "output_type": "stream",
     "text": [
      "        country        date  daily_vaccinations  \\\n",
      "0     Argentina  12/29/2020                 NaN   \n",
      "1     Argentina  12/30/2020             15656.0   \n",
      "2     Argentina  12/31/2020             15656.0   \n",
      "3     Argentina    1/1/2021             11070.0   \n",
      "4     Argentina    1/2/2021              8776.0   \n",
      "...         ...         ...                 ...   \n",
      "1497      Wales   1/20/2021             11105.0   \n",
      "1498      Wales   1/21/2021             12318.0   \n",
      "1499      Wales   1/22/2021             15148.0   \n",
      "1500      Wales   1/23/2021             17371.0   \n",
      "1501      Wales   1/24/2021             17063.0   \n",
      "\n",
      "                                 vaccines  \n",
      "0                               Sputnik V  \n",
      "1                               Sputnik V  \n",
      "2                               Sputnik V  \n",
      "3                               Sputnik V  \n",
      "4                               Sputnik V  \n",
      "...                                   ...  \n",
      "1497  Oxford/AstraZeneca, Pfizer/BioNTech  \n",
      "1498  Oxford/AstraZeneca, Pfizer/BioNTech  \n",
      "1499  Oxford/AstraZeneca, Pfizer/BioNTech  \n",
      "1500  Oxford/AstraZeneca, Pfizer/BioNTech  \n",
      "1501  Oxford/AstraZeneca, Pfizer/BioNTech  \n",
      "\n",
      "[1502 rows x 4 columns]\n"
     ]
    }
   ],
   "source": [
    "data = pd.read_csv(\"desktop/country_vaccination_stats.csv\")\n",
    "\n",
    "print(data)\n",
    "#print(data.notnull())"
   ]
  },
  {
   "cell_type": "code",
   "execution_count": 14,
   "id": "973433fa",
   "metadata": {},
   "outputs": [
    {
     "data": {
      "text/html": [
       "<div>\n",
       "<style scoped>\n",
       "    .dataframe tbody tr th:only-of-type {\n",
       "        vertical-align: middle;\n",
       "    }\n",
       "\n",
       "    .dataframe tbody tr th {\n",
       "        vertical-align: top;\n",
       "    }\n",
       "\n",
       "    .dataframe thead th {\n",
       "        text-align: right;\n",
       "    }\n",
       "</style>\n",
       "<table border=\"1\" class=\"dataframe\">\n",
       "  <thead>\n",
       "    <tr style=\"text-align: right;\">\n",
       "      <th></th>\n",
       "      <th>daily_vaccinations</th>\n",
       "    </tr>\n",
       "  </thead>\n",
       "  <tbody>\n",
       "    <tr>\n",
       "      <th>count</th>\n",
       "      <td>1.442000e+03</td>\n",
       "    </tr>\n",
       "    <tr>\n",
       "      <th>mean</th>\n",
       "      <td>4.334959e+04</td>\n",
       "    </tr>\n",
       "    <tr>\n",
       "      <th>std</th>\n",
       "      <td>1.165367e+05</td>\n",
       "    </tr>\n",
       "    <tr>\n",
       "      <th>min</th>\n",
       "      <td>1.000000e+00</td>\n",
       "    </tr>\n",
       "    <tr>\n",
       "      <th>25%</th>\n",
       "      <td>1.659750e+03</td>\n",
       "    </tr>\n",
       "    <tr>\n",
       "      <th>50%</th>\n",
       "      <td>5.567000e+03</td>\n",
       "    </tr>\n",
       "    <tr>\n",
       "      <th>75%</th>\n",
       "      <td>2.797975e+04</td>\n",
       "    </tr>\n",
       "    <tr>\n",
       "      <th>max</th>\n",
       "      <td>1.126251e+06</td>\n",
       "    </tr>\n",
       "  </tbody>\n",
       "</table>\n",
       "</div>"
      ],
      "text/plain": [
       "       daily_vaccinations\n",
       "count        1.442000e+03\n",
       "mean         4.334959e+04\n",
       "std          1.165367e+05\n",
       "min          1.000000e+00\n",
       "25%          1.659750e+03\n",
       "50%          5.567000e+03\n",
       "75%          2.797975e+04\n",
       "max          1.126251e+06"
      ]
     },
     "execution_count": 14,
     "metadata": {},
     "output_type": "execute_result"
    }
   ],
   "source": [
    "data.describe()"
   ]
  },
  {
   "cell_type": "code",
   "execution_count": 15,
   "id": "008952e1",
   "metadata": {},
   "outputs": [
    {
     "name": "stdout",
     "output_type": "stream",
     "text": [
      "<class 'pandas.core.frame.DataFrame'>\n",
      "RangeIndex: 1502 entries, 0 to 1501\n",
      "Data columns (total 4 columns):\n",
      " #   Column              Non-Null Count  Dtype  \n",
      "---  ------              --------------  -----  \n",
      " 0   country             1502 non-null   object \n",
      " 1   date                1502 non-null   object \n",
      " 2   daily_vaccinations  1442 non-null   float64\n",
      " 3   vaccines            1502 non-null   object \n",
      "dtypes: float64(1), object(3)\n",
      "memory usage: 47.1+ KB\n"
     ]
    }
   ],
   "source": [
    "data.info()"
   ]
  },
  {
   "cell_type": "code",
   "execution_count": 17,
   "id": "0685c663",
   "metadata": {},
   "outputs": [
    {
     "name": "stdout",
     "output_type": "stream",
     "text": [
      "country                0\n",
      "date                   0\n",
      "daily_vaccinations    60\n",
      "vaccines               0\n",
      "dtype: int64\n"
     ]
    }
   ],
   "source": [
    "print(data.isnull().sum())"
   ]
  },
  {
   "cell_type": "code",
   "execution_count": 19,
   "id": "4c506fcd",
   "metadata": {
    "scrolled": true
   },
   "outputs": [
    {
     "data": {
      "text/html": [
       "<div>\n",
       "<style scoped>\n",
       "    .dataframe tbody tr th:only-of-type {\n",
       "        vertical-align: middle;\n",
       "    }\n",
       "\n",
       "    .dataframe tbody tr th {\n",
       "        vertical-align: top;\n",
       "    }\n",
       "\n",
       "    .dataframe thead th {\n",
       "        text-align: right;\n",
       "    }\n",
       "</style>\n",
       "<table border=\"1\" class=\"dataframe\">\n",
       "  <thead>\n",
       "    <tr style=\"text-align: right;\">\n",
       "      <th></th>\n",
       "      <th>daily_vaccinations</th>\n",
       "    </tr>\n",
       "  </thead>\n",
       "  <tbody>\n",
       "    <tr>\n",
       "      <th>count</th>\n",
       "      <td>1.442000e+03</td>\n",
       "    </tr>\n",
       "    <tr>\n",
       "      <th>mean</th>\n",
       "      <td>4.334959e+04</td>\n",
       "    </tr>\n",
       "    <tr>\n",
       "      <th>std</th>\n",
       "      <td>1.165367e+05</td>\n",
       "    </tr>\n",
       "    <tr>\n",
       "      <th>min</th>\n",
       "      <td>1.000000e+00</td>\n",
       "    </tr>\n",
       "    <tr>\n",
       "      <th>25%</th>\n",
       "      <td>1.659750e+03</td>\n",
       "    </tr>\n",
       "    <tr>\n",
       "      <th>50%</th>\n",
       "      <td>5.567000e+03</td>\n",
       "    </tr>\n",
       "    <tr>\n",
       "      <th>75%</th>\n",
       "      <td>2.797975e+04</td>\n",
       "    </tr>\n",
       "    <tr>\n",
       "      <th>max</th>\n",
       "      <td>1.126251e+06</td>\n",
       "    </tr>\n",
       "  </tbody>\n",
       "</table>\n",
       "</div>"
      ],
      "text/plain": [
       "       daily_vaccinations\n",
       "count        1.442000e+03\n",
       "mean         4.334959e+04\n",
       "std          1.165367e+05\n",
       "min          1.000000e+00\n",
       "25%          1.659750e+03\n",
       "50%          5.567000e+03\n",
       "75%          2.797975e+04\n",
       "max          1.126251e+06"
      ]
     },
     "execution_count": 19,
     "metadata": {},
     "output_type": "execute_result"
    }
   ],
   "source": [
    "data.describe()"
   ]
  },
  {
   "cell_type": "code",
   "execution_count": 21,
   "id": "2852cd6b",
   "metadata": {},
   "outputs": [
    {
     "data": {
      "text/plain": [
       "array(['Argentina', 'Austria', 'Bahrain', 'Belgium', 'Brazil', 'Bulgaria',\n",
       "       'Canada', 'Chile', 'China', 'Costa Rica', 'Croatia', 'Cyprus',\n",
       "       'Czechia', 'Denmark', 'Ecuador', 'England', 'Estonia', 'Finland',\n",
       "       'France', 'Germany', 'Gibraltar', 'Greece', 'Hungary', 'Iceland',\n",
       "       'India', 'Indonesia', 'Ireland', 'Isle of Man', 'Israel', 'Italy',\n",
       "       'Kuwait', 'Latvia', 'Lithuania', 'Luxembourg', 'Malta', 'Mexico',\n",
       "       'Netherlands', 'Northern Ireland', 'Norway', 'Oman', 'Panama',\n",
       "       'Poland', 'Portugal', 'Romania', 'Russia', 'Saudi Arabia',\n",
       "       'Scotland', 'Serbia', 'Seychelles', 'Singapore', 'Slovakia',\n",
       "       'Slovenia', 'Spain', 'Sweden', 'Switzerland', 'Turkey',\n",
       "       'United Arab Emirates', 'United Kingdom', 'United States', 'Wales'],\n",
       "      dtype=object)"
      ]
     },
     "execution_count": 21,
     "metadata": {},
     "output_type": "execute_result"
    }
   ],
   "source": [
    "data.country.unique()"
   ]
  },
  {
   "cell_type": "code",
   "execution_count": 22,
   "id": "236fe340",
   "metadata": {},
   "outputs": [
    {
     "data": {
      "text/plain": [
       "array([   nan, 15656., 11070., ..., 15148., 17371., 17063.])"
      ]
     },
     "execution_count": 22,
     "metadata": {},
     "output_type": "execute_result"
    }
   ],
   "source": [
    "data.daily_vaccinations.unique()"
   ]
  },
  {
   "cell_type": "code",
   "execution_count": 23,
   "id": "2997b02b",
   "metadata": {},
   "outputs": [
    {
     "data": {
      "text/plain": [
       "array(['Sputnik V', 'Pfizer/BioNTech', 'Pfizer/BioNTech, Sinopharm',\n",
       "       'Sinovac', 'Moderna, Pfizer/BioNTech', 'CNBG, Sinovac',\n",
       "       'Oxford/AstraZeneca, Pfizer/BioNTech', 'Covaxin, Covishield',\n",
       "       'Pfizer/BioNTech, Sinopharm, Sputnik V', 'Sinopharm'], dtype=object)"
      ]
     },
     "execution_count": 23,
     "metadata": {},
     "output_type": "execute_result"
    }
   ],
   "source": [
    "data.vaccines.unique()"
   ]
  },
  {
   "cell_type": "code",
   "execution_count": 24,
   "id": "899a9410",
   "metadata": {},
   "outputs": [
    {
     "data": {
      "text/plain": [
       "array(['12/29/2020', '12/30/2020', '12/31/2020', '1/1/2021', '1/2/2021',\n",
       "       '1/3/2021', '1/4/2021', '1/5/2021', '1/6/2021', '1/7/2021',\n",
       "       '1/8/2021', '1/9/2021', '1/10/2021', '1/11/2021', '1/12/2021',\n",
       "       '1/13/2021', '1/14/2021', '1/15/2021', '1/16/2021', '1/17/2021',\n",
       "       '1/18/2021', '1/19/2021', '1/20/2021', '1/21/2021', '1/22/2021',\n",
       "       '1/23/2021', '1/24/2021', '1/25/2021', '12/23/2020', '12/24/2020',\n",
       "       '12/25/2020', '12/26/2020', '12/27/2020', '12/28/2020',\n",
       "       '12/14/2020', '12/15/2020', '12/16/2020', '12/17/2020',\n",
       "       '12/18/2020', '12/19/2020', '12/20/2020', '12/21/2020',\n",
       "       '12/22/2020', '12/13/2020'], dtype=object)"
      ]
     },
     "execution_count": 24,
     "metadata": {},
     "output_type": "execute_result"
    }
   ],
   "source": [
    "data.date.unique()"
   ]
  },
  {
   "cell_type": "code",
   "execution_count": 145,
   "id": "b1394860",
   "metadata": {},
   "outputs": [
    {
     "data": {
      "text/html": [
       "<div>\n",
       "<style scoped>\n",
       "    .dataframe tbody tr th:only-of-type {\n",
       "        vertical-align: middle;\n",
       "    }\n",
       "\n",
       "    .dataframe tbody tr th {\n",
       "        vertical-align: top;\n",
       "    }\n",
       "\n",
       "    .dataframe thead th {\n",
       "        text-align: right;\n",
       "    }\n",
       "</style>\n",
       "<table border=\"1\" class=\"dataframe\">\n",
       "  <thead>\n",
       "    <tr style=\"text-align: right;\">\n",
       "      <th></th>\n",
       "      <th>country</th>\n",
       "      <th>date</th>\n",
       "      <th>daily_vaccinations</th>\n",
       "      <th>vaccines</th>\n",
       "    </tr>\n",
       "  </thead>\n",
       "  <tbody>\n",
       "    <tr>\n",
       "      <th>0</th>\n",
       "      <td>Argentina</td>\n",
       "      <td>12/29/2020</td>\n",
       "      <td>0.0</td>\n",
       "      <td>Sputnik V</td>\n",
       "    </tr>\n",
       "    <tr>\n",
       "      <th>1</th>\n",
       "      <td>Argentina</td>\n",
       "      <td>12/30/2020</td>\n",
       "      <td>15656.0</td>\n",
       "      <td>Sputnik V</td>\n",
       "    </tr>\n",
       "    <tr>\n",
       "      <th>2</th>\n",
       "      <td>Argentina</td>\n",
       "      <td>12/31/2020</td>\n",
       "      <td>15656.0</td>\n",
       "      <td>Sputnik V</td>\n",
       "    </tr>\n",
       "    <tr>\n",
       "      <th>3</th>\n",
       "      <td>Argentina</td>\n",
       "      <td>1/1/2021</td>\n",
       "      <td>11070.0</td>\n",
       "      <td>Sputnik V</td>\n",
       "    </tr>\n",
       "    <tr>\n",
       "      <th>4</th>\n",
       "      <td>Argentina</td>\n",
       "      <td>1/2/2021</td>\n",
       "      <td>8776.0</td>\n",
       "      <td>Sputnik V</td>\n",
       "    </tr>\n",
       "  </tbody>\n",
       "</table>\n",
       "</div>"
      ],
      "text/plain": [
       "     country        date  daily_vaccinations   vaccines\n",
       "0  Argentina  12/29/2020                 0.0  Sputnik V\n",
       "1  Argentina  12/30/2020             15656.0  Sputnik V\n",
       "2  Argentina  12/31/2020             15656.0  Sputnik V\n",
       "3  Argentina    1/1/2021             11070.0  Sputnik V\n",
       "4  Argentina    1/2/2021              8776.0  Sputnik V"
      ]
     },
     "execution_count": 145,
     "metadata": {},
     "output_type": "execute_result"
    }
   ],
   "source": [
    "data.fillna(value = 0, inplace = True)\n",
    "data.total_vaccinations = data.daily_vaccinations.astype(int)\n",
    "data.head()\n",
    "\n",
    "\n",
    "data.fillna(value = data['daily_vaccinations'].mean(), inplace = True)\n",
    "data['daily_vaccinations'] = data['daily_vaccinations'].fillna(data['daily_vaccinations'].mean())\n",
    "data.head()"
   ]
  },
  {
   "cell_type": "code",
   "execution_count": 165,
   "id": "84a66589",
   "metadata": {},
   "outputs": [
    {
     "data": {
      "text/html": [
       "<div>\n",
       "<style scoped>\n",
       "    .dataframe tbody tr th:only-of-type {\n",
       "        vertical-align: middle;\n",
       "    }\n",
       "\n",
       "    .dataframe tbody tr th {\n",
       "        vertical-align: top;\n",
       "    }\n",
       "\n",
       "    .dataframe thead th {\n",
       "        text-align: right;\n",
       "    }\n",
       "</style>\n",
       "<table border=\"1\" class=\"dataframe\">\n",
       "  <thead>\n",
       "    <tr style=\"text-align: right;\">\n",
       "      <th></th>\n",
       "      <th>country</th>\n",
       "      <th>date</th>\n",
       "      <th>daily_vaccinations</th>\n",
       "      <th>vaccines</th>\n",
       "      <th>daily_vaccinationsdaily_vaccinations</th>\n",
       "    </tr>\n",
       "  </thead>\n",
       "  <tbody>\n",
       "    <tr>\n",
       "      <th>0</th>\n",
       "      <td>Argentina</td>\n",
       "      <td>12/29/2020</td>\n",
       "      <td>0.0</td>\n",
       "      <td>Sputnik V</td>\n",
       "      <td>0.0</td>\n",
       "    </tr>\n",
       "    <tr>\n",
       "      <th>1</th>\n",
       "      <td>Argentina</td>\n",
       "      <td>12/30/2020</td>\n",
       "      <td>15656.0</td>\n",
       "      <td>Sputnik V</td>\n",
       "      <td>15656.0</td>\n",
       "    </tr>\n",
       "    <tr>\n",
       "      <th>2</th>\n",
       "      <td>Argentina</td>\n",
       "      <td>12/31/2020</td>\n",
       "      <td>15656.0</td>\n",
       "      <td>Sputnik V</td>\n",
       "      <td>15656.0</td>\n",
       "    </tr>\n",
       "    <tr>\n",
       "      <th>3</th>\n",
       "      <td>Argentina</td>\n",
       "      <td>1/1/2021</td>\n",
       "      <td>11070.0</td>\n",
       "      <td>Sputnik V</td>\n",
       "      <td>11070.0</td>\n",
       "    </tr>\n",
       "    <tr>\n",
       "      <th>4</th>\n",
       "      <td>Argentina</td>\n",
       "      <td>1/2/2021</td>\n",
       "      <td>8776.0</td>\n",
       "      <td>Sputnik V</td>\n",
       "      <td>8776.0</td>\n",
       "    </tr>\n",
       "  </tbody>\n",
       "</table>\n",
       "</div>"
      ],
      "text/plain": [
       "     country        date  daily_vaccinations   vaccines  \\\n",
       "0  Argentina  12/29/2020                 0.0  Sputnik V   \n",
       "1  Argentina  12/30/2020             15656.0  Sputnik V   \n",
       "2  Argentina  12/31/2020             15656.0  Sputnik V   \n",
       "3  Argentina    1/1/2021             11070.0  Sputnik V   \n",
       "4  Argentina    1/2/2021              8776.0  Sputnik V   \n",
       "\n",
       "   daily_vaccinationsdaily_vaccinations  \n",
       "0                                   0.0  \n",
       "1                               15656.0  \n",
       "2                               15656.0  \n",
       "3                               11070.0  \n",
       "4                                8776.0  "
      ]
     },
     "execution_count": 165,
     "metadata": {},
     "output_type": "execute_result"
    }
   ],
   "source": [
    "data[ 'daily_vaccinations'] = data['daily_vaccinations'].fillna(data['daily_vaccinations'].mean())\n",
    "data.total_vaccinations = data.daily_vaccinations.astype(int)\n",
    "data.head()"
   ]
  },
  {
   "cell_type": "code",
   "execution_count": 166,
   "id": "90cc2dd2",
   "metadata": {},
   "outputs": [
    {
     "data": {
      "text/html": [
       "<div>\n",
       "<style scoped>\n",
       "    .dataframe tbody tr th:only-of-type {\n",
       "        vertical-align: middle;\n",
       "    }\n",
       "\n",
       "    .dataframe tbody tr th {\n",
       "        vertical-align: top;\n",
       "    }\n",
       "\n",
       "    .dataframe thead th {\n",
       "        text-align: right;\n",
       "    }\n",
       "</style>\n",
       "<table border=\"1\" class=\"dataframe\">\n",
       "  <thead>\n",
       "    <tr style=\"text-align: right;\">\n",
       "      <th></th>\n",
       "      <th>country</th>\n",
       "      <th>date</th>\n",
       "      <th>daily_vaccinations</th>\n",
       "      <th>vaccines</th>\n",
       "      <th>daily_vaccinationsdaily_vaccinations</th>\n",
       "    </tr>\n",
       "  </thead>\n",
       "  <tbody>\n",
       "    <tr>\n",
       "      <th>0</th>\n",
       "      <td>Argentina</td>\n",
       "      <td>12/29/2020</td>\n",
       "      <td>0.0</td>\n",
       "      <td>Sputnik V</td>\n",
       "      <td>0.0</td>\n",
       "    </tr>\n",
       "    <tr>\n",
       "      <th>1</th>\n",
       "      <td>Argentina</td>\n",
       "      <td>12/30/2020</td>\n",
       "      <td>15656.0</td>\n",
       "      <td>Sputnik V</td>\n",
       "      <td>15656.0</td>\n",
       "    </tr>\n",
       "    <tr>\n",
       "      <th>2</th>\n",
       "      <td>Argentina</td>\n",
       "      <td>12/31/2020</td>\n",
       "      <td>15656.0</td>\n",
       "      <td>Sputnik V</td>\n",
       "      <td>15656.0</td>\n",
       "    </tr>\n",
       "    <tr>\n",
       "      <th>3</th>\n",
       "      <td>Argentina</td>\n",
       "      <td>1/1/2021</td>\n",
       "      <td>11070.0</td>\n",
       "      <td>Sputnik V</td>\n",
       "      <td>11070.0</td>\n",
       "    </tr>\n",
       "    <tr>\n",
       "      <th>4</th>\n",
       "      <td>Argentina</td>\n",
       "      <td>1/2/2021</td>\n",
       "      <td>8776.0</td>\n",
       "      <td>Sputnik V</td>\n",
       "      <td>8776.0</td>\n",
       "    </tr>\n",
       "  </tbody>\n",
       "</table>\n",
       "</div>"
      ],
      "text/plain": [
       "     country        date  daily_vaccinations   vaccines  \\\n",
       "0  Argentina  12/29/2020                 0.0  Sputnik V   \n",
       "1  Argentina  12/30/2020             15656.0  Sputnik V   \n",
       "2  Argentina  12/31/2020             15656.0  Sputnik V   \n",
       "3  Argentina    1/1/2021             11070.0  Sputnik V   \n",
       "4  Argentina    1/2/2021              8776.0  Sputnik V   \n",
       "\n",
       "   daily_vaccinationsdaily_vaccinations  \n",
       "0                                   0.0  \n",
       "1                               15656.0  \n",
       "2                               15656.0  \n",
       "3                               11070.0  \n",
       "4                                8776.0  "
      ]
     },
     "execution_count": 166,
     "metadata": {},
     "output_type": "execute_result"
    }
   ],
   "source": [
    "data.fillna(value = 0, inplace = True)\n",
    "data.total_vaccinations = data.daily_vaccinations.astype(int)\n",
    "data.head()"
   ]
  },
  {
   "cell_type": "code",
   "execution_count": null,
   "id": "995cec6a",
   "metadata": {},
   "outputs": [],
   "source": [
    "def size(m,n):\n",
    "    fig = plt.gcf();\n",
    "    fig.set_size_inches(m,n);"
   ]
  },
  {
   "cell_type": "code",
   "execution_count": 79,
   "id": "3e8b46e8",
   "metadata": {
    "scrolled": true
   },
   "outputs": [
    {
     "name": "stdout",
     "output_type": "stream",
     "text": [
      "Requirement already satisfied: wordcloud in /Library/Frameworks/Python.framework/Versions/3.10/lib/python3.10/site-packages (1.8.2.2)\n",
      "Requirement already satisfied: pillow in /Library/Frameworks/Python.framework/Versions/3.10/lib/python3.10/site-packages (from wordcloud) (9.2.0)\n",
      "Requirement already satisfied: matplotlib in /Library/Frameworks/Python.framework/Versions/3.10/lib/python3.10/site-packages (from wordcloud) (3.6.0)\n",
      "Requirement already satisfied: numpy>=1.6.1 in /Library/Frameworks/Python.framework/Versions/3.10/lib/python3.10/site-packages (from wordcloud) (1.23.3)\n",
      "Requirement already satisfied: python-dateutil>=2.7 in /Library/Frameworks/Python.framework/Versions/3.10/lib/python3.10/site-packages (from matplotlib->wordcloud) (2.8.2)\n",
      "Requirement already satisfied: fonttools>=4.22.0 in /Library/Frameworks/Python.framework/Versions/3.10/lib/python3.10/site-packages (from matplotlib->wordcloud) (4.37.3)\n",
      "Requirement already satisfied: contourpy>=1.0.1 in /Library/Frameworks/Python.framework/Versions/3.10/lib/python3.10/site-packages (from matplotlib->wordcloud) (1.0.5)\n",
      "Requirement already satisfied: packaging>=20.0 in /Library/Frameworks/Python.framework/Versions/3.10/lib/python3.10/site-packages (from matplotlib->wordcloud) (21.3)\n",
      "Requirement already satisfied: cycler>=0.10 in /Library/Frameworks/Python.framework/Versions/3.10/lib/python3.10/site-packages (from matplotlib->wordcloud) (0.11.0)\n",
      "Requirement already satisfied: kiwisolver>=1.0.1 in /Library/Frameworks/Python.framework/Versions/3.10/lib/python3.10/site-packages (from matplotlib->wordcloud) (1.4.4)\n",
      "Requirement already satisfied: pyparsing>=2.2.1 in /Library/Frameworks/Python.framework/Versions/3.10/lib/python3.10/site-packages (from matplotlib->wordcloud) (3.0.9)\n",
      "Requirement already satisfied: six>=1.5 in /Library/Frameworks/Python.framework/Versions/3.10/lib/python3.10/site-packages (from python-dateutil>=2.7->matplotlib->wordcloud) (1.16.0)\n"
     ]
    }
   ],
   "source": [
    "!pip install wordcloud"
   ]
  },
  {
   "cell_type": "code",
   "execution_count": null,
   "id": "d2958567",
   "metadata": {
    "scrolled": true
   },
   "outputs": [],
   "source": [
    "\n"
   ]
  },
  {
   "cell_type": "code",
   "execution_count": 84,
   "id": "d650629c",
   "metadata": {
    "scrolled": true
   },
   "outputs": [
    {
     "data": {
      "image/png": "[encoded data removed]",
      "text/plain": [
       "<Figure size 1500x700 with 1 Axes>"
      ]
     },
     "metadata": {},
     "output_type": "display_data"
    }
   ],
   "source": [
    "from wordcloud import WordCloud \n",
    "import os\n",
    "import matplotlib.pyplot as plt\n",
    "from wordcloud import WordCloud\n",
    "wordCloud = WordCloud(\n",
    "    background_color='white',\n",
    "    max_font_size = 50).generate(' '.join(data.country))\n",
    "plt.figure(figsize=(15,7))\n",
    "plt.axis('off')\n",
    "plt.imshow(wordCloud)\n",
    "plt.show()"
   ]
  },
  {
   "cell_type": "code",
   "execution_count": 83,
   "id": "90936bad",
   "metadata": {},
   "outputs": [
    {
     "data": {
      "text/html": [
       "<div>\n",
       "<style scoped>\n",
       "    .dataframe tbody tr th:only-of-type {\n",
       "        vertical-align: middle;\n",
       "    }\n",
       "\n",
       "    .dataframe tbody tr th {\n",
       "        vertical-align: top;\n",
       "    }\n",
       "\n",
       "    .dataframe thead th {\n",
       "        text-align: right;\n",
       "    }\n",
       "</style>\n",
       "<table border=\"1\" class=\"dataframe\">\n",
       "  <thead>\n",
       "    <tr style=\"text-align: right;\">\n",
       "      <th></th>\n",
       "      <th>daily_vaccinations</th>\n",
       "    </tr>\n",
       "  </thead>\n",
       "  <tbody>\n",
       "    <tr>\n",
       "      <th>United States</th>\n",
       "      <td>18990938.0</td>\n",
       "    </tr>\n",
       "    <tr>\n",
       "      <th>China</th>\n",
       "      <td>11919643.0</td>\n",
       "    </tr>\n",
       "    <tr>\n",
       "      <th>United Kingdom</th>\n",
       "      <td>5368839.0</td>\n",
       "    </tr>\n",
       "    <tr>\n",
       "      <th>England</th>\n",
       "      <td>4694078.0</td>\n",
       "    </tr>\n",
       "    <tr>\n",
       "      <th>Israel</th>\n",
       "      <td>3451711.0</td>\n",
       "    </tr>\n",
       "    <tr>\n",
       "      <th>Turkey</th>\n",
       "      <td>1891715.0</td>\n",
       "    </tr>\n",
       "    <tr>\n",
       "      <th>India</th>\n",
       "      <td>1778976.0</td>\n",
       "    </tr>\n",
       "    <tr>\n",
       "      <th>United Arab Emirates</th>\n",
       "      <td>1615863.0</td>\n",
       "    </tr>\n",
       "    <tr>\n",
       "      <th>Germany</th>\n",
       "      <td>1596597.0</td>\n",
       "    </tr>\n",
       "    <tr>\n",
       "      <th>Italy</th>\n",
       "      <td>1332673.0</td>\n",
       "    </tr>\n",
       "    <tr>\n",
       "      <th>Spain</th>\n",
       "      <td>1191691.0</td>\n",
       "    </tr>\n",
       "    <tr>\n",
       "      <th>Russia</th>\n",
       "      <td>927026.0</td>\n",
       "    </tr>\n",
       "    <tr>\n",
       "      <th>France</th>\n",
       "      <td>919019.0</td>\n",
       "    </tr>\n",
       "    <tr>\n",
       "      <th>Canada</th>\n",
       "      <td>765146.0</td>\n",
       "    </tr>\n",
       "    <tr>\n",
       "      <th>Poland</th>\n",
       "      <td>655312.0</td>\n",
       "    </tr>\n",
       "    <tr>\n",
       "      <th>Mexico</th>\n",
       "      <td>581964.0</td>\n",
       "    </tr>\n",
       "    <tr>\n",
       "      <th>Romania</th>\n",
       "      <td>383659.0</td>\n",
       "    </tr>\n",
       "    <tr>\n",
       "      <th>Scotland</th>\n",
       "      <td>358781.0</td>\n",
       "    </tr>\n",
       "    <tr>\n",
       "      <th>Brazil</th>\n",
       "      <td>343035.0</td>\n",
       "    </tr>\n",
       "    <tr>\n",
       "      <th>Argentina</th>\n",
       "      <td>309061.0</td>\n",
       "    </tr>\n",
       "    <tr>\n",
       "      <th>Wales</th>\n",
       "      <td>215469.0</td>\n",
       "    </tr>\n",
       "    <tr>\n",
       "      <th>Portugal</th>\n",
       "      <td>213734.0</td>\n",
       "    </tr>\n",
       "    <tr>\n",
       "      <th>Saudi Arabia</th>\n",
       "      <td>211705.0</td>\n",
       "    </tr>\n",
       "    <tr>\n",
       "      <th>Denmark</th>\n",
       "      <td>206146.0</td>\n",
       "    </tr>\n",
       "    <tr>\n",
       "      <th>Czechia</th>\n",
       "      <td>186394.0</td>\n",
       "    </tr>\n",
       "    <tr>\n",
       "      <th>Northern Ireland</th>\n",
       "      <td>172088.0</td>\n",
       "    </tr>\n",
       "    <tr>\n",
       "      <th>Indonesia</th>\n",
       "      <td>168261.0</td>\n",
       "    </tr>\n",
       "    <tr>\n",
       "      <th>Austria</th>\n",
       "      <td>160064.0</td>\n",
       "    </tr>\n",
       "    <tr>\n",
       "      <th>Hungary</th>\n",
       "      <td>147175.0</td>\n",
       "    </tr>\n",
       "    <tr>\n",
       "      <th>Greece</th>\n",
       "      <td>139628.0</td>\n",
       "    </tr>\n",
       "    <tr>\n",
       "      <th>Belgium</th>\n",
       "      <td>139497.0</td>\n",
       "    </tr>\n",
       "    <tr>\n",
       "      <th>Serbia</th>\n",
       "      <td>129593.0</td>\n",
       "    </tr>\n",
       "    <tr>\n",
       "      <th>Ireland</th>\n",
       "      <td>125638.0</td>\n",
       "    </tr>\n",
       "    <tr>\n",
       "      <th>Sweden</th>\n",
       "      <td>125389.0</td>\n",
       "    </tr>\n",
       "    <tr>\n",
       "      <th>Switzerland</th>\n",
       "      <td>119239.0</td>\n",
       "    </tr>\n",
       "    <tr>\n",
       "      <th>Netherlands</th>\n",
       "      <td>115472.0</td>\n",
       "    </tr>\n",
       "    <tr>\n",
       "      <th>Bahrain</th>\n",
       "      <td>114506.0</td>\n",
       "    </tr>\n",
       "    <tr>\n",
       "      <th>Finland</th>\n",
       "      <td>85460.0</td>\n",
       "    </tr>\n",
       "    <tr>\n",
       "      <th>Slovakia</th>\n",
       "      <td>82443.0</td>\n",
       "    </tr>\n",
       "    <tr>\n",
       "      <th>Norway</th>\n",
       "      <td>71592.0</td>\n",
       "    </tr>\n",
       "    <tr>\n",
       "      <th>Lithuania</th>\n",
       "      <td>71120.0</td>\n",
       "    </tr>\n",
       "    <tr>\n",
       "      <th>Chile</th>\n",
       "      <td>70078.0</td>\n",
       "    </tr>\n",
       "    <tr>\n",
       "      <th>Croatia</th>\n",
       "      <td>58762.0</td>\n",
       "    </tr>\n",
       "    <tr>\n",
       "      <th>Singapore</th>\n",
       "      <td>52490.0</td>\n",
       "    </tr>\n",
       "    <tr>\n",
       "      <th>Slovenia</th>\n",
       "      <td>49932.0</td>\n",
       "    </tr>\n",
       "    <tr>\n",
       "      <th>Oman</th>\n",
       "      <td>32549.0</td>\n",
       "    </tr>\n",
       "    <tr>\n",
       "      <th>Bulgaria</th>\n",
       "      <td>28259.0</td>\n",
       "    </tr>\n",
       "    <tr>\n",
       "      <th>Costa Rica</th>\n",
       "      <td>24969.0</td>\n",
       "    </tr>\n",
       "    <tr>\n",
       "      <th>Estonia</th>\n",
       "      <td>24448.0</td>\n",
       "    </tr>\n",
       "    <tr>\n",
       "      <th>Latvia</th>\n",
       "      <td>20287.0</td>\n",
       "    </tr>\n",
       "    <tr>\n",
       "      <th>Malta</th>\n",
       "      <td>17191.0</td>\n",
       "    </tr>\n",
       "    <tr>\n",
       "      <th>Seychelles</th>\n",
       "      <td>14751.0</td>\n",
       "    </tr>\n",
       "    <tr>\n",
       "      <th>Cyprus</th>\n",
       "      <td>12047.0</td>\n",
       "    </tr>\n",
       "    <tr>\n",
       "      <th>Gibraltar</th>\n",
       "      <td>10780.0</td>\n",
       "    </tr>\n",
       "    <tr>\n",
       "      <th>Panama</th>\n",
       "      <td>5746.0</td>\n",
       "    </tr>\n",
       "    <tr>\n",
       "      <th>Luxembourg</th>\n",
       "      <td>5454.0</td>\n",
       "    </tr>\n",
       "    <tr>\n",
       "      <th>Iceland</th>\n",
       "      <td>5367.0</td>\n",
       "    </tr>\n",
       "    <tr>\n",
       "      <th>Isle of Man</th>\n",
       "      <td>546.0</td>\n",
       "    </tr>\n",
       "    <tr>\n",
       "      <th>Ecuador</th>\n",
       "      <td>108.0</td>\n",
       "    </tr>\n",
       "    <tr>\n",
       "      <th>Kuwait</th>\n",
       "      <td>0.0</td>\n",
       "    </tr>\n",
       "  </tbody>\n",
       "</table>\n",
       "</div>"
      ],
      "text/plain": [
       "                      daily_vaccinations\n",
       "United States                 18990938.0\n",
       "China                         11919643.0\n",
       "United Kingdom                 5368839.0\n",
       "England                        4694078.0\n",
       "Israel                         3451711.0\n",
       "Turkey                         1891715.0\n",
       "India                          1778976.0\n",
       "United Arab Emirates           1615863.0\n",
       "Germany                        1596597.0\n",
       "Italy                          1332673.0\n",
       "Spain                          1191691.0\n",
       "Russia                          927026.0\n",
       "France                          919019.0\n",
       "Canada                          765146.0\n",
       "Poland                          655312.0\n",
       "Mexico                          581964.0\n",
       "Romania                         383659.0\n",
       "Scotland                        358781.0\n",
       "Brazil                          343035.0\n",
       "Argentina                       309061.0\n",
       "Wales                           215469.0\n",
       "Portugal                        213734.0\n",
       "Saudi Arabia                    211705.0\n",
       "Denmark                         206146.0\n",
       "Czechia                         186394.0\n",
       "Northern Ireland                172088.0\n",
       "Indonesia                       168261.0\n",
       "Austria                         160064.0\n",
       "Hungary                         147175.0\n",
       "Greece                          139628.0\n",
       "Belgium                         139497.0\n",
       "Serbia                          129593.0\n",
       "Ireland                         125638.0\n",
       "Sweden                          125389.0\n",
       "Switzerland                     119239.0\n",
       "Netherlands                     115472.0\n",
       "Bahrain                         114506.0\n",
       "Finland                          85460.0\n",
       "Slovakia                         82443.0\n",
       "Norway                           71592.0\n",
       "Lithuania                        71120.0\n",
       "Chile                            70078.0\n",
       "Croatia                          58762.0\n",
       "Singapore                        52490.0\n",
       "Slovenia                         49932.0\n",
       "Oman                             32549.0\n",
       "Bulgaria                         28259.0\n",
       "Costa Rica                       24969.0\n",
       "Estonia                          24448.0\n",
       "Latvia                           20287.0\n",
       "Malta                            17191.0\n",
       "Seychelles                       14751.0\n",
       "Cyprus                           12047.0\n",
       "Gibraltar                        10780.0\n",
       "Panama                            5746.0\n",
       "Luxembourg                        5454.0\n",
       "Iceland                           5367.0\n",
       "Isle of Man                        546.0\n",
       "Ecuador                            108.0\n",
       "Kuwait                               0.0"
      ]
     },
     "execution_count": 83,
     "metadata": {},
     "output_type": "execute_result"
    }
   ],
   "source": [
    "country_wise_total_vaccinated = {}\n",
    "for country in data.country.unique() : \n",
    "    vaccinated = 0\n",
    "    for i in range(len(data)) : \n",
    "        if data.country[i] == country : \n",
    "            vaccinated += data.daily_vaccinations[i]\n",
    "    country_wise_total_vaccinated[country] = vaccinated \n",
    "#     made a seperate dict from the df \n",
    "    country_wise_total_vaccinated_data = pd.DataFrame.from_dict(country_wise_total_vaccinated,\n",
    "                                                         orient='index',\n",
    "                                                         columns = ['daily_vaccinations'])\n",
    "#     converted dict to df \n",
    "country_wise_total_vaccinated_data.sort_values(by = 'daily_vaccinations', ascending = False, inplace = True)\n",
    "country_wise_total_vaccinated_data"
   ]
  },
  {
   "cell_type": "code",
   "execution_count": 103,
   "id": "390504f8",
   "metadata": {},
   "outputs": [
    {
     "name": "stdout",
     "output_type": "stream",
     "text": [
      "\n",
      "DirectoryNotACondaEnvironmentError: The target directory exists, but it is not a conda environment.\n",
      "Use 'conda create' to convert the directory to a conda environment.\n",
      "  target directory: /Library/Frameworks/Python.framework/Versions/3.10\n",
      "\n",
      "\n",
      "Requirement already satisfied: plotly in /Library/Frameworks/Python.framework/Versions/3.10/lib/python3.10/site-packages (5.10.0)\n",
      "Requirement already satisfied: tenacity>=6.2.0 in /Library/Frameworks/Python.framework/Versions/3.10/lib/python3.10/site-packages (from plotly) (8.1.0)\n"
     ]
    }
   ],
   "source": [
    "import sys\n",
    "!conda install --yes --prefix {sys.prefix} plotly\n",
    "!pip install plotly"
   ]
  },
  {
   "cell_type": "code",
   "execution_count": 141,
   "id": "85cf5098",
   "metadata": {
    "scrolled": false
   },
   "outputs": [
    {
     "data": {
      "application/vnd.plotly.v1+json": {
       "config": {
        "plotlyServerURL": "https://plot.ly"
       },
       "data": [
        {
         "hovertemplate": "country=Argentina<br>date=%{x}<br>daily_vaccinations=%{y}<extra></extra>",
         "legendgroup": "Argentina",
         "line": {
          "color": "#636efa",
          "dash": "solid"
         },
         "marker": {
          "symbol": "circle"
         },
         "mode": "lines",
         "name": "Argentina",
         "showlegend": true,
         "type": "scattergl",
         "x": [
          "12/29/2020",
          "12/30/2020",
          "12/31/2020",
          "1/1/2021",
          "1/2/2021",
          "1/3/2021",
          "1/4/2021",
          "1/5/2021",
          "1/6/2021",
          "1/7/2021",
          "1/8/2021",
          "1/9/2021",
          "1/10/2021",
          "1/11/2021",
          "1/12/2021",
          "1/13/2021",
          "1/14/2021",
          "1/15/2021",
          "1/16/2021",
          "1/17/2021",
          "1/18/2021",
          "1/19/2021",
          "1/20/2021",
          "1/21/2021",
          "1/22/2021",
          "1/23/2021",
          "1/24/2021",
          "1/25/2021"
         ],
         "xaxis": "x",
         "y": [
          0,
          15656,
          15656,
          11070,
          8776,
          7400,
          6483,
          7984,
          8173,
          8363,
          10519,
          11942,
          13365,
          14788,
          14056,
          13323,
          13320,
          13317,
          12971,
          12624,
          12278,
          11932,
          11586,
          11704,
          11263,
          11124,
          10342,
          9046
         ],
         "yaxis": "y"
        },
        {
         "hovertemplate": "country=Austria<br>date=%{x}<br>daily_vaccinations=%{y}<extra></extra>",
         "legendgroup": "Austria",
         "line": {
          "color": "#EF553B",
          "dash": "solid"
         },
         "marker": {
          "symbol": "circle"
         },
         "mode": "lines",
         "name": "Austria",
         "showlegend": true,
         "type": "scattergl",
         "x": [
          "1/5/2021",
          "1/6/2021",
          "1/7/2021",
          "1/8/2021",
          "1/9/2021",
          "1/10/2021",
          "1/11/2021",
          "1/12/2021",
          "1/13/2021",
          "1/14/2021",
          "1/15/2021",
          "1/16/2021",
          "1/17/2021",
          "1/18/2021",
          "1/19/2021",
          "1/20/2021",
          "1/21/2021",
          "1/22/2021",
          "1/23/2021",
          "1/24/2021"
         ],
         "xaxis": "x",
         "y": [
          0,
          3368,
          3368,
          7263,
          5791,
          4705,
          5031,
          6366,
          7365,
          8429,
          7747,
          7953,
          10129,
          11852,
          12472,
          12489,
          12552,
          11797,
          11765,
          9622
         ],
         "yaxis": "y"
        },
        {
         "hovertemplate": "country=Bahrain<br>date=%{x}<br>daily_vaccinations=%{y}<extra></extra>",
         "legendgroup": "Bahrain",
         "line": {
          "color": "#00cc96",
          "dash": "solid"
         },
         "marker": {
          "symbol": "circle"
         },
         "mode": "lines",
         "name": "Bahrain",
         "showlegend": true,
         "type": "scattergl",
         "x": [
          "12/23/2020",
          "12/24/2020",
          "12/25/2020",
          "12/26/2020",
          "12/27/2020",
          "12/28/2020",
          "12/29/2020",
          "12/30/2020",
          "12/31/2020",
          "1/1/2021",
          "1/2/2021",
          "1/3/2021",
          "1/4/2021",
          "1/5/2021",
          "1/6/2021",
          "1/7/2021",
          "1/8/2021",
          "1/9/2021",
          "1/10/2021",
          "1/11/2021",
          "1/12/2021",
          "1/13/2021",
          "1/14/2021",
          "1/15/2021",
          "1/16/2021",
          "1/17/2021",
          "1/18/2021",
          "1/19/2021",
          "1/20/2021"
         ],
         "xaxis": "x",
         "y": [
          0,
          11106,
          5789,
          4197,
          3662,
          3210,
          2846,
          2622,
          1225,
          1258,
          1220,
          1011,
          943,
          1122,
          1594,
          1942,
          2706,
          3437,
          4080,
          4427,
          4840,
          4699,
          5332,
          6361,
          7572,
          7473,
          7176,
          6546,
          6110
         ],
         "yaxis": "y"
        },
        {
         "hovertemplate": "country=Belgium<br>date=%{x}<br>daily_vaccinations=%{y}<extra></extra>",
         "legendgroup": "Belgium",
         "line": {
          "color": "#ab63fa",
          "dash": "solid"
         },
         "marker": {
          "symbol": "circle"
         },
         "mode": "lines",
         "name": "Belgium",
         "showlegend": true,
         "type": "scattergl",
         "x": [
          "12/28/2020",
          "12/29/2020",
          "12/30/2020",
          "12/31/2020",
          "1/1/2021",
          "1/2/2021",
          "1/3/2021",
          "1/4/2021",
          "1/5/2021",
          "1/6/2021",
          "1/7/2021",
          "1/8/2021",
          "1/9/2021",
          "1/10/2021",
          "1/11/2021",
          "1/12/2021",
          "1/13/2021",
          "1/14/2021",
          "1/15/2021",
          "1/16/2021",
          "1/17/2021",
          "1/18/2021",
          "1/19/2021",
          "1/20/2021",
          "1/21/2021",
          "1/22/2021"
         ],
         "xaxis": "x",
         "y": [
          0,
          1,
          234,
          159,
          122,
          97,
          81,
          70,
          283,
          736,
          1855,
          3134,
          3578,
          3634,
          4398,
          6284,
          8558,
          10320,
          12023,
          12246,
          12582,
          13135,
          13001,
          12222,
          11112,
          9632
         ],
         "yaxis": "y"
        },
        {
         "hovertemplate": "country=Brazil<br>date=%{x}<br>daily_vaccinations=%{y}<extra></extra>",
         "legendgroup": "Brazil",
         "line": {
          "color": "#FFA15A",
          "dash": "solid"
         },
         "marker": {
          "symbol": "circle"
         },
         "mode": "lines",
         "name": "Brazil",
         "showlegend": true,
         "type": "scattergl",
         "x": [
          "1/16/2021",
          "1/17/2021",
          "1/18/2021",
          "1/19/2021",
          "1/20/2021",
          "1/21/2021",
          "1/22/2021",
          "1/23/2021",
          "1/24/2021",
          "1/25/2021"
         ],
         "xaxis": "x",
         "y": [
          0,
          112,
          554,
          3823,
          7136,
          27304,
          40980,
          76825,
          86373,
          99928
         ],
         "yaxis": "y"
        },
        {
         "hovertemplate": "country=Bulgaria<br>date=%{x}<br>daily_vaccinations=%{y}<extra></extra>",
         "legendgroup": "Bulgaria",
         "line": {
          "color": "#19d3f3",
          "dash": "solid"
         },
         "marker": {
          "symbol": "circle"
         },
         "mode": "lines",
         "name": "Bulgaria",
         "showlegend": true,
         "type": "scattergl",
         "x": [
          "12/29/2020",
          "12/30/2020",
          "12/31/2020",
          "1/1/2021",
          "1/2/2021",
          "1/3/2021",
          "1/4/2021",
          "1/5/2021",
          "1/6/2021",
          "1/7/2021",
          "1/8/2021",
          "1/9/2021",
          "1/10/2021",
          "1/11/2021",
          "1/12/2021",
          "1/13/2021",
          "1/14/2021",
          "1/15/2021",
          "1/16/2021",
          "1/17/2021",
          "1/18/2021",
          "1/19/2021",
          "1/20/2021",
          "1/21/2021",
          "1/22/2021",
          "1/23/2021",
          "1/24/2021",
          "1/25/2021"
         ],
         "xaxis": "x",
         "y": [
          0,
          2889,
          1477,
          1007,
          799,
          675,
          592,
          533,
          472,
          920,
          1231,
          1222,
          1246,
          1270,
          1476,
          1304,
          938,
          682,
          694,
          662,
          782,
          921,
          1013,
          1081,
          1139,
          1112,
          1099,
          1023
         ],
         "yaxis": "y"
        },
        {
         "hovertemplate": "country=Canada<br>date=%{x}<br>daily_vaccinations=%{y}<extra></extra>",
         "legendgroup": "Canada",
         "line": {
          "color": "#FF6692",
          "dash": "solid"
         },
         "marker": {
          "symbol": "circle"
         },
         "mode": "lines",
         "name": "Canada",
         "showlegend": true,
         "type": "scattergl",
         "x": [
          "12/14/2020",
          "12/15/2020",
          "12/16/2020",
          "12/17/2020",
          "12/18/2020",
          "12/19/2020",
          "12/20/2020",
          "12/21/2020",
          "12/22/2020",
          "12/23/2020",
          "12/24/2020",
          "12/25/2020",
          "12/26/2020",
          "12/27/2020",
          "12/28/2020",
          "12/29/2020",
          "12/30/2020",
          "12/31/2020",
          "1/1/2021",
          "1/2/2021",
          "1/3/2021",
          "1/4/2021",
          "1/5/2021",
          "1/6/2021",
          "1/7/2021",
          "1/8/2021",
          "1/9/2021",
          "1/10/2021",
          "1/11/2021",
          "1/12/2021",
          "1/13/2021",
          "1/14/2021",
          "1/15/2021",
          "1/16/2021",
          "1/17/2021",
          "1/18/2021",
          "1/19/2021",
          "1/20/2021",
          "1/21/2021",
          "1/22/2021",
          "1/23/2021",
          "1/24/2021",
          "1/25/2021"
         ],
         "xaxis": "x",
         "y": [
          0,
          866,
          1693,
          2301,
          2580,
          2319,
          2366,
          2938,
          3589,
          4487,
          5457,
          5012,
          5261,
          5398,
          5512,
          6352,
          6342,
          7205,
          8378,
          9101,
          9350,
          11044,
          12111,
          14887,
          17662,
          22412,
          26418,
          29046,
          31914,
          33281,
          33646,
          34290,
          35208,
          35134,
          35670,
          36358,
          37521,
          39576,
          39910,
          38417,
          36850,
          35101,
          32183
         ],
         "yaxis": "y"
        },
        {
         "hovertemplate": "country=Chile<br>date=%{x}<br>daily_vaccinations=%{y}<extra></extra>",
         "legendgroup": "Chile",
         "line": {
          "color": "#B6E880",
          "dash": "solid"
         },
         "marker": {
          "symbol": "circle"
         },
         "mode": "lines",
         "name": "Chile",
         "showlegend": true,
         "type": "scattergl",
         "x": [
          "12/24/2020",
          "12/25/2020",
          "12/26/2020",
          "12/27/2020",
          "12/28/2020",
          "12/29/2020",
          "12/30/2020",
          "12/31/2020",
          "1/1/2021",
          "1/2/2021",
          "1/3/2021",
          "1/4/2021",
          "1/5/2021",
          "1/6/2021",
          "1/7/2021",
          "1/8/2021",
          "1/9/2021",
          "1/10/2021",
          "1/11/2021",
          "1/12/2021",
          "1/13/2021",
          "1/14/2021",
          "1/15/2021",
          "1/16/2021",
          "1/17/2021",
          "1/18/2021",
          "1/19/2021",
          "1/20/2021",
          "1/21/2021",
          "1/22/2021",
          "1/23/2021",
          "1/24/2021",
          "1/25/2021"
         ],
         "xaxis": "x",
         "y": [
          0,
          4771,
          3958,
          2742,
          2069,
          1665,
          1396,
          1204,
          530,
          88,
          51,
          51,
          250,
          272,
          344,
          417,
          489,
          562,
          635,
          508,
          559,
          1038,
          1437,
          1366,
          1291,
          2699,
          5267,
          5632,
          6328,
          5882,
          6000,
          6020,
          4557
         ],
         "yaxis": "y"
        },
        {
         "hovertemplate": "country=China<br>date=%{x}<br>daily_vaccinations=%{y}<extra></extra>",
         "legendgroup": "China",
         "line": {
          "color": "#FF97FF",
          "dash": "solid"
         },
         "marker": {
          "symbol": "circle"
         },
         "mode": "lines",
         "name": "China",
         "showlegend": true,
         "type": "scattergl",
         "x": [
          "12/15/2020",
          "12/16/2020",
          "12/17/2020",
          "12/18/2020",
          "12/19/2020",
          "12/20/2020",
          "12/21/2020",
          "12/22/2020",
          "12/23/2020",
          "12/24/2020",
          "12/25/2020",
          "12/26/2020",
          "12/27/2020",
          "12/28/2020",
          "12/29/2020",
          "12/30/2020",
          "12/31/2020",
          "1/1/2021",
          "1/2/2021",
          "1/3/2021",
          "1/4/2021",
          "1/5/2021",
          "1/6/2021",
          "1/7/2021",
          "1/8/2021",
          "1/9/2021",
          "1/10/2021",
          "1/11/2021",
          "1/12/2021",
          "1/13/2021",
          "1/14/2021",
          "1/15/2021",
          "1/16/2021",
          "1/17/2021",
          "1/18/2021",
          "1/19/2021",
          "1/20/2021"
         ],
         "xaxis": "x",
         "y": [
          0,
          187500,
          187500,
          187500,
          187500,
          187500,
          187500,
          187500,
          187500,
          187500,
          187500,
          187500,
          187500,
          187500,
          187500,
          187500,
          187500,
          232143,
          276786,
          321429,
          366071,
          410714,
          455357,
          500000,
          500000,
          500000,
          464286,
          428571,
          392857,
          357143,
          387755,
          418367,
          448980,
          515306,
          581633,
          647959,
          714286
         ],
         "yaxis": "y"
        },
        {
         "hovertemplate": "country=Costa Rica<br>date=%{x}<br>daily_vaccinations=%{y}<extra></extra>",
         "legendgroup": "Costa Rica",
         "line": {
          "color": "#FECB52",
          "dash": "solid"
         },
         "marker": {
          "symbol": "circle"
         },
         "mode": "lines",
         "name": "Costa Rica",
         "showlegend": true,
         "type": "scattergl",
         "x": [
          "12/24/2020",
          "12/25/2020",
          "12/26/2020",
          "12/27/2020",
          "12/28/2020",
          "12/29/2020",
          "12/30/2020",
          "12/31/2020",
          "1/1/2021",
          "1/2/2021",
          "1/3/2021",
          "1/4/2021",
          "1/5/2021",
          "1/6/2021",
          "1/7/2021",
          "1/8/2021",
          "1/9/2021",
          "1/10/2021",
          "1/11/2021",
          "1/12/2021",
          "1/13/2021",
          "1/14/2021",
          "1/15/2021",
          "1/16/2021",
          "1/17/2021",
          "1/18/2021"
         ],
         "xaxis": "x",
         "y": [
          0,
          240,
          240,
          240,
          240,
          240,
          240,
          240,
          240,
          240,
          240,
          414,
          588,
          763,
          937,
          1111,
          1385,
          1659,
          1759,
          1859,
          1959,
          2058,
          2158,
          2066,
          1973,
          1880
         ],
         "yaxis": "y"
        },
        {
         "hovertemplate": "country=Croatia<br>date=%{x}<br>daily_vaccinations=%{y}<extra></extra>",
         "legendgroup": "Croatia",
         "line": {
          "color": "#636efa",
          "dash": "solid"
         },
         "marker": {
          "symbol": "circle"
         },
         "mode": "lines",
         "name": "Croatia",
         "showlegend": true,
         "type": "scattergl",
         "x": [
          "12/30/2020",
          "12/31/2020",
          "1/1/2021",
          "1/2/2021",
          "1/3/2021",
          "1/4/2021",
          "1/5/2021",
          "1/6/2021",
          "1/7/2021",
          "1/8/2021",
          "1/9/2021",
          "1/10/2021",
          "1/11/2021",
          "1/12/2021",
          "1/13/2021",
          "1/14/2021",
          "1/15/2021",
          "1/16/2021",
          "1/17/2021",
          "1/18/2021",
          "1/19/2021",
          "1/20/2021",
          "1/21/2021",
          "1/22/2021",
          "1/23/2021",
          "1/24/2021",
          "1/25/2021"
         ],
         "xaxis": "x",
         "y": [
          0,
          1105,
          1105,
          1105,
          1105,
          1036,
          989,
          1334,
          1662,
          2130,
          2689,
          2693,
          2748,
          2802,
          2479,
          2485,
          2364,
          2272,
          2510,
          2747,
          2984,
          3329,
          3343,
          3346,
          2960,
          2800,
          2640
         ],
         "yaxis": "y"
        },
        {
         "hovertemplate": "country=Cyprus<br>date=%{x}<br>daily_vaccinations=%{y}<extra></extra>",
         "legendgroup": "Cyprus",
         "line": {
          "color": "#EF553B",
          "dash": "solid"
         },
         "marker": {
          "symbol": "circle"
         },
         "mode": "lines",
         "name": "Cyprus",
         "showlegend": true,
         "type": "scattergl",
         "x": [
          "1/6/2021",
          "1/7/2021",
          "1/8/2021",
          "1/9/2021",
          "1/10/2021",
          "1/11/2021",
          "1/12/2021",
          "1/13/2021",
          "1/14/2021",
          "1/15/2021",
          "1/16/2021",
          "1/17/2021",
          "1/18/2021",
          "1/19/2021",
          "1/20/2021",
          "1/21/2021",
          "1/22/2021"
         ],
         "xaxis": "x",
         "y": [
          0,
          534,
          534,
          534,
          534,
          594,
          635,
          664,
          708,
          751,
          821,
          891,
          917,
          943,
          969,
          996,
          1022
         ],
         "yaxis": "y"
        },
        {
         "hovertemplate": "country=Czechia<br>date=%{x}<br>daily_vaccinations=%{y}<extra></extra>",
         "legendgroup": "Czechia",
         "line": {
          "color": "#00cc96",
          "dash": "solid"
         },
         "marker": {
          "symbol": "circle"
         },
         "mode": "lines",
         "name": "Czechia",
         "showlegend": true,
         "type": "scattergl",
         "x": [
          "12/27/2020",
          "12/28/2020",
          "12/29/2020",
          "12/30/2020",
          "12/31/2020",
          "1/1/2021",
          "1/2/2021",
          "1/3/2021",
          "1/4/2021",
          "1/5/2021",
          "1/6/2021",
          "1/7/2021",
          "1/8/2021",
          "1/9/2021",
          "1/10/2021",
          "1/11/2021",
          "1/12/2021",
          "1/13/2021",
          "1/14/2021",
          "1/15/2021",
          "1/16/2021",
          "1/17/2021",
          "1/18/2021",
          "1/19/2021",
          "1/20/2021",
          "1/21/2021",
          "1/22/2021",
          "1/23/2021",
          "1/24/2021",
          "1/25/2021"
         ],
         "xaxis": "x",
         "y": [
          0,
          2229,
          2798,
          3010,
          2583,
          2119,
          1974,
          1822,
          1994,
          2128,
          2439,
          3361,
          4730,
          4832,
          4944,
          5812,
          7042,
          8132,
          9103,
          9588,
          9771,
          9963,
          10515,
          10743,
          10919,
          11087,
          11174,
          11220,
          11136,
          9226
         ],
         "yaxis": "y"
        },
        {
         "hovertemplate": "country=Denmark<br>date=%{x}<br>daily_vaccinations=%{y}<extra></extra>",
         "legendgroup": "Denmark",
         "line": {
          "color": "#ab63fa",
          "dash": "solid"
         },
         "marker": {
          "symbol": "circle"
         },
         "mode": "lines",
         "name": "Denmark",
         "showlegend": true,
         "type": "scattergl",
         "x": [
          "12/27/2020",
          "12/28/2020",
          "12/29/2020",
          "12/30/2020",
          "12/31/2020",
          "1/1/2021",
          "1/2/2021",
          "1/3/2021",
          "1/4/2021",
          "1/5/2021",
          "1/6/2021",
          "1/7/2021",
          "1/8/2021",
          "1/9/2021",
          "1/10/2021",
          "1/11/2021",
          "1/12/2021",
          "1/13/2021",
          "1/14/2021",
          "1/15/2021",
          "1/16/2021",
          "1/17/2021",
          "1/18/2021",
          "1/19/2021",
          "1/20/2021",
          "1/21/2021",
          "1/22/2021",
          "1/23/2021",
          "1/24/2021",
          "1/25/2021"
         ],
         "xaxis": "x",
         "y": [
          0,
          1994,
          5527,
          7525,
          7223,
          6254,
          6712,
          6616,
          6679,
          7319,
          8525,
          10138,
          11022,
          10008,
          9261,
          9008,
          7139,
          6098,
          6122,
          7052,
          7451,
          7800,
          8567,
          9160,
          7840,
          5852,
          4568,
          4948,
          5299,
          4439
         ],
         "yaxis": "y"
        },
        {
         "hovertemplate": "country=Ecuador<br>date=%{x}<br>daily_vaccinations=%{y}<extra></extra>",
         "legendgroup": "Ecuador",
         "line": {
          "color": "#FFA15A",
          "dash": "solid"
         },
         "marker": {
          "symbol": "circle"
         },
         "mode": "lines",
         "name": "Ecuador",
         "showlegend": true,
         "type": "scattergl",
         "x": [
          "1/21/2021",
          "1/22/2021"
         ],
         "xaxis": "x",
         "y": [
          0,
          108
         ],
         "yaxis": "y"
        },
        {
         "hovertemplate": "country=England<br>date=%{x}<br>daily_vaccinations=%{y}<extra></extra>",
         "legendgroup": "England",
         "line": {
          "color": "#19d3f3",
          "dash": "solid"
         },
         "marker": {
          "symbol": "circle"
         },
         "mode": "lines",
         "name": "England",
         "showlegend": true,
         "type": "scattergl",
         "x": [
          "12/20/2020",
          "12/21/2020",
          "12/22/2020",
          "12/23/2020",
          "12/24/2020",
          "12/25/2020",
          "12/26/2020",
          "12/27/2020",
          "12/28/2020",
          "12/29/2020",
          "12/30/2020",
          "12/31/2020",
          "1/1/2021",
          "1/2/2021",
          "1/3/2021",
          "1/4/2021",
          "1/5/2021",
          "1/6/2021",
          "1/7/2021",
          "1/8/2021",
          "1/9/2021",
          "1/10/2021",
          "1/11/2021",
          "1/12/2021",
          "1/13/2021",
          "1/14/2021",
          "1/15/2021",
          "1/16/2021",
          "1/17/2021",
          "1/18/2021",
          "1/19/2021",
          "1/20/2021",
          "1/21/2021",
          "1/22/2021",
          "1/23/2021",
          "1/24/2021"
         ],
         "xaxis": "x",
         "y": [
          0,
          37625,
          37625,
          37625,
          37625,
          37625,
          37625,
          37625,
          39253,
          40882,
          42511,
          44139,
          45768,
          47396,
          49025,
          65678,
          82331,
          98984,
          115637,
          132290,
          148943,
          165596,
          162002,
          165152,
          176950,
          193243,
          215973,
          231918,
          230525,
          234877,
          251122,
          261507,
          272972,
          287384,
          311226,
          317419
         ],
         "yaxis": "y"
        },
        {
         "hovertemplate": "country=Estonia<br>date=%{x}<br>daily_vaccinations=%{y}<extra></extra>",
         "legendgroup": "Estonia",
         "line": {
          "color": "#FF6692",
          "dash": "solid"
         },
         "marker": {
          "symbol": "circle"
         },
         "mode": "lines",
         "name": "Estonia",
         "showlegend": true,
         "type": "scattergl",
         "x": [
          "12/28/2020",
          "12/29/2020",
          "12/30/2020",
          "12/31/2020",
          "1/1/2021",
          "1/2/2021",
          "1/3/2021",
          "1/4/2021",
          "1/5/2021",
          "1/6/2021",
          "1/7/2021",
          "1/8/2021",
          "1/9/2021",
          "1/10/2021",
          "1/11/2021",
          "1/12/2021",
          "1/13/2021",
          "1/14/2021",
          "1/15/2021",
          "1/16/2021",
          "1/17/2021",
          "1/18/2021",
          "1/19/2021",
          "1/20/2021",
          "1/21/2021",
          "1/22/2021",
          "1/23/2021",
          "1/24/2021",
          "1/25/2021"
         ],
         "xaxis": "x",
         "y": [
          0,
          309,
          338,
          567,
          570,
          459,
          385,
          333,
          382,
          589,
          675,
          784,
          1099,
          1176,
          1205,
          1244,
          1210,
          1178,
          1243,
          1109,
          1061,
          1043,
          1060,
          1000,
          1015,
          1074,
          1106,
          1112,
          1122
         ],
         "yaxis": "y"
        },
        {
         "hovertemplate": "country=Finland<br>date=%{x}<br>daily_vaccinations=%{y}<extra></extra>",
         "legendgroup": "Finland",
         "line": {
          "color": "#B6E880",
          "dash": "solid"
         },
         "marker": {
          "symbol": "circle"
         },
         "mode": "lines",
         "name": "Finland",
         "showlegend": true,
         "type": "scattergl",
         "x": [
          "12/31/2020",
          "1/1/2021",
          "1/2/2021",
          "1/3/2021",
          "1/4/2021",
          "1/5/2021",
          "1/6/2021",
          "1/7/2021",
          "1/8/2021",
          "1/9/2021",
          "1/10/2021",
          "1/11/2021",
          "1/12/2021",
          "1/13/2021",
          "1/14/2021",
          "1/15/2021",
          "1/16/2021",
          "1/17/2021",
          "1/18/2021",
          "1/19/2021",
          "1/20/2021",
          "1/21/2021",
          "1/22/2021",
          "1/23/2021",
          "1/24/2021",
          "1/25/2021"
         ],
         "xaxis": "x",
         "y": [
          0,
          459,
          459,
          459,
          459,
          736,
          839,
          913,
          1273,
          1353,
          1433,
          1513,
          1739,
          2332,
          3554,
          4573,
          4971,
          5369,
          5767,
          5458,
          5562,
          6467,
          6874,
          7253,
          7633,
          8012
         ],
         "yaxis": "y"
        },
        {
         "hovertemplate": "country=France<br>date=%{x}<br>daily_vaccinations=%{y}<extra></extra>",
         "legendgroup": "France",
         "line": {
          "color": "#FF97FF",
          "dash": "solid"
         },
         "marker": {
          "symbol": "circle"
         },
         "mode": "lines",
         "name": "France",
         "showlegend": true,
         "type": "scattergl",
         "x": [
          "1/4/2021",
          "1/5/2021",
          "1/6/2021",
          "1/7/2021",
          "1/8/2021",
          "1/9/2021",
          "1/10/2021",
          "1/11/2021",
          "1/12/2021",
          "1/13/2021",
          "1/14/2021",
          "1/15/2021",
          "1/16/2021",
          "1/17/2021",
          "1/18/2021",
          "1/19/2021",
          "1/20/2021",
          "1/21/2021",
          "1/22/2021",
          "1/23/2021",
          "1/24/2021",
          "1/25/2021"
         ],
         "xaxis": "x",
         "y": [
          0,
          5000,
          8500,
          14667,
          20000,
          18800,
          17667,
          19622,
          26262,
          32738,
          39031,
          43961,
          45435,
          45018,
          48789,
          56547,
          63659,
          72193,
          82058,
          85096,
          86392,
          87584
         ],
         "yaxis": "y"
        },
        {
         "hovertemplate": "country=Germany<br>date=%{x}<br>daily_vaccinations=%{y}<extra></extra>",
         "legendgroup": "Germany",
         "line": {
          "color": "#FECB52",
          "dash": "solid"
         },
         "marker": {
          "symbol": "circle"
         },
         "mode": "lines",
         "name": "Germany",
         "showlegend": true,
         "type": "scattergl",
         "x": [
          "12/27/2020",
          "12/28/2020",
          "12/29/2020",
          "12/30/2020",
          "12/31/2020",
          "1/1/2021",
          "1/2/2021",
          "1/3/2021",
          "1/4/2021",
          "1/5/2021",
          "1/6/2021",
          "1/7/2021",
          "1/8/2021",
          "1/9/2021",
          "1/10/2021",
          "1/11/2021",
          "1/12/2021",
          "1/13/2021",
          "1/14/2021",
          "1/15/2021",
          "1/16/2021",
          "1/17/2021",
          "1/18/2021",
          "1/19/2021",
          "1/20/2021",
          "1/21/2021",
          "1/22/2021",
          "1/23/2021",
          "1/24/2021"
         ],
         "xaxis": "x",
         "y": [
          0,
          19721,
          31436,
          40119,
          39570,
          37778,
          38986,
          36924,
          41060,
          42191,
          42015,
          44865,
          48794,
          50053,
          51184,
          53647,
          57811,
          63158,
          69184,
          73836,
          73987,
          75782,
          76079,
          76635,
          80136,
          78281,
          80900,
          85088,
          87377
         ],
         "yaxis": "y"
        },
        {
         "hovertemplate": "country=Gibraltar<br>date=%{x}<br>daily_vaccinations=%{y}<extra></extra>",
         "legendgroup": "Gibraltar",
         "line": {
          "color": "#636efa",
          "dash": "solid"
         },
         "marker": {
          "symbol": "circle"
         },
         "mode": "lines",
         "name": "Gibraltar",
         "showlegend": true,
         "type": "scattergl",
         "x": [
          "1/10/2021",
          "1/11/2021",
          "1/12/2021",
          "1/13/2021",
          "1/14/2021",
          "1/15/2021",
          "1/16/2021",
          "1/17/2021",
          "1/18/2021",
          "1/19/2021",
          "1/20/2021",
          "1/21/2021",
          "1/22/2021",
          "1/23/2021",
          "1/24/2021"
         ],
         "xaxis": "x",
         "y": [
          0,
          1025,
          1040,
          986,
          959,
          943,
          904,
          775,
          713,
          645,
          520,
          527,
          535,
          566,
          642
         ],
         "yaxis": "y"
        },
        {
         "hovertemplate": "country=Greece<br>date=%{x}<br>daily_vaccinations=%{y}<extra></extra>",
         "legendgroup": "Greece",
         "line": {
          "color": "#EF553B",
          "dash": "solid"
         },
         "marker": {
          "symbol": "circle"
         },
         "mode": "lines",
         "name": "Greece",
         "showlegend": true,
         "type": "scattergl",
         "x": [
          "12/28/2020",
          "12/29/2020",
          "12/30/2020",
          "12/31/2020",
          "1/1/2021",
          "1/2/2021",
          "1/3/2021",
          "1/4/2021",
          "1/5/2021",
          "1/6/2021",
          "1/7/2021",
          "1/8/2021",
          "1/9/2021",
          "1/10/2021",
          "1/11/2021",
          "1/12/2021",
          "1/13/2021",
          "1/14/2021",
          "1/15/2021",
          "1/16/2021",
          "1/17/2021",
          "1/18/2021",
          "1/19/2021",
          "1/20/2021",
          "1/21/2021",
          "1/22/2021",
          "1/23/2021",
          "1/24/2021",
          "1/25/2021"
         ],
         "xaxis": "x",
         "y": [
          0,
          670,
          662,
          642,
          551,
          549,
          576,
          1370,
          2168,
          2680,
          3385,
          4599,
          5290,
          5748,
          5667,
          5709,
          6308,
          6384,
          5784,
          5654,
          5486,
          5083,
          5283,
          6102,
          7522,
          9371,
          11092,
          12128,
          13165
         ],
         "yaxis": "y"
        },
        {
         "hovertemplate": "country=Hungary<br>date=%{x}<br>daily_vaccinations=%{y}<extra></extra>",
         "legendgroup": "Hungary",
         "line": {
          "color": "#00cc96",
          "dash": "solid"
         },
         "marker": {
          "symbol": "circle"
         },
         "mode": "lines",
         "name": "Hungary",
         "showlegend": true,
         "type": "scattergl",
         "x": [
          "12/28/2020",
          "12/29/2020",
          "12/30/2020",
          "12/31/2020",
          "1/1/2021",
          "1/2/2021",
          "1/3/2021",
          "1/4/2021",
          "1/5/2021",
          "1/6/2021",
          "1/7/2021",
          "1/8/2021",
          "1/9/2021",
          "1/10/2021",
          "1/11/2021",
          "1/12/2021",
          "1/13/2021",
          "1/14/2021",
          "1/15/2021",
          "1/16/2021",
          "1/17/2021",
          "1/18/2021",
          "1/19/2021",
          "1/20/2021",
          "1/21/2021",
          "1/22/2021",
          "1/23/2021",
          "1/24/2021"
         ],
         "xaxis": "x",
         "y": [
          0,
          1367,
          1348,
          1339,
          1578,
          1722,
          1818,
          1987,
          2648,
          3959,
          5348,
          6375,
          7402,
          8429,
          9083,
          9418,
          9229,
          9026,
          8688,
          8347,
          7455,
          7536,
          6618,
          6069,
          5581,
          5326,
          4778,
          4701
         ],
         "yaxis": "y"
        },
        {
         "hovertemplate": "country=Iceland<br>date=%{x}<br>daily_vaccinations=%{y}<extra></extra>",
         "legendgroup": "Iceland",
         "line": {
          "color": "#ab63fa",
          "dash": "solid"
         },
         "marker": {
          "symbol": "circle"
         },
         "mode": "lines",
         "name": "Iceland",
         "showlegend": true,
         "type": "scattergl",
         "x": [
          "12/30/2020",
          "12/31/2020",
          "1/1/2021",
          "1/2/2021",
          "1/3/2021",
          "1/4/2021",
          "1/5/2021",
          "1/6/2021",
          "1/7/2021",
          "1/8/2021",
          "1/9/2021",
          "1/10/2021",
          "1/11/2021",
          "1/12/2021",
          "1/13/2021",
          "1/14/2021",
          "1/15/2021",
          "1/16/2021",
          "1/17/2021",
          "1/18/2021",
          "1/19/2021",
          "1/20/2021",
          "1/21/2021",
          "1/22/2021",
          "1/23/2021",
          "1/24/2021",
          "1/25/2021"
         ],
         "xaxis": "x",
         "y": [
          0,
          63,
          63,
          63,
          63,
          63,
          63,
          63,
          63,
          63,
          63,
          63,
          63,
          63,
          63,
          63,
          63,
          63,
          63,
          63,
          63,
          63,
          312,
          560,
          809,
          1057,
          1306
         ],
         "yaxis": "y"
        },
        {
         "hovertemplate": "country=India<br>date=%{x}<br>daily_vaccinations=%{y}<extra></extra>",
         "legendgroup": "India",
         "line": {
          "color": "#FFA15A",
          "dash": "solid"
         },
         "marker": {
          "symbol": "circle"
         },
         "mode": "lines",
         "name": "India",
         "showlegend": true,
         "type": "scattergl",
         "x": [
          "1/15/2021",
          "1/16/2021",
          "1/17/2021",
          "1/18/2021",
          "1/19/2021",
          "1/20/2021",
          "1/21/2021",
          "1/22/2021",
          "1/23/2021",
          "1/24/2021",
          "1/25/2021"
         ],
         "xaxis": "x",
         "y": [
          0,
          191181,
          112150,
          151350,
          168709,
          161297,
          173922,
          198656,
          198717,
          198743,
          224251
         ],
         "yaxis": "y"
        },
        {
         "hovertemplate": "country=Indonesia<br>date=%{x}<br>daily_vaccinations=%{y}<extra></extra>",
         "legendgroup": "Indonesia",
         "line": {
          "color": "#19d3f3",
          "dash": "solid"
         },
         "marker": {
          "symbol": "circle"
         },
         "mode": "lines",
         "name": "Indonesia",
         "showlegend": true,
         "type": "scattergl",
         "x": [
          "1/12/2021",
          "1/13/2021",
          "1/14/2021",
          "1/15/2021",
          "1/16/2021",
          "1/17/2021",
          "1/18/2021",
          "1/19/2021",
          "1/20/2021",
          "1/21/2021",
          "1/22/2021",
          "1/23/2021",
          "1/24/2021",
          "1/25/2021"
         ],
         "xaxis": "x",
         "y": [
          0,
          13200,
          13200,
          13200,
          13200,
          13200,
          13200,
          13200,
          13200,
          13200,
          13200,
          12546,
          11892,
          11823
         ],
         "yaxis": "y"
        },
        {
         "hovertemplate": "country=Ireland<br>date=%{x}<br>daily_vaccinations=%{y}<extra></extra>",
         "legendgroup": "Ireland",
         "line": {
          "color": "#FF6692",
          "dash": "solid"
         },
         "marker": {
          "symbol": "circle"
         },
         "mode": "lines",
         "name": "Ireland",
         "showlegend": true,
         "type": "scattergl",
         "x": [
          "12/31/2020",
          "1/1/2021",
          "1/2/2021",
          "1/3/2021",
          "1/4/2021",
          "1/5/2021",
          "1/6/2021",
          "1/7/2021",
          "1/8/2021",
          "1/9/2021",
          "1/10/2021",
          "1/11/2021",
          "1/12/2021",
          "1/13/2021",
          "1/14/2021",
          "1/15/2021",
          "1/16/2021",
          "1/17/2021",
          "1/18/2021",
          "1/19/2021",
          "1/20/2021",
          "1/21/2021",
          "1/22/2021",
          "1/23/2021",
          "1/24/2021"
         ],
         "xaxis": "x",
         "y": [
          0,
          550,
          550,
          550,
          550,
          1194,
          1624,
          1931,
          3028,
          4124,
          5221,
          6919,
          8157,
          9394,
          9452,
          8873,
          8293,
          7714,
          7267,
          6819,
          6371,
          6528,
          6686,
          6843,
          7000
         ],
         "yaxis": "y"
        },
        {
         "hovertemplate": "country=Isle of Man<br>date=%{x}<br>daily_vaccinations=%{y}<extra></extra>",
         "legendgroup": "Isle of Man",
         "line": {
          "color": "#B6E880",
          "dash": "solid"
         },
         "marker": {
          "symbol": "circle"
         },
         "mode": "lines",
         "name": "Isle of Man",
         "showlegend": true,
         "type": "scattergl",
         "x": [
          "1/21/2021",
          "1/22/2021",
          "1/23/2021",
          "1/24/2021",
          "1/25/2021"
         ],
         "xaxis": "x",
         "y": [
          0,
          90,
          138,
          155,
          163
         ],
         "yaxis": "y"
        },
        {
         "hovertemplate": "country=Israel<br>date=%{x}<br>daily_vaccinations=%{y}<extra></extra>",
         "legendgroup": "Israel",
         "line": {
          "color": "#FF97FF",
          "dash": "solid"
         },
         "marker": {
          "symbol": "circle"
         },
         "mode": "lines",
         "name": "Israel",
         "showlegend": true,
         "type": "scattergl",
         "x": [
          "12/19/2020",
          "12/20/2020",
          "12/21/2020",
          "12/22/2020",
          "12/23/2020",
          "12/24/2020",
          "12/25/2020",
          "12/26/2020",
          "12/27/2020",
          "12/28/2020",
          "12/29/2020",
          "12/30/2020",
          "12/31/2020",
          "1/1/2021",
          "1/2/2021",
          "1/3/2021",
          "1/4/2021",
          "1/5/2021",
          "1/6/2021",
          "1/7/2021",
          "1/8/2021",
          "1/9/2021",
          "1/10/2021",
          "1/11/2021",
          "1/12/2021",
          "1/13/2021",
          "1/14/2021",
          "1/15/2021",
          "1/16/2021",
          "1/17/2021",
          "1/18/2021",
          "1/19/2021",
          "1/20/2021",
          "1/21/2021",
          "1/22/2021",
          "1/23/2021",
          "1/24/2021",
          "1/25/2021"
         ],
         "xaxis": "x",
         "y": [
          0,
          6887,
          14690,
          23477,
          32331,
          39926,
          39552,
          38469,
          51884,
          67094,
          82835,
          95621,
          107654,
          112314,
          117846,
          124170,
          125626,
          121500,
          114634,
          108735,
          108004,
          104169,
          89553,
          75289,
          66167,
          67059,
          68432,
          68475,
          70010,
          85359,
          106360,
          127524,
          143169,
          158364,
          164426,
          169880,
          177883,
          176343
         ],
         "yaxis": "y"
        },
        {
         "hovertemplate": "country=Italy<br>date=%{x}<br>daily_vaccinations=%{y}<extra></extra>",
         "legendgroup": "Italy",
         "line": {
          "color": "#FECB52",
          "dash": "solid"
         },
         "marker": {
          "symbol": "circle"
         },
         "mode": "lines",
         "name": "Italy",
         "showlegend": true,
         "type": "scattergl",
         "x": [
          "12/27/2020",
          "12/28/2020",
          "12/29/2020",
          "12/30/2020",
          "12/31/2020",
          "1/1/2021",
          "1/2/2021",
          "1/3/2021",
          "1/4/2021",
          "1/5/2021",
          "1/6/2021",
          "1/7/2021",
          "1/8/2021",
          "1/9/2021",
          "1/10/2021",
          "1/11/2021",
          "1/12/2021",
          "1/13/2021",
          "1/14/2021",
          "1/15/2021",
          "1/16/2021",
          "1/17/2021",
          "1/18/2021",
          "1/19/2021",
          "1/20/2021",
          "1/21/2021",
          "1/22/2021",
          "1/23/2021",
          "1/24/2021",
          "1/25/2021"
         ],
         "xaxis": "x",
         "y": [
          0,
          950,
          926,
          2147,
          7848,
          8456,
          13319,
          16365,
          25812,
          36875,
          45417,
          54829,
          66485,
          73108,
          76632,
          78150,
          78193,
          81858,
          81516,
          80095,
          76658,
          73130,
          67599,
          60503,
          51507,
          43534,
          35131,
          31852,
          31537,
          32241
         ],
         "yaxis": "y"
        },
        {
         "hovertemplate": "country=Kuwait<br>date=%{x}<br>daily_vaccinations=%{y}<extra></extra>",
         "legendgroup": "Kuwait",
         "line": {
          "color": "#636efa",
          "dash": "solid"
         },
         "marker": {
          "symbol": "circle"
         },
         "mode": "lines",
         "name": "Kuwait",
         "showlegend": true,
         "type": "scattergl",
         "x": [
          "12/28/2020"
         ],
         "xaxis": "x",
         "y": [
          0
         ],
         "yaxis": "y"
        },
        {
         "hovertemplate": "country=Latvia<br>date=%{x}<br>daily_vaccinations=%{y}<extra></extra>",
         "legendgroup": "Latvia",
         "line": {
          "color": "#EF553B",
          "dash": "solid"
         },
         "marker": {
          "symbol": "circle"
         },
         "mode": "lines",
         "name": "Latvia",
         "showlegend": true,
         "type": "scattergl",
         "x": [
          "12/28/2020",
          "12/29/2020",
          "12/30/2020",
          "12/31/2020",
          "1/1/2021",
          "1/2/2021",
          "1/3/2021",
          "1/4/2021",
          "1/5/2021",
          "1/6/2021",
          "1/7/2021",
          "1/8/2021",
          "1/9/2021",
          "1/10/2021",
          "1/11/2021",
          "1/12/2021",
          "1/13/2021",
          "1/14/2021",
          "1/15/2021",
          "1/16/2021",
          "1/17/2021",
          "1/18/2021",
          "1/19/2021",
          "1/20/2021",
          "1/21/2021",
          "1/22/2021",
          "1/23/2021",
          "1/24/2021",
          "1/25/2021"
         ],
         "xaxis": "x",
         "y": [
          0,
          877,
          832,
          602,
          486,
          417,
          371,
          338,
          339,
          338,
          433,
          542,
          565,
          592,
          767,
          872,
          976,
          1120,
          1258,
          1309,
          1279,
          1204,
          1098,
          993,
          773,
          537,
          460,
          491,
          418
         ],
         "yaxis": "y"
        },
        {
         "hovertemplate": "country=Lithuania<br>date=%{x}<br>daily_vaccinations=%{y}<extra></extra>",
         "legendgroup": "Lithuania",
         "line": {
          "color": "#00cc96",
          "dash": "solid"
         },
         "marker": {
          "symbol": "circle"
         },
         "mode": "lines",
         "name": "Lithuania",
         "showlegend": true,
         "type": "scattergl",
         "x": [
          "12/25/2020",
          "12/26/2020",
          "12/27/2020",
          "12/28/2020",
          "12/29/2020",
          "12/30/2020",
          "12/31/2020",
          "1/1/2021",
          "1/2/2021",
          "1/3/2021",
          "1/4/2021",
          "1/5/2021",
          "1/6/2021",
          "1/7/2021",
          "1/8/2021",
          "1/9/2021",
          "1/10/2021",
          "1/11/2021",
          "1/12/2021",
          "1/13/2021",
          "1/14/2021",
          "1/15/2021",
          "1/16/2021",
          "1/17/2021",
          "1/18/2021",
          "1/19/2021",
          "1/20/2021",
          "1/21/2021",
          "1/22/2021",
          "1/23/2021",
          "1/24/2021",
          "1/25/2021"
         ],
         "xaxis": "x",
         "y": [
          0,
          1208,
          1208,
          1734,
          2047,
          1944,
          1624,
          1410,
          1255,
          1100,
          720,
          311,
          592,
          1180,
          1897,
          1923,
          1905,
          2201,
          2479,
          2843,
          3476,
          3765,
          3877,
          4038,
          4363,
          4960,
          4587,
          3564,
          2581,
          2427,
          2268,
          1633
         ],
         "yaxis": "y"
        },
        {
         "hovertemplate": "country=Luxembourg<br>date=%{x}<br>daily_vaccinations=%{y}<extra></extra>",
         "legendgroup": "Luxembourg",
         "line": {
          "color": "#ab63fa",
          "dash": "solid"
         },
         "marker": {
          "symbol": "circle"
         },
         "mode": "lines",
         "name": "Luxembourg",
         "showlegend": true,
         "type": "scattergl",
         "x": [
          "12/30/2020",
          "12/31/2020",
          "1/1/2021",
          "1/2/2021",
          "1/3/2021",
          "1/4/2021",
          "1/5/2021",
          "1/6/2021",
          "1/7/2021",
          "1/8/2021",
          "1/9/2021",
          "1/10/2021",
          "1/11/2021",
          "1/12/2021",
          "1/13/2021",
          "1/14/2021",
          "1/15/2021",
          "1/16/2021",
          "1/17/2021",
          "1/18/2021",
          "1/19/2021",
          "1/20/2021",
          "1/21/2021",
          "1/22/2021",
          "1/23/2021",
          "1/24/2021"
         ],
         "xaxis": "x",
         "y": [
          0,
          62,
          62,
          62,
          62,
          62,
          62,
          62,
          62,
          62,
          62,
          62,
          62,
          114,
          177,
          220,
          236,
          252,
          268,
          375,
          417,
          475,
          523,
          537,
          551,
          565
         ],
         "yaxis": "y"
        },
        {
         "hovertemplate": "country=Malta<br>date=%{x}<br>daily_vaccinations=%{y}<extra></extra>",
         "legendgroup": "Malta",
         "line": {
          "color": "#FFA15A",
          "dash": "solid"
         },
         "marker": {
          "symbol": "circle"
         },
         "mode": "lines",
         "name": "Malta",
         "showlegend": true,
         "type": "scattergl",
         "x": [
          "12/28/2020",
          "12/29/2020",
          "12/30/2020",
          "12/31/2020",
          "1/1/2021",
          "1/2/2021",
          "1/3/2021",
          "1/4/2021",
          "1/5/2021",
          "1/6/2021",
          "1/7/2021",
          "1/8/2021",
          "1/9/2021",
          "1/10/2021",
          "1/11/2021",
          "1/12/2021",
          "1/13/2021",
          "1/14/2021",
          "1/15/2021",
          "1/16/2021",
          "1/17/2021",
          "1/18/2021",
          "1/19/2021",
          "1/20/2021",
          "1/21/2021",
          "1/22/2021",
          "1/23/2021",
          "1/24/2021"
         ],
         "xaxis": "x",
         "y": [
          0,
          259,
          259,
          259,
          259,
          259,
          259,
          259,
          281,
          304,
          327,
          350,
          373,
          396,
          419,
          524,
          629,
          735,
          840,
          938,
          1036,
          1162,
          1178,
          1162,
          1170,
          1182,
          1190,
          1182
         ],
         "yaxis": "y"
        },
        {
         "hovertemplate": "country=Mexico<br>date=%{x}<br>daily_vaccinations=%{y}<extra></extra>",
         "legendgroup": "Mexico",
         "line": {
          "color": "#19d3f3",
          "dash": "solid"
         },
         "marker": {
          "symbol": "circle"
         },
         "mode": "lines",
         "name": "Mexico",
         "showlegend": true,
         "type": "scattergl",
         "x": [
          "12/24/2020",
          "12/25/2020",
          "12/26/2020",
          "12/27/2020",
          "12/28/2020",
          "12/29/2020",
          "12/30/2020",
          "12/31/2020",
          "1/1/2021",
          "1/2/2021",
          "1/3/2021",
          "1/4/2021",
          "1/5/2021",
          "1/6/2021",
          "1/7/2021",
          "1/8/2021",
          "1/9/2021",
          "1/10/2021",
          "1/11/2021",
          "1/12/2021",
          "1/13/2021",
          "1/14/2021",
          "1/15/2021",
          "1/16/2021",
          "1/17/2021",
          "1/18/2021",
          "1/19/2021",
          "1/20/2021",
          "1/21/2021",
          "1/22/2021",
          "1/23/2021",
          "1/24/2021",
          "1/25/2021"
         ],
         "xaxis": "x",
         "y": [
          0,
          1300,
          1300,
          1300,
          1664,
          3121,
          3679,
          3695,
          4051,
          4407,
          4763,
          4912,
          4244,
          4027,
          4230,
          4984,
          5488,
          5876,
          6157,
          6378,
          19912,
          38797,
          49987,
          55493,
          55835,
          57924,
          57892,
          44066,
          31765,
          28205,
          22217,
          22498,
          21797
         ],
         "yaxis": "y"
        },
        {
         "hovertemplate": "country=Netherlands<br>date=%{x}<br>daily_vaccinations=%{y}<extra></extra>",
         "legendgroup": "Netherlands",
         "line": {
          "color": "#FF6692",
          "dash": "solid"
         },
         "marker": {
          "symbol": "circle"
         },
         "mode": "lines",
         "name": "Netherlands",
         "showlegend": true,
         "type": "scattergl",
         "x": [
          "1/6/2021",
          "1/7/2021",
          "1/8/2021",
          "1/9/2021",
          "1/10/2021",
          "1/11/2021",
          "1/12/2021",
          "1/13/2021",
          "1/14/2021",
          "1/15/2021",
          "1/16/2021",
          "1/17/2021",
          "1/18/2021",
          "1/19/2021",
          "1/20/2021",
          "1/21/2021",
          "1/22/2021"
         ],
         "xaxis": "x",
         "y": [
          0,
          9000,
          10500,
          8000,
          7000,
          5900,
          6500,
          5857,
          5143,
          4000,
          5143,
          6143,
          7024,
          6762,
          7571,
          9500,
          11429
         ],
         "yaxis": "y"
        },
        {
         "hovertemplate": "country=Northern Ireland<br>date=%{x}<br>daily_vaccinations=%{y}<extra></extra>",
         "legendgroup": "Northern Ireland",
         "line": {
          "color": "#B6E880",
          "dash": "solid"
         },
         "marker": {
          "symbol": "circle"
         },
         "mode": "lines",
         "name": "Northern Ireland",
         "showlegend": true,
         "type": "scattergl",
         "x": [
          "12/13/2020",
          "12/14/2020",
          "12/15/2020",
          "12/16/2020",
          "12/17/2020",
          "12/18/2020",
          "12/19/2020",
          "12/20/2020",
          "12/21/2020",
          "12/22/2020",
          "12/23/2020",
          "12/24/2020",
          "12/25/2020",
          "12/26/2020",
          "12/27/2020",
          "12/28/2020",
          "12/29/2020",
          "12/30/2020",
          "12/31/2020",
          "1/1/2021",
          "1/2/2021",
          "1/3/2021",
          "1/4/2021",
          "1/5/2021",
          "1/6/2021",
          "1/7/2021",
          "1/8/2021",
          "1/9/2021",
          "1/10/2021",
          "1/11/2021",
          "1/12/2021",
          "1/13/2021",
          "1/14/2021",
          "1/15/2021",
          "1/16/2021",
          "1/17/2021",
          "1/18/2021",
          "1/19/2021",
          "1/20/2021",
          "1/21/2021",
          "1/22/2021",
          "1/23/2021",
          "1/24/2021"
         ],
         "xaxis": "x",
         "y": [
          0,
          1778,
          1778,
          1778,
          1778,
          1778,
          1778,
          1778,
          1829,
          1880,
          1931,
          1982,
          2033,
          2084,
          2135,
          2054,
          1972,
          1890,
          1808,
          1726,
          1645,
          1563,
          2360,
          3157,
          3954,
          4751,
          5548,
          6345,
          7143,
          7197,
          7574,
          8332,
          9044,
          8530,
          7964,
          7826,
          7852,
          7306,
          6404,
          5674,
          5664,
          5396,
          5089
         ],
         "yaxis": "y"
        },
        {
         "hovertemplate": "country=Norway<br>date=%{x}<br>daily_vaccinations=%{y}<extra></extra>",
         "legendgroup": "Norway",
         "line": {
          "color": "#FF97FF",
          "dash": "solid"
         },
         "marker": {
          "symbol": "circle"
         },
         "mode": "lines",
         "name": "Norway",
         "showlegend": true,
         "type": "scattergl",
         "x": [
          "12/27/2020",
          "12/28/2020",
          "12/29/2020",
          "12/30/2020",
          "12/31/2020",
          "1/1/2021",
          "1/2/2021",
          "1/3/2021",
          "1/4/2021",
          "1/5/2021",
          "1/6/2021",
          "1/7/2021",
          "1/8/2021",
          "1/9/2021",
          "1/10/2021",
          "1/11/2021",
          "1/12/2021",
          "1/13/2021",
          "1/14/2021",
          "1/15/2021",
          "1/16/2021",
          "1/17/2021",
          "1/18/2021",
          "1/19/2021",
          "1/20/2021",
          "1/21/2021",
          "1/22/2021",
          "1/23/2021",
          "1/24/2021"
         ],
         "xaxis": "x",
         "y": [
          0,
          600,
          834,
          697,
          540,
          434,
          361,
          310,
          224,
          560,
          1772,
          2696,
          2924,
          2942,
          2958,
          3006,
          3105,
          3201,
          3447,
          3847,
          3929,
          3955,
          4120,
          4276,
          4356,
          4303,
          4109,
          4059,
          4027
         ],
         "yaxis": "y"
        },
        {
         "hovertemplate": "country=Oman<br>date=%{x}<br>daily_vaccinations=%{y}<extra></extra>",
         "legendgroup": "Oman",
         "line": {
          "color": "#FECB52",
          "dash": "solid"
         },
         "marker": {
          "symbol": "circle"
         },
         "mode": "lines",
         "name": "Oman",
         "showlegend": true,
         "type": "scattergl",
         "x": [
          "12/28/2020",
          "12/29/2020",
          "12/30/2020",
          "12/31/2020",
          "1/1/2021",
          "1/2/2021",
          "1/3/2021",
          "1/4/2021",
          "1/5/2021",
          "1/6/2021",
          "1/7/2021",
          "1/8/2021",
          "1/9/2021",
          "1/10/2021",
          "1/11/2021",
          "1/12/2021",
          "1/13/2021",
          "1/14/2021",
          "1/15/2021",
          "1/16/2021",
          "1/17/2021",
          "1/18/2021",
          "1/19/2021",
          "1/20/2021",
          "1/21/2021",
          "1/22/2021",
          "1/23/2021",
          "1/24/2021"
         ],
         "xaxis": "x",
         "y": [
          0,
          1646,
          1663,
          1600,
          1289,
          1103,
          1185,
          1287,
          1341,
          1280,
          1199,
          1158,
          1113,
          1012,
          1080,
          1128,
          1249,
          1328,
          1358,
          1393,
          1363,
          1210,
          1057,
          971,
          817,
          830,
          843,
          1046
         ],
         "yaxis": "y"
        },
        {
         "hovertemplate": "country=Panama<br>date=%{x}<br>daily_vaccinations=%{y}<extra></extra>",
         "legendgroup": "Panama",
         "line": {
          "color": "#636efa",
          "dash": "solid"
         },
         "marker": {
          "symbol": "circle"
         },
         "mode": "lines",
         "name": "Panama",
         "showlegend": true,
         "type": "scattergl",
         "x": [
          "1/19/2021",
          "1/20/2021",
          "1/21/2021",
          "1/22/2021",
          "1/23/2021",
          "1/24/2021"
         ],
         "xaxis": "x",
         "y": [
          0,
          6,
          1364,
          1694,
          1398,
          1284
         ],
         "yaxis": "y"
        },
        {
         "hovertemplate": "country=Poland<br>date=%{x}<br>daily_vaccinations=%{y}<extra></extra>",
         "legendgroup": "Poland",
         "line": {
          "color": "#EF553B",
          "dash": "solid"
         },
         "marker": {
          "symbol": "circle"
         },
         "mode": "lines",
         "name": "Poland",
         "showlegend": true,
         "type": "scattergl",
         "x": [
          "12/28/2020",
          "12/29/2020",
          "12/30/2020",
          "12/31/2020",
          "1/1/2021",
          "1/2/2021",
          "1/3/2021",
          "1/4/2021",
          "1/5/2021",
          "1/6/2021",
          "1/7/2021",
          "1/8/2021",
          "1/9/2021",
          "1/10/2021",
          "1/11/2021",
          "1/12/2021",
          "1/13/2021",
          "1/14/2021",
          "1/15/2021",
          "1/16/2021",
          "1/17/2021",
          "1/18/2021",
          "1/19/2021",
          "1/20/2021",
          "1/21/2021",
          "1/22/2021",
          "1/23/2021",
          "1/24/2021"
         ],
         "xaxis": "x",
         "y": [
          0,
          4300,
          17150,
          15200,
          11749,
          9678,
          8139,
          12889,
          19132,
          17723,
          20194,
          21399,
          21376,
          21746,
          23659,
          24199,
          29836,
          31646,
          34025,
          36754,
          38059,
          33904,
          33087,
          31796,
          33503,
          35331,
          34837,
          34001
         ],
         "yaxis": "y"
        },
        {
         "hovertemplate": "country=Portugal<br>date=%{x}<br>daily_vaccinations=%{y}<extra></extra>",
         "legendgroup": "Portugal",
         "line": {
          "color": "#00cc96",
          "dash": "solid"
         },
         "marker": {
          "symbol": "circle"
         },
         "mode": "lines",
         "name": "Portugal",
         "showlegend": true,
         "type": "scattergl",
         "x": [
          "12/27/2020",
          "12/28/2020",
          "12/29/2020",
          "12/30/2020",
          "12/31/2020",
          "1/1/2021",
          "1/2/2021",
          "1/3/2021",
          "1/4/2021",
          "1/5/2021",
          "1/6/2021",
          "1/7/2021",
          "1/8/2021",
          "1/9/2021",
          "1/10/2021",
          "1/11/2021",
          "1/12/2021",
          "1/13/2021",
          "1/14/2021",
          "1/15/2021",
          "1/16/2021",
          "1/17/2021",
          "1/18/2021",
          "1/19/2021",
          "1/20/2021",
          "1/21/2021",
          "1/22/2021",
          "1/23/2021",
          "1/24/2021"
         ],
         "xaxis": "x",
         "y": [
          0,
          2791,
          7702,
          8527,
          6946,
          5557,
          4631,
          3970,
          3702,
          3724,
          4416,
          5572,
          5929,
          5943,
          5949,
          5944,
          5676,
          5501,
          5623,
          6335,
          6540,
          6701,
          7061,
          8896,
          11058,
          14194,
          16876,
          18770,
          19200
         ],
         "yaxis": "y"
        },
        {
         "hovertemplate": "country=Romania<br>date=%{x}<br>daily_vaccinations=%{y}<extra></extra>",
         "legendgroup": "Romania",
         "line": {
          "color": "#ab63fa",
          "dash": "solid"
         },
         "marker": {
          "symbol": "circle"
         },
         "mode": "lines",
         "name": "Romania",
         "showlegend": true,
         "type": "scattergl",
         "x": [
          "12/28/2020",
          "12/29/2020",
          "12/30/2020",
          "12/31/2020",
          "1/1/2021",
          "1/2/2021",
          "1/3/2021",
          "1/4/2021",
          "1/5/2021",
          "1/6/2021",
          "1/7/2021",
          "1/8/2021",
          "1/9/2021",
          "1/10/2021",
          "1/11/2021",
          "1/12/2021",
          "1/13/2021",
          "1/14/2021",
          "1/15/2021",
          "1/16/2021",
          "1/17/2021",
          "1/18/2021",
          "1/19/2021",
          "1/20/2021",
          "1/21/2021",
          "1/22/2021",
          "1/23/2021",
          "1/24/2021",
          "1/25/2021"
         ],
         "xaxis": "x",
         "y": [
          0,
          712,
          1800,
          2741,
          2398,
          2235,
          1922,
          3349,
          5547,
          7555,
          9444,
          11579,
          12723,
          13528,
          14240,
          14120,
          13673,
          13030,
          12995,
          13398,
          13824,
          15721,
          18514,
          22017,
          25783,
          28895,
          31828,
          34461,
          35627
         ],
         "yaxis": "y"
        },
        {
         "hovertemplate": "country=Russia<br>date=%{x}<br>daily_vaccinations=%{y}<extra></extra>",
         "legendgroup": "Russia",
         "line": {
          "color": "#FFA15A",
          "dash": "solid"
         },
         "marker": {
          "symbol": "circle"
         },
         "mode": "lines",
         "name": "Russia",
         "showlegend": true,
         "type": "scattergl",
         "x": [
          "12/15/2020",
          "12/16/2020",
          "12/17/2020",
          "12/18/2020",
          "12/19/2020",
          "12/20/2020",
          "12/21/2020",
          "12/22/2020",
          "12/23/2020",
          "12/24/2020",
          "12/25/2020",
          "12/26/2020",
          "12/27/2020",
          "12/28/2020",
          "12/29/2020",
          "12/30/2020",
          "12/31/2020",
          "1/1/2021",
          "1/2/2021",
          "1/3/2021",
          "1/4/2021",
          "1/5/2021",
          "1/6/2021",
          "1/7/2021",
          "1/8/2021",
          "1/9/2021",
          "1/10/2021",
          "1/11/2021",
          "1/12/2021",
          "1/13/2021"
         ],
         "xaxis": "x",
         "y": [
          0,
          3357,
          3357,
          3357,
          3357,
          3357,
          3357,
          3357,
          12592,
          21827,
          31061,
          40296,
          49531,
          58765,
          68000,
          68000,
          68000,
          68000,
          68000,
          60883,
          53766,
          46649,
          39532,
          32416,
          25299,
          18182,
          18182,
          18182,
          18182,
          18182
         ],
         "yaxis": "y"
        },
        {
         "hovertemplate": "country=Saudi Arabia<br>date=%{x}<br>daily_vaccinations=%{y}<extra></extra>",
         "legendgroup": "Saudi Arabia",
         "line": {
          "color": "#19d3f3",
          "dash": "solid"
         },
         "marker": {
          "symbol": "circle"
         },
         "mode": "lines",
         "name": "Saudi Arabia",
         "showlegend": true,
         "type": "scattergl",
         "x": [
          "1/6/2021",
          "1/7/2021",
          "1/8/2021",
          "1/9/2021",
          "1/10/2021",
          "1/11/2021",
          "1/12/2021",
          "1/13/2021",
          "1/14/2021",
          "1/15/2021",
          "1/16/2021",
          "1/17/2021"
         ],
         "xaxis": "x",
         "y": [
          0,
          37862,
          23990,
          19366,
          17055,
          15667,
          16312,
          16772,
          14153,
          15498,
          16843,
          18187
         ],
         "yaxis": "y"
        },
        {
         "hovertemplate": "country=Scotland<br>date=%{x}<br>daily_vaccinations=%{y}<extra></extra>",
         "legendgroup": "Scotland",
         "line": {
          "color": "#FF6692",
          "dash": "solid"
         },
         "marker": {
          "symbol": "circle"
         },
         "mode": "lines",
         "name": "Scotland",
         "showlegend": true,
         "type": "scattergl",
         "x": [
          "12/13/2020",
          "12/14/2020",
          "12/15/2020",
          "12/16/2020",
          "12/17/2020",
          "12/18/2020",
          "12/19/2020",
          "12/20/2020",
          "12/21/2020",
          "12/22/2020",
          "12/23/2020",
          "12/24/2020",
          "12/25/2020",
          "12/26/2020",
          "12/27/2020",
          "12/28/2020",
          "12/29/2020",
          "12/30/2020",
          "12/31/2020",
          "1/1/2021",
          "1/2/2021",
          "1/3/2021",
          "1/4/2021",
          "1/5/2021",
          "1/6/2021",
          "1/7/2021",
          "1/8/2021",
          "1/9/2021",
          "1/10/2021",
          "1/11/2021",
          "1/12/2021",
          "1/13/2021",
          "1/14/2021",
          "1/15/2021",
          "1/16/2021",
          "1/17/2021",
          "1/18/2021",
          "1/19/2021",
          "1/20/2021",
          "1/21/2021",
          "1/22/2021",
          "1/23/2021",
          "1/24/2021"
         ],
         "xaxis": "x",
         "y": [
          0,
          5821,
          5821,
          5821,
          5821,
          5821,
          5821,
          5821,
          5690,
          5558,
          5426,
          5295,
          5163,
          5031,
          4899,
          4635,
          4370,
          4105,
          3841,
          3576,
          3312,
          3047,
          3650,
          4254,
          4858,
          5461,
          6065,
          6668,
          7272,
          8042,
          9311,
          10621,
          11979,
          12869,
          13760,
          14651,
          15667,
          17018,
          18277,
          19282,
          20597,
          22034,
          21750
         ],
         "yaxis": "y"
        },
        {
         "hovertemplate": "country=Serbia<br>date=%{x}<br>daily_vaccinations=%{y}<extra></extra>",
         "legendgroup": "Serbia",
         "line": {
          "color": "#B6E880",
          "dash": "solid"
         },
         "marker": {
          "symbol": "circle"
         },
         "mode": "lines",
         "name": "Serbia",
         "showlegend": true,
         "type": "scattergl",
         "x": [
          "1/8/2021",
          "1/9/2021",
          "1/10/2021",
          "1/11/2021",
          "1/12/2021",
          "1/13/2021",
          "1/14/2021",
          "1/15/2021",
          "1/16/2021",
          "1/17/2021",
          "1/18/2021",
          "1/19/2021",
          "1/20/2021",
          "1/21/2021",
          "1/22/2021",
          "1/23/2021",
          "1/24/2021",
          "1/25/2021"
         ],
         "xaxis": "x",
         "y": [
          0,
          1150,
          1150,
          1503,
          1680,
          1785,
          1856,
          2221,
          2687,
          3153,
          3468,
          3783,
          4098,
          9528,
          13880,
          19485,
          26632,
          31534
         ],
         "yaxis": "y"
        },
        {
         "hovertemplate": "country=Seychelles<br>date=%{x}<br>daily_vaccinations=%{y}<extra></extra>",
         "legendgroup": "Seychelles",
         "line": {
          "color": "#FF97FF",
          "dash": "solid"
         },
         "marker": {
          "symbol": "circle"
         },
         "mode": "lines",
         "name": "Seychelles",
         "showlegend": true,
         "type": "scattergl",
         "x": [
          "1/9/2021",
          "1/10/2021",
          "1/11/2021",
          "1/12/2021",
          "1/13/2021",
          "1/14/2021",
          "1/15/2021",
          "1/16/2021",
          "1/17/2021",
          "1/18/2021",
          "1/19/2021",
          "1/20/2021",
          "1/21/2021",
          "1/22/2021",
          "1/23/2021"
         ],
         "xaxis": "x",
         "y": [
          0,
          500,
          500,
          500,
          500,
          600,
          667,
          1000,
          1118,
          1236,
          1354,
          1595,
          1718,
          1841,
          1622
         ],
         "yaxis": "y"
        },
        {
         "hovertemplate": "country=Singapore<br>date=%{x}<br>daily_vaccinations=%{y}<extra></extra>",
         "legendgroup": "Singapore",
         "line": {
          "color": "#FECB52",
          "dash": "solid"
         },
         "marker": {
          "symbol": "circle"
         },
         "mode": "lines",
         "name": "Singapore",
         "showlegend": true,
         "type": "scattergl",
         "x": [
          "1/11/2021",
          "1/12/2021",
          "1/13/2021",
          "1/14/2021",
          "1/15/2021",
          "1/16/2021",
          "1/17/2021",
          "1/18/2021",
          "1/19/2021",
          "1/20/2021",
          "1/21/2021",
          "1/22/2021"
         ],
         "xaxis": "x",
         "y": [
          0,
          2800,
          4090,
          4520,
          4735,
          4864,
          4950,
          5011,
          5380,
          5380,
          5380,
          5380
         ],
         "yaxis": "y"
        },
        {
         "hovertemplate": "country=Slovakia<br>date=%{x}<br>daily_vaccinations=%{y}<extra></extra>",
         "legendgroup": "Slovakia",
         "line": {
          "color": "#636efa",
          "dash": "solid"
         },
         "marker": {
          "symbol": "circle"
         },
         "mode": "lines",
         "name": "Slovakia",
         "showlegend": true,
         "type": "scattergl",
         "x": [
          "1/4/2021",
          "1/5/2021",
          "1/6/2021",
          "1/7/2021",
          "1/8/2021",
          "1/9/2021",
          "1/10/2021",
          "1/11/2021",
          "1/12/2021",
          "1/13/2021",
          "1/14/2021",
          "1/15/2021",
          "1/16/2021",
          "1/17/2021",
          "1/18/2021",
          "1/19/2021",
          "1/20/2021",
          "1/21/2021"
         ],
         "xaxis": "x",
         "y": [
          0,
          425,
          3309,
          4544,
          5137,
          4456,
          4221,
          4174,
          5616,
          5661,
          5685,
          5744,
          5669,
          5241,
          5968,
          5473,
          5585,
          5535
         ],
         "yaxis": "y"
        },
        {
         "hovertemplate": "country=Slovenia<br>date=%{x}<br>daily_vaccinations=%{y}<extra></extra>",
         "legendgroup": "Slovenia",
         "line": {
          "color": "#EF553B",
          "dash": "solid"
         },
         "marker": {
          "symbol": "circle"
         },
         "mode": "lines",
         "name": "Slovenia",
         "showlegend": true,
         "type": "scattergl",
         "x": [
          "1/3/2021",
          "1/4/2021",
          "1/5/2021",
          "1/6/2021",
          "1/7/2021",
          "1/8/2021",
          "1/9/2021",
          "1/10/2021",
          "1/11/2021",
          "1/12/2021",
          "1/13/2021",
          "1/14/2021",
          "1/15/2021",
          "1/16/2021",
          "1/17/2021",
          "1/18/2021",
          "1/19/2021",
          "1/20/2021",
          "1/21/2021",
          "1/22/2021",
          "1/23/2021",
          "1/24/2021"
         ],
         "xaxis": "x",
         "y": [
          0,
          1270,
          1484,
          2110,
          2601,
          2718,
          2333,
          2087,
          2183,
          2223,
          2471,
          2689,
          3036,
          3073,
          3070,
          2942,
          2772,
          2415,
          2420,
          2009,
          2034,
          1992
         ],
         "yaxis": "y"
        },
        {
         "hovertemplate": "country=Spain<br>date=%{x}<br>daily_vaccinations=%{y}<extra></extra>",
         "legendgroup": "Spain",
         "line": {
          "color": "#00cc96",
          "dash": "solid"
         },
         "marker": {
          "symbol": "circle"
         },
         "mode": "lines",
         "name": "Spain",
         "showlegend": true,
         "type": "scattergl",
         "x": [
          "1/4/2021",
          "1/5/2021",
          "1/6/2021",
          "1/7/2021",
          "1/8/2021",
          "1/9/2021",
          "1/10/2021",
          "1/11/2021",
          "1/12/2021",
          "1/13/2021",
          "1/14/2021",
          "1/15/2021",
          "1/16/2021",
          "1/17/2021",
          "1/18/2021",
          "1/19/2021",
          "1/20/2021",
          "1/21/2021",
          "1/22/2021",
          "1/23/2021",
          "1/24/2021",
          "1/25/2021"
         ],
         "xaxis": "x",
         "y": [
          0,
          56505,
          45248,
          41496,
          48786,
          47569,
          46759,
          46180,
          49826,
          58330,
          66980,
          70139,
          70181,
          70223,
          70264,
          68282,
          63471,
          61016,
          56696,
          53971,
          51247,
          48522
         ],
         "yaxis": "y"
        },
        {
         "hovertemplate": "country=Sweden<br>date=%{x}<br>daily_vaccinations=%{y}<extra></extra>",
         "legendgroup": "Sweden",
         "line": {
          "color": "#ab63fa",
          "dash": "solid"
         },
         "marker": {
          "symbol": "circle"
         },
         "mode": "lines",
         "name": "Sweden",
         "showlegend": true,
         "type": "scattergl",
         "x": [
          "12/27/2020",
          "12/28/2020",
          "12/29/2020",
          "12/30/2020",
          "12/31/2020",
          "1/1/2021",
          "1/2/2021",
          "1/3/2021",
          "1/4/2021",
          "1/5/2021",
          "1/6/2021",
          "1/7/2021",
          "1/8/2021",
          "1/9/2021",
          "1/10/2021",
          "1/11/2021",
          "1/12/2021",
          "1/13/2021",
          "1/14/2021",
          "1/15/2021",
          "1/16/2021",
          "1/17/2021"
         ],
         "xaxis": "x",
         "y": [
          0,
          3859,
          3859,
          3859,
          3859,
          3859,
          3859,
          3859,
          4294,
          4729,
          5165,
          5600,
          6035,
          6470,
          6905,
          7292,
          7680,
          8067,
          8454,
          8841,
          9228,
          9616
         ],
         "yaxis": "y"
        },
        {
         "hovertemplate": "country=Switzerland<br>date=%{x}<br>daily_vaccinations=%{y}<extra></extra>",
         "legendgroup": "Switzerland",
         "line": {
          "color": "#FFA15A",
          "dash": "solid"
         },
         "marker": {
          "symbol": "circle"
         },
         "mode": "lines",
         "name": "Switzerland",
         "showlegend": true,
         "type": "scattergl",
         "x": [
          "12/23/2020",
          "12/24/2020",
          "12/25/2020",
          "12/26/2020",
          "12/27/2020",
          "12/28/2020",
          "12/29/2020",
          "12/30/2020",
          "12/31/2020",
          "1/1/2021",
          "1/2/2021",
          "1/3/2021",
          "1/4/2021",
          "1/5/2021",
          "1/6/2021",
          "1/7/2021",
          "1/8/2021",
          "1/9/2021",
          "1/10/2021",
          "1/11/2021",
          "1/12/2021",
          "1/13/2021",
          "1/14/2021",
          "1/15/2021",
          "1/16/2021",
          "1/17/2021",
          "1/18/2021",
          "1/19/2021",
          "1/20/2021",
          "1/21/2021"
         ],
         "xaxis": "x",
         "y": [
          0,
          3000,
          3000,
          3000,
          3000,
          3000,
          3000,
          3000,
          3000,
          3000,
          3000,
          3000,
          3000,
          3000,
          3000,
          3000,
          3000,
          3000,
          3000,
          3000,
          3000,
          3000,
          3000,
          3829,
          4657,
          5486,
          6314,
          7143,
          10984,
          14826
         ],
         "yaxis": "y"
        },
        {
         "hovertemplate": "country=Turkey<br>date=%{x}<br>daily_vaccinations=%{y}<extra></extra>",
         "legendgroup": "Turkey",
         "line": {
          "color": "#19d3f3",
          "dash": "solid"
         },
         "marker": {
          "symbol": "circle"
         },
         "mode": "lines",
         "name": "Turkey",
         "showlegend": true,
         "type": "scattergl",
         "x": [
          "1/13/2021",
          "1/14/2021",
          "1/15/2021",
          "1/16/2021",
          "1/17/2021",
          "1/18/2021",
          "1/19/2021",
          "1/20/2021",
          "1/21/2021",
          "1/22/2021",
          "1/23/2021",
          "1/24/2021",
          "1/25/2021"
         ],
         "xaxis": "x",
         "y": [
          0,
          279452,
          308326,
          225634,
          176613,
          166482,
          158439,
          150356,
          120115,
          83651,
          78569,
          76886,
          67192
         ],
         "yaxis": "y"
        },
        {
         "hovertemplate": "country=United Arab Emirates<br>date=%{x}<br>daily_vaccinations=%{y}<extra></extra>",
         "legendgroup": "United Arab Emirates",
         "line": {
          "color": "#FF6692",
          "dash": "solid"
         },
         "marker": {
          "symbol": "circle"
         },
         "mode": "lines",
         "name": "United Arab Emirates",
         "showlegend": true,
         "type": "scattergl",
         "x": [
          "1/5/2021",
          "1/6/2021",
          "1/7/2021",
          "1/8/2021",
          "1/9/2021",
          "1/10/2021",
          "1/11/2021",
          "1/12/2021",
          "1/13/2021",
          "1/14/2021",
          "1/15/2021",
          "1/16/2021",
          "1/17/2021",
          "1/18/2021",
          "1/19/2021",
          "1/20/2021",
          "1/21/2021",
          "1/22/2021",
          "1/23/2021",
          "1/24/2021",
          "1/25/2021"
         ],
         "xaxis": "x",
         "y": [
          0,
          30698,
          30698,
          38418,
          48512,
          52053,
          56825,
          64193,
          76797,
          91448,
          103490,
          111082,
          113744,
          114896,
          112816,
          109510,
          102605,
          96156,
          89839,
          86430,
          85653
         ],
         "yaxis": "y"
        },
        {
         "hovertemplate": "country=United Kingdom<br>date=%{x}<br>daily_vaccinations=%{y}<extra></extra>",
         "legendgroup": "United Kingdom",
         "line": {
          "color": "#B6E880",
          "dash": "solid"
         },
         "marker": {
          "symbol": "circle"
         },
         "mode": "lines",
         "name": "United Kingdom",
         "showlegend": true,
         "type": "scattergl",
         "x": [
          "12/20/2020",
          "12/21/2020",
          "12/22/2020",
          "12/23/2020",
          "12/24/2020",
          "12/25/2020",
          "12/26/2020",
          "12/27/2020",
          "12/28/2020",
          "12/29/2020",
          "12/30/2020",
          "12/31/2020",
          "1/1/2021",
          "1/2/2021",
          "1/3/2021",
          "1/4/2021",
          "1/5/2021",
          "1/6/2021",
          "1/7/2021",
          "1/8/2021",
          "1/9/2021",
          "1/10/2021",
          "1/11/2021",
          "1/12/2021",
          "1/13/2021",
          "1/14/2021",
          "1/15/2021",
          "1/16/2021",
          "1/17/2021",
          "1/18/2021",
          "1/19/2021",
          "1/20/2021",
          "1/21/2021",
          "1/22/2021",
          "1/23/2021",
          "1/24/2021"
         ],
         "xaxis": "x",
         "y": [
          0,
          46423,
          46423,
          46423,
          46423,
          46423,
          46423,
          46423,
          47738,
          49053,
          50369,
          51684,
          52999,
          54315,
          55630,
          74138,
          92647,
          111155,
          129663,
          148171,
          166680,
          185188,
          182424,
          187930,
          202716,
          222253,
          242692,
          256292,
          262404,
          268518,
          286118,
          297294,
          310246,
          331933,
          362307,
          361321
         ],
         "yaxis": "y"
        },
        {
         "hovertemplate": "country=United States<br>date=%{x}<br>daily_vaccinations=%{y}<extra></extra>",
         "legendgroup": "United States",
         "line": {
          "color": "#FF97FF",
          "dash": "solid"
         },
         "marker": {
          "symbol": "circle"
         },
         "mode": "lines",
         "name": "United States",
         "showlegend": true,
         "type": "scattergl",
         "x": [
          "12/20/2020",
          "12/21/2020",
          "12/22/2020",
          "12/23/2020",
          "12/24/2020",
          "12/25/2020",
          "12/26/2020",
          "12/27/2020",
          "12/28/2020",
          "12/29/2020",
          "12/30/2020",
          "12/31/2020",
          "1/1/2021",
          "1/2/2021",
          "1/3/2021",
          "1/4/2021",
          "1/5/2021",
          "1/6/2021",
          "1/7/2021",
          "1/8/2021",
          "1/9/2021",
          "1/10/2021",
          "1/11/2021",
          "1/12/2021",
          "1/13/2021",
          "1/14/2021",
          "1/15/2021",
          "1/16/2021",
          "1/17/2021",
          "1/18/2021",
          "1/19/2021",
          "1/20/2021",
          "1/21/2021",
          "1/22/2021",
          "1/23/2021",
          "1/24/2021",
          "1/25/2021"
         ],
         "xaxis": "x",
         "y": [
          0,
          57909,
          127432,
          150606,
          191001,
          215238,
          231396,
          211379,
          216147,
          235685,
          255223,
          278776,
          302329,
          325882,
          336949,
          348017,
          339372,
          358887,
          378253,
          419933,
          461263,
          546636,
          632009,
          641524,
          710238,
          747082,
          798707,
          811670,
          824632,
          837595,
          911493,
          892403,
          913912,
          975540,
          1057387,
          1122182,
          1126251
         ],
         "yaxis": "y"
        },
        {
         "hovertemplate": "country=Wales<br>date=%{x}<br>daily_vaccinations=%{y}<extra></extra>",
         "legendgroup": "Wales",
         "line": {
          "color": "#FECB52",
          "dash": "solid"
         },
         "marker": {
          "symbol": "circle"
         },
         "mode": "lines",
         "name": "Wales",
         "showlegend": true,
         "type": "scattergl",
         "x": [
          "12/13/2020",
          "12/14/2020",
          "12/15/2020",
          "12/16/2020",
          "12/17/2020",
          "12/18/2020",
          "12/19/2020",
          "12/20/2020",
          "12/21/2020",
          "12/22/2020",
          "12/23/2020",
          "12/24/2020",
          "12/25/2020",
          "12/26/2020",
          "12/27/2020",
          "12/28/2020",
          "12/29/2020",
          "12/30/2020",
          "12/31/2020",
          "1/1/2021",
          "1/2/2021",
          "1/3/2021",
          "1/4/2021",
          "1/5/2021",
          "1/6/2021",
          "1/7/2021",
          "1/8/2021",
          "1/9/2021",
          "1/10/2021",
          "1/11/2021",
          "1/12/2021",
          "1/13/2021",
          "1/14/2021",
          "1/15/2021",
          "1/16/2021",
          "1/17/2021",
          "1/18/2021",
          "1/19/2021",
          "1/20/2021",
          "1/21/2021",
          "1/22/2021",
          "1/23/2021",
          "1/24/2021"
         ],
         "xaxis": "x",
         "y": [
          0,
          2198,
          2198,
          2198,
          2198,
          2198,
          2198,
          2198,
          2136,
          2074,
          2012,
          1950,
          1887,
          1825,
          1763,
          1796,
          1830,
          1863,
          1896,
          1929,
          1962,
          1995,
          2450,
          2904,
          3359,
          3814,
          4268,
          4723,
          5177,
          5183,
          5893,
          6812,
          7988,
          8460,
          8931,
          9403,
          10123,
          10672,
          11105,
          12318,
          15148,
          17371,
          17063
         ],
         "yaxis": "y"
        }
       ],
       "layout": {
        "legend": {
         "title": {
          "text": "country"
         },
         "tracegroupgap": 0
        },
        "margin": {
         "t": 60
        },
        "template": {
         "data": {
          "bar": [
           {
            "error_x": {
             "color": "#2a3f5f"
            },
            "error_y": {
             "color": "#2a3f5f"
            },
            "marker": {
             "line": {
              "color": "#E5ECF6",
              "width": 0.5
             },
             "pattern": {
              "fillmode": "overlay",
              "size": 10,
              "solidity": 0.2
             }
            },
            "type": "bar"
           }
          ],
          "barpolar": [
           {
            "marker": {
             "line": {
              "color": "#E5ECF6",
              "width": 0.5
             },
             "pattern": {
              "fillmode": "overlay",
              "size": 10,
              "solidity": 0.2
             }
            },
            "type": "barpolar"
           }
          ],
          "carpet": [
           {
            "aaxis": {
             "endlinecolor": "#2a3f5f",
             "gridcolor": "white",
             "linecolor": "white",
             "minorgridcolor": "white",
             "startlinecolor": "#2a3f5f"
            },
            "baxis": {
             "endlinecolor": "#2a3f5f",
             "gridcolor": "white",
             "linecolor": "white",
             "minorgridcolor": "white",
             "startlinecolor": "#2a3f5f"
            },
            "type": "carpet"
           }
          ],
          "choropleth": [
           {
            "colorbar": {
             "outlinewidth": 0,
             "ticks": ""
            },
            "type": "choropleth"
           }
          ],
          "contour": [
           {
            "colorbar": {
             "outlinewidth": 0,
             "ticks": ""
            },
            "colorscale": [
             [
              0,
              "#0d0887"
             ],
             [
              0.1111111111111111,
              "#46039f"
             ],
             [
              0.2222222222222222,
              "#7201a8"
             ],
             [
              0.3333333333333333,
              "#9c179e"
             ],
             [
              0.4444444444444444,
              "#bd3786"
             ],
             [
              0.5555555555555556,
              "#d8576b"
             ],
             [
              0.6666666666666666,
              "#ed7953"
             ],
             [
              0.7777777777777778,
              "#fb9f3a"
             ],
             [
              0.8888888888888888,
              "#fdca26"
             ],
             [
              1,
              "#f0f921"
             ]
            ],
            "type": "contour"
           }
          ],
          "contourcarpet": [
           {
            "colorbar": {
             "outlinewidth": 0,
             "ticks": ""
            },
            "type": "contourcarpet"
           }
          ],
          "heatmap": [
           {
            "colorbar": {
             "outlinewidth": 0,
             "ticks": ""
            },
            "colorscale": [
             [
              0,
              "#0d0887"
             ],
             [
              0.1111111111111111,
              "#46039f"
             ],
             [
              0.2222222222222222,
              "#7201a8"
             ],
             [
              0.3333333333333333,
              "#9c179e"
             ],
             [
              0.4444444444444444,
              "#bd3786"
             ],
             [
              0.5555555555555556,
              "#d8576b"
             ],
             [
              0.6666666666666666,
              "#ed7953"
             ],
             [
              0.7777777777777778,
              "#fb9f3a"
             ],
             [
              0.8888888888888888,
              "#fdca26"
             ],
             [
              1,
              "#f0f921"
             ]
            ],
            "type": "heatmap"
           }
          ],
          "heatmapgl": [
           {
            "colorbar": {
             "outlinewidth": 0,
             "ticks": ""
            },
            "colorscale": [
             [
              0,
              "#0d0887"
             ],
             [
              0.1111111111111111,
              "#46039f"
             ],
             [
              0.2222222222222222,
              "#7201a8"
             ],
             [
              0.3333333333333333,
              "#9c179e"
             ],
             [
              0.4444444444444444,
              "#bd3786"
             ],
             [
              0.5555555555555556,
              "#d8576b"
             ],
             [
              0.6666666666666666,
              "#ed7953"
             ],
             [
              0.7777777777777778,
              "#fb9f3a"
             ],
             [
              0.8888888888888888,
              "#fdca26"
             ],
             [
              1,
              "#f0f921"
             ]
            ],
            "type": "heatmapgl"
           }
          ],
          "histogram": [
           {
            "marker": {
             "pattern": {
              "fillmode": "overlay",
              "size": 10,
              "solidity": 0.2
             }
            },
            "type": "histogram"
           }
          ],
          "histogram2d": [
           {
            "colorbar": {
             "outlinewidth": 0,
             "ticks": ""
            },
            "colorscale": [
             [
              0,
              "#0d0887"
             ],
             [
              0.1111111111111111,
              "#46039f"
             ],
             [
              0.2222222222222222,
              "#7201a8"
             ],
             [
              0.3333333333333333,
              "#9c179e"
             ],
             [
              0.4444444444444444,
              "#bd3786"
             ],
             [
              0.5555555555555556,
              "#d8576b"
             ],
             [
              0.6666666666666666,
              "#ed7953"
             ],
             [
              0.7777777777777778,
              "#fb9f3a"
             ],
             [
              0.8888888888888888,
              "#fdca26"
             ],
             [
              1,
              "#f0f921"
             ]
            ],
            "type": "histogram2d"
           }
          ],
          "histogram2dcontour": [
           {
            "colorbar": {
             "outlinewidth": 0,
             "ticks": ""
            },
            "colorscale": [
             [
              0,
              "#0d0887"
             ],
             [
              0.1111111111111111,
              "#46039f"
             ],
             [
              0.2222222222222222,
              "#7201a8"
             ],
             [
              0.3333333333333333,
              "#9c179e"
             ],
             [
              0.4444444444444444,
              "#bd3786"
             ],
             [
              0.5555555555555556,
              "#d8576b"
             ],
             [
              0.6666666666666666,
              "#ed7953"
             ],
             [
              0.7777777777777778,
              "#fb9f3a"
             ],
             [
              0.8888888888888888,
              "#fdca26"
             ],
             [
              1,
              "#f0f921"
             ]
            ],
            "type": "histogram2dcontour"
           }
          ],
          "mesh3d": [
           {
            "colorbar": {
             "outlinewidth": 0,
             "ticks": ""
            },
            "type": "mesh3d"
           }
          ],
          "parcoords": [
           {
            "line": {
             "colorbar": {
              "outlinewidth": 0,
              "ticks": ""
             }
            },
            "type": "parcoords"
           }
          ],
          "pie": [
           {
            "automargin": true,
            "type": "pie"
           }
          ],
          "scatter": [
           {
            "fillpattern": {
             "fillmode": "overlay",
             "size": 10,
             "solidity": 0.2
            },
            "type": "scatter"
           }
          ],
          "scatter3d": [
           {
            "line": {
             "colorbar": {
              "outlinewidth": 0,
              "ticks": ""
             }
            },
            "marker": {
             "colorbar": {
              "outlinewidth": 0,
              "ticks": ""
             }
            },
            "type": "scatter3d"
           }
          ],
          "scattercarpet": [
           {
            "marker": {
             "colorbar": {
              "outlinewidth": 0,
              "ticks": ""
             }
            },
            "type": "scattercarpet"
           }
          ],
          "scattergeo": [
           {
            "marker": {
             "colorbar": {
              "outlinewidth": 0,
              "ticks": ""
             }
            },
            "type": "scattergeo"
           }
          ],
          "scattergl": [
           {
            "marker": {
             "colorbar": {
              "outlinewidth": 0,
              "ticks": ""
             }
            },
            "type": "scattergl"
           }
          ],
          "scattermapbox": [
           {
            "marker": {
             "colorbar": {
              "outlinewidth": 0,
              "ticks": ""
             }
            },
            "type": "scattermapbox"
           }
          ],
          "scatterpolar": [
           {
            "marker": {
             "colorbar": {
              "outlinewidth": 0,
              "ticks": ""
             }
            },
            "type": "scatterpolar"
           }
          ],
          "scatterpolargl": [
           {
            "marker": {
             "colorbar": {
              "outlinewidth": 0,
              "ticks": ""
             }
            },
            "type": "scatterpolargl"
           }
          ],
          "scatterternary": [
           {
            "marker": {
             "colorbar": {
              "outlinewidth": 0,
              "ticks": ""
             }
            },
            "type": "scatterternary"
           }
          ],
          "surface": [
           {
            "colorbar": {
             "outlinewidth": 0,
             "ticks": ""
            },
            "colorscale": [
             [
              0,
              "#0d0887"
             ],
             [
              0.1111111111111111,
              "#46039f"
             ],
             [
              0.2222222222222222,
              "#7201a8"
             ],
             [
              0.3333333333333333,
              "#9c179e"
             ],
             [
              0.4444444444444444,
              "#bd3786"
             ],
             [
              0.5555555555555556,
              "#d8576b"
             ],
             [
              0.6666666666666666,
              "#ed7953"
             ],
             [
              0.7777777777777778,
              "#fb9f3a"
             ],
             [
              0.8888888888888888,
              "#fdca26"
             ],
             [
              1,
              "#f0f921"
             ]
            ],
            "type": "surface"
           }
          ],
          "table": [
           {
            "cells": {
             "fill": {
              "color": "#EBF0F8"
             },
             "line": {
              "color": "white"
             }
            },
            "header": {
             "fill": {
              "color": "#C8D4E3"
             },
             "line": {
              "color": "white"
             }
            },
            "type": "table"
           }
          ]
         },
         "layout": {
          "annotationdefaults": {
           "arrowcolor": "#2a3f5f",
           "arrowhead": 0,
           "arrowwidth": 1
          },
          "autotypenumbers": "strict",
          "coloraxis": {
           "colorbar": {
            "outlinewidth": 0,
            "ticks": ""
           }
          },
          "colorscale": {
           "diverging": [
            [
             0,
             "#8e0152"
            ],
            [
             0.1,
             "#c51b7d"
            ],
            [
             0.2,
             "#de77ae"
            ],
            [
             0.3,
             "#f1b6da"
            ],
            [
             0.4,
             "#fde0ef"
            ],
            [
             0.5,
             "#f7f7f7"
            ],
            [
             0.6,
             "#e6f5d0"
            ],
            [
             0.7,
             "#b8e186"
            ],
            [
             0.8,
             "#7fbc41"
            ],
            [
             0.9,
             "#4d9221"
            ],
            [
             1,
             "#276419"
            ]
           ],
           "sequential": [
            [
             0,
             "#0d0887"
            ],
            [
             0.1111111111111111,
             "#46039f"
            ],
            [
             0.2222222222222222,
             "#7201a8"
            ],
            [
             0.3333333333333333,
             "#9c179e"
            ],
            [
             0.4444444444444444,
             "#bd3786"
            ],
            [
             0.5555555555555556,
             "#d8576b"
            ],
            [
             0.6666666666666666,
             "#ed7953"
            ],
            [
             0.7777777777777778,
             "#fb9f3a"
            ],
            [
             0.8888888888888888,
             "#fdca26"
            ],
            [
             1,
             "#f0f921"
            ]
           ],
           "sequentialminus": [
            [
             0,
             "#0d0887"
            ],
            [
             0.1111111111111111,
             "#46039f"
            ],
            [
             0.2222222222222222,
             "#7201a8"
            ],
            [
             0.3333333333333333,
             "#9c179e"
            ],
            [
             0.4444444444444444,
             "#bd3786"
            ],
            [
             0.5555555555555556,
             "#d8576b"
            ],
            [
             0.6666666666666666,
             "#ed7953"
            ],
            [
             0.7777777777777778,
             "#fb9f3a"
            ],
            [
             0.8888888888888888,
             "#fdca26"
            ],
            [
             1,
             "#f0f921"
            ]
           ]
          },
          "colorway": [
           "#636efa",
           "#EF553B",
           "#00cc96",
           "#ab63fa",
           "#FFA15A",
           "#19d3f3",
           "#FF6692",
           "#B6E880",
           "#FF97FF",
           "#FECB52"
          ],
          "font": {
           "color": "#2a3f5f"
          },
          "geo": {
           "bgcolor": "white",
           "lakecolor": "white",
           "landcolor": "#E5ECF6",
           "showlakes": true,
           "showland": true,
           "subunitcolor": "white"
          },
          "hoverlabel": {
           "align": "left"
          },
          "hovermode": "closest",
          "mapbox": {
           "style": "light"
          },
          "paper_bgcolor": "white",
          "plot_bgcolor": "#E5ECF6",
          "polar": {
           "angularaxis": {
            "gridcolor": "white",
            "linecolor": "white",
            "ticks": ""
           },
           "bgcolor": "#E5ECF6",
           "radialaxis": {
            "gridcolor": "white",
            "linecolor": "white",
            "ticks": ""
           }
          },
          "scene": {
           "xaxis": {
            "backgroundcolor": "#E5ECF6",
            "gridcolor": "white",
            "gridwidth": 2,
            "linecolor": "white",
            "showbackground": true,
            "ticks": "",
            "zerolinecolor": "white"
           },
           "yaxis": {
            "backgroundcolor": "#E5ECF6",
            "gridcolor": "white",
            "gridwidth": 2,
            "linecolor": "white",
            "showbackground": true,
            "ticks": "",
            "zerolinecolor": "white"
           },
           "zaxis": {
            "backgroundcolor": "#E5ECF6",
            "gridcolor": "white",
            "gridwidth": 2,
            "linecolor": "white",
            "showbackground": true,
            "ticks": "",
            "zerolinecolor": "white"
           }
          },
          "shapedefaults": {
           "line": {
            "color": "#2a3f5f"
           }
          },
          "ternary": {
           "aaxis": {
            "gridcolor": "white",
            "linecolor": "white",
            "ticks": ""
           },
           "baxis": {
            "gridcolor": "white",
            "linecolor": "white",
            "ticks": ""
           },
           "bgcolor": "#E5ECF6",
           "caxis": {
            "gridcolor": "white",
            "linecolor": "white",
            "ticks": ""
           }
          },
          "title": {
           "x": 0.05
          },
          "xaxis": {
           "automargin": true,
           "gridcolor": "white",
           "linecolor": "white",
           "ticks": "",
           "title": {
            "standoff": 15
           },
           "zerolinecolor": "white",
           "zerolinewidth": 2
          },
          "yaxis": {
           "automargin": true,
           "gridcolor": "white",
           "linecolor": "white",
           "ticks": "",
           "title": {
            "standoff": 15
           },
           "zerolinecolor": "white",
           "zerolinewidth": 2
          }
         }
        },
        "title": {
         "text": "Daily vaccination trend",
         "x": 0.5,
         "y": 0.95
        },
        "xaxis": {
         "anchor": "y",
         "domain": [
          0,
          1
         ],
         "title": {
          "text": "Date"
         }
        },
        "yaxis": {
         "anchor": "x",
         "domain": [
          0,
          1
         ],
         "title": {
          "text": "Daily Vaccinations"
         }
        }
       }
      },
      "text/html": [
       "<div>                            <div id=\"31f4efa8-c9b4-4cd2-a2e9-00c0c150c554\" class=\"plotly-graph-div\" style=\"height:525px; width:100%;\"></div>            <script type=\"text/javascript\">                require([\"plotly\"], function(Plotly) {                    window.PLOTLYENV=window.PLOTLYENV || {};                                    if (document.getElementById(\"31f4efa8-c9b4-4cd2-a2e9-00c0c150c554\")) {                    Plotly.newPlot(                        \"31f4efa8-c9b4-4cd2-a2e9-00c0c150c554\",                        [{\"hovertemplate\":\"country=Argentina<br>date=%{x}<br>daily_vaccinations=%{y}<extra></extra>\",\"legendgroup\":\"Argentina\",\"line\":{\"color\":\"#636efa\",\"dash\":\"solid\"},\"marker\":{\"symbol\":\"circle\"},\"mode\":\"lines\",\"name\":\"Argentina\",\"showlegend\":true,\"x\":[\"12/29/2020\",\"12/30/2020\",\"12/31/2020\",\"1/1/2021\",\"1/2/2021\",\"1/3/2021\",\"1/4/2021\",\"1/5/2021\",\"1/6/2021\",\"1/7/2021\",\"1/8/2021\",\"1/9/2021\",\"1/10/2021\",\"1/11/2021\",\"1/12/2021\",\"1/13/2021\",\"1/14/2021\",\"1/15/2021\",\"1/16/2021\",\"1/17/2021\",\"1/18/2021\",\"1/19/2021\",\"1/20/2021\",\"1/21/2021\",\"1/22/2021\",\"1/23/2021\",\"1/24/2021\",\"1/25/2021\"],\"xaxis\":\"x\",\"y\":[0.0,15656.0,15656.0,11070.0,8776.0,7400.0,6483.0,7984.0,8173.0,8363.0,10519.0,11942.0,13365.0,14788.0,14056.0,13323.0,13320.0,13317.0,12971.0,12624.0,12278.0,11932.0,11586.0,11704.0,11263.0,11124.0,10342.0,9046.0],\"yaxis\":\"y\",\"type\":\"scattergl\"},{\"hovertemplate\":\"country=Austria<br>date=%{x}<br>daily_vaccinations=%{y}<extra></extra>\",\"legendgroup\":\"Austria\",\"line\":{\"color\":\"#EF553B\",\"dash\":\"solid\"},\"marker\":{\"symbol\":\"circle\"},\"mode\":\"lines\",\"name\":\"Austria\",\"showlegend\":true,\"x\":[\"1/5/2021\",\"1/6/2021\",\"1/7/2021\",\"1/8/2021\",\"1/9/2021\",\"1/10/2021\",\"1/11/2021\",\"1/12/2021\",\"1/13/2021\",\"1/14/2021\",\"1/15/2021\",\"1/16/2021\",\"1/17/2021\",\"1/18/2021\",\"1/19/2021\",\"1/20/2021\",\"1/21/2021\",\"1/22/2021\",\"1/23/2021\",\"1/24/2021\"],\"xaxis\":\"x\",\"y\":[0.0,3368.0,3368.0,7263.0,5791.0,4705.0,5031.0,6366.0,7365.0,8429.0,7747.0,7953.0,10129.0,11852.0,12472.0,12489.0,12552.0,11797.0,11765.0,9622.0],\"yaxis\":\"y\",\"type\":\"scattergl\"},{\"hovertemplate\":\"country=Bahrain<br>date=%{x}<br>daily_vaccinations=%{y}<extra></extra>\",\"legendgroup\":\"Bahrain\",\"line\":{\"color\":\"#00cc96\",\"dash\":\"solid\"},\"marker\":{\"symbol\":\"circle\"},\"mode\":\"lines\",\"name\":\"Bahrain\",\"showlegend\":true,\"x\":[\"12/23/2020\",\"12/24/2020\",\"12/25/2020\",\"12/26/2020\",\"12/27/2020\",\"12/28/2020\",\"12/29/2020\",\"12/30/2020\",\"12/31/2020\",\"1/1/2021\",\"1/2/2021\",\"1/3/2021\",\"1/4/2021\",\"1/5/2021\",\"1/6/2021\",\"1/7/2021\",\"1/8/2021\",\"1/9/2021\",\"1/10/2021\",\"1/11/2021\",\"1/12/2021\",\"1/13/2021\",\"1/14/2021\",\"1/15/2021\",\"1/16/2021\",\"1/17/2021\",\"1/18/2021\",\"1/19/2021\",\"1/20/2021\"],\"xaxis\":\"x\",\"y\":[0.0,11106.0,5789.0,4197.0,3662.0,3210.0,2846.0,2622.0,1225.0,1258.0,1220.0,1011.0,943.0,1122.0,1594.0,1942.0,2706.0,3437.0,4080.0,4427.0,4840.0,4699.0,5332.0,6361.0,7572.0,7473.0,7176.0,6546.0,6110.0],\"yaxis\":\"y\",\"type\":\"scattergl\"},{\"hovertemplate\":\"country=Belgium<br>date=%{x}<br>daily_vaccinations=%{y}<extra></extra>\",\"legendgroup\":\"Belgium\",\"line\":{\"color\":\"#ab63fa\",\"dash\":\"solid\"},\"marker\":{\"symbol\":\"circle\"},\"mode\":\"lines\",\"name\":\"Belgium\",\"showlegend\":true,\"x\":[\"12/28/2020\",\"12/29/2020\",\"12/30/2020\",\"12/31/2020\",\"1/1/2021\",\"1/2/2021\",\"1/3/2021\",\"1/4/2021\",\"1/5/2021\",\"1/6/2021\",\"1/7/2021\",\"1/8/2021\",\"1/9/2021\",\"1/10/2021\",\"1/11/2021\",\"1/12/2021\",\"1/13/2021\",\"1/14/2021\",\"1/15/2021\",\"1/16/2021\",\"1/17/2021\",\"1/18/2021\",\"1/19/2021\",\"1/20/2021\",\"1/21/2021\",\"1/22/2021\"],\"xaxis\":\"x\",\"y\":[0.0,1.0,234.0,159.0,122.0,97.0,81.0,70.0,283.0,736.0,1855.0,3134.0,3578.0,3634.0,4398.0,6284.0,8558.0,10320.0,12023.0,12246.0,12582.0,13135.0,13001.0,12222.0,11112.0,9632.0],\"yaxis\":\"y\",\"type\":\"scattergl\"},{\"hovertemplate\":\"country=Brazil<br>date=%{x}<br>daily_vaccinations=%{y}<extra></extra>\",\"legendgroup\":\"Brazil\",\"line\":{\"color\":\"#FFA15A\",\"dash\":\"solid\"},\"marker\":{\"symbol\":\"circle\"},\"mode\":\"lines\",\"name\":\"Brazil\",\"showlegend\":true,\"x\":[\"1/16/2021\",\"1/17/2021\",\"1/18/2021\",\"1/19/2021\",\"1/20/2021\",\"1/21/2021\",\"1/22/2021\",\"1/23/2021\",\"1/24/2021\",\"1/25/2021\"],\"xaxis\":\"x\",\"y\":[0.0,112.0,554.0,3823.0,7136.0,27304.0,40980.0,76825.0,86373.0,99928.0],\"yaxis\":\"y\",\"type\":\"scattergl\"},{\"hovertemplate\":\"country=Bulgaria<br>date=%{x}<br>daily_vaccinations=%{y}<extra></extra>\",\"legendgroup\":\"Bulgaria\",\"line\":{\"color\":\"#19d3f3\",\"dash\":\"solid\"},\"marker\":{\"symbol\":\"circle\"},\"mode\":\"lines\",\"name\":\"Bulgaria\",\"showlegend\":true,\"x\":[\"12/29/2020\",\"12/30/2020\",\"12/31/2020\",\"1/1/2021\",\"1/2/2021\",\"1/3/2021\",\"1/4/2021\",\"1/5/2021\",\"1/6/2021\",\"1/7/2021\",\"1/8/2021\",\"1/9/2021\",\"1/10/2021\",\"1/11/2021\",\"1/12/2021\",\"1/13/2021\",\"1/14/2021\",\"1/15/2021\",\"1/16/2021\",\"1/17/2021\",\"1/18/2021\",\"1/19/2021\",\"1/20/2021\",\"1/21/2021\",\"1/22/2021\",\"1/23/2021\",\"1/24/2021\",\"1/25/2021\"],\"xaxis\":\"x\",\"y\":[0.0,2889.0,1477.0,1007.0,799.0,675.0,592.0,533.0,472.0,920.0,1231.0,1222.0,1246.0,1270.0,1476.0,1304.0,938.0,682.0,694.0,662.0,782.0,921.0,1013.0,1081.0,1139.0,1112.0,1099.0,1023.0],\"yaxis\":\"y\",\"type\":\"scattergl\"},{\"hovertemplate\":\"country=Canada<br>date=%{x}<br>daily_vaccinations=%{y}<extra></extra>\",\"legendgroup\":\"Canada\",\"line\":{\"color\":\"#FF6692\",\"dash\":\"solid\"},\"marker\":{\"symbol\":\"circle\"},\"mode\":\"lines\",\"name\":\"Canada\",\"showlegend\":true,\"x\":[\"12/14/2020\",\"12/15/2020\",\"12/16/2020\",\"12/17/2020\",\"12/18/2020\",\"12/19/2020\",\"12/20/2020\",\"12/21/2020\",\"12/22/2020\",\"12/23/2020\",\"12/24/2020\",\"12/25/2020\",\"12/26/2020\",\"12/27/2020\",\"12/28/2020\",\"12/29/2020\",\"12/30/2020\",\"12/31/2020\",\"1/1/2021\",\"1/2/2021\",\"1/3/2021\",\"1/4/2021\",\"1/5/2021\",\"1/6/2021\",\"1/7/2021\",\"1/8/2021\",\"1/9/2021\",\"1/10/2021\",\"1/11/2021\",\"1/12/2021\",\"1/13/2021\",\"1/14/2021\",\"1/15/2021\",\"1/16/2021\",\"1/17/2021\",\"1/18/2021\",\"1/19/2021\",\"1/20/2021\",\"1/21/2021\",\"1/22/2021\",\"1/23/2021\",\"1/24/2021\",\"1/25/2021\"],\"xaxis\":\"x\",\"y\":[0.0,866.0,1693.0,2301.0,2580.0,2319.0,2366.0,2938.0,3589.0,4487.0,5457.0,5012.0,5261.0,5398.0,5512.0,6352.0,6342.0,7205.0,8378.0,9101.0,9350.0,11044.0,12111.0,14887.0,17662.0,22412.0,26418.0,29046.0,31914.0,33281.0,33646.0,34290.0,35208.0,35134.0,35670.0,36358.0,37521.0,39576.0,39910.0,38417.0,36850.0,35101.0,32183.0],\"yaxis\":\"y\",\"type\":\"scattergl\"},{\"hovertemplate\":\"country=Chile<br>date=%{x}<br>daily_vaccinations=%{y}<extra></extra>\",\"legendgroup\":\"Chile\",\"line\":{\"color\":\"#B6E880\",\"dash\":\"solid\"},\"marker\":{\"symbol\":\"circle\"},\"mode\":\"lines\",\"name\":\"Chile\",\"showlegend\":true,\"x\":[\"12/24/2020\",\"12/25/2020\",\"12/26/2020\",\"12/27/2020\",\"12/28/2020\",\"12/29/2020\",\"12/30/2020\",\"12/31/2020\",\"1/1/2021\",\"1/2/2021\",\"1/3/2021\",\"1/4/2021\",\"1/5/2021\",\"1/6/2021\",\"1/7/2021\",\"1/8/2021\",\"1/9/2021\",\"1/10/2021\",\"1/11/2021\",\"1/12/2021\",\"1/13/2021\",\"1/14/2021\",\"1/15/2021\",\"1/16/2021\",\"1/17/2021\",\"1/18/2021\",\"1/19/2021\",\"1/20/2021\",\"1/21/2021\",\"1/22/2021\",\"1/23/2021\",\"1/24/2021\",\"1/25/2021\"],\"xaxis\":\"x\",\"y\":[0.0,4771.0,3958.0,2742.0,2069.0,1665.0,1396.0,1204.0,530.0,88.0,51.0,51.0,250.0,272.0,344.0,417.0,489.0,562.0,635.0,508.0,559.0,1038.0,1437.0,1366.0,1291.0,2699.0,5267.0,5632.0,6328.0,5882.0,6000.0,6020.0,4557.0],\"yaxis\":\"y\",\"type\":\"scattergl\"},{\"hovertemplate\":\"country=China<br>date=%{x}<br>daily_vaccinations=%{y}<extra></extra>\",\"legendgroup\":\"China\",\"line\":{\"color\":\"#FF97FF\",\"dash\":\"solid\"},\"marker\":{\"symbol\":\"circle\"},\"mode\":\"lines\",\"name\":\"China\",\"showlegend\":true,\"x\":[\"12/15/2020\",\"12/16/2020\",\"12/17/2020\",\"12/18/2020\",\"12/19/2020\",\"12/20/2020\",\"12/21/2020\",\"12/22/2020\",\"12/23/2020\",\"12/24/2020\",\"12/25/2020\",\"12/26/2020\",\"12/27/2020\",\"12/28/2020\",\"12/29/2020\",\"12/30/2020\",\"12/31/2020\",\"1/1/2021\",\"1/2/2021\",\"1/3/2021\",\"1/4/2021\",\"1/5/2021\",\"1/6/2021\",\"1/7/2021\",\"1/8/2021\",\"1/9/2021\",\"1/10/2021\",\"1/11/2021\",\"1/12/2021\",\"1/13/2021\",\"1/14/2021\",\"1/15/2021\",\"1/16/2021\",\"1/17/2021\",\"1/18/2021\",\"1/19/2021\",\"1/20/2021\"],\"xaxis\":\"x\",\"y\":[0.0,187500.0,187500.0,187500.0,187500.0,187500.0,187500.0,187500.0,187500.0,187500.0,187500.0,187500.0,187500.0,187500.0,187500.0,187500.0,187500.0,232143.0,276786.0,321429.0,366071.0,410714.0,455357.0,500000.0,500000.0,500000.0,464286.0,428571.0,392857.0,357143.0,387755.0,418367.0,448980.0,515306.0,581633.0,647959.0,714286.0],\"yaxis\":\"y\",\"type\":\"scattergl\"},{\"hovertemplate\":\"country=Costa Rica<br>date=%{x}<br>daily_vaccinations=%{y}<extra></extra>\",\"legendgroup\":\"Costa Rica\",\"line\":{\"color\":\"#FECB52\",\"dash\":\"solid\"},\"marker\":{\"symbol\":\"circle\"},\"mode\":\"lines\",\"name\":\"Costa Rica\",\"showlegend\":true,\"x\":[\"12/24/2020\",\"12/25/2020\",\"12/26/2020\",\"12/27/2020\",\"12/28/2020\",\"12/29/2020\",\"12/30/2020\",\"12/31/2020\",\"1/1/2021\",\"1/2/2021\",\"1/3/2021\",\"1/4/2021\",\"1/5/2021\",\"1/6/2021\",\"1/7/2021\",\"1/8/2021\",\"1/9/2021\",\"1/10/2021\",\"1/11/2021\",\"1/12/2021\",\"1/13/2021\",\"1/14/2021\",\"1/15/2021\",\"1/16/2021\",\"1/17/2021\",\"1/18/2021\"],\"xaxis\":\"x\",\"y\":[0.0,240.0,240.0,240.0,240.0,240.0,240.0,240.0,240.0,240.0,240.0,414.0,588.0,763.0,937.0,1111.0,1385.0,1659.0,1759.0,1859.0,1959.0,2058.0,2158.0,2066.0,1973.0,1880.0],\"yaxis\":\"y\",\"type\":\"scattergl\"},{\"hovertemplate\":\"country=Croatia<br>date=%{x}<br>daily_vaccinations=%{y}<extra></extra>\",\"legendgroup\":\"Croatia\",\"line\":{\"color\":\"#636efa\",\"dash\":\"solid\"},\"marker\":{\"symbol\":\"circle\"},\"mode\":\"lines\",\"name\":\"Croatia\",\"showlegend\":true,\"x\":[\"12/30/2020\",\"12/31/2020\",\"1/1/2021\",\"1/2/2021\",\"1/3/2021\",\"1/4/2021\",\"1/5/2021\",\"1/6/2021\",\"1/7/2021\",\"1/8/2021\",\"1/9/2021\",\"1/10/2021\",\"1/11/2021\",\"1/12/2021\",\"1/13/2021\",\"1/14/2021\",\"1/15/2021\",\"1/16/2021\",\"1/17/2021\",\"1/18/2021\",\"1/19/2021\",\"1/20/2021\",\"1/21/2021\",\"1/22/2021\",\"1/23/2021\",\"1/24/2021\",\"1/25/2021\"],\"xaxis\":\"x\",\"y\":[0.0,1105.0,1105.0,1105.0,1105.0,1036.0,989.0,1334.0,1662.0,2130.0,2689.0,2693.0,2748.0,2802.0,2479.0,2485.0,2364.0,2272.0,2510.0,2747.0,2984.0,3329.0,3343.0,3346.0,2960.0,2800.0,2640.0],\"yaxis\":\"y\",\"type\":\"scattergl\"},{\"hovertemplate\":\"country=Cyprus<br>date=%{x}<br>daily_vaccinations=%{y}<extra></extra>\",\"legendgroup\":\"Cyprus\",\"line\":{\"color\":\"#EF553B\",\"dash\":\"solid\"},\"marker\":{\"symbol\":\"circle\"},\"mode\":\"lines\",\"name\":\"Cyprus\",\"showlegend\":true,\"x\":[\"1/6/2021\",\"1/7/2021\",\"1/8/2021\",\"1/9/2021\",\"1/10/2021\",\"1/11/2021\",\"1/12/2021\",\"1/13/2021\",\"1/14/2021\",\"1/15/2021\",\"1/16/2021\",\"1/17/2021\",\"1/18/2021\",\"1/19/2021\",\"1/20/2021\",\"1/21/2021\",\"1/22/2021\"],\"xaxis\":\"x\",\"y\":[0.0,534.0,534.0,534.0,534.0,594.0,635.0,664.0,708.0,751.0,821.0,891.0,917.0,943.0,969.0,996.0,1022.0],\"yaxis\":\"y\",\"type\":\"scattergl\"},{\"hovertemplate\":\"country=Czechia<br>date=%{x}<br>daily_vaccinations=%{y}<extra></extra>\",\"legendgroup\":\"Czechia\",\"line\":{\"color\":\"#00cc96\",\"dash\":\"solid\"},\"marker\":{\"symbol\":\"circle\"},\"mode\":\"lines\",\"name\":\"Czechia\",\"showlegend\":true,\"x\":[\"12/27/2020\",\"12/28/2020\",\"12/29/2020\",\"12/30/2020\",\"12/31/2020\",\"1/1/2021\",\"1/2/2021\",\"1/3/2021\",\"1/4/2021\",\"1/5/2021\",\"1/6/2021\",\"1/7/2021\",\"1/8/2021\",\"1/9/2021\",\"1/10/2021\",\"1/11/2021\",\"1/12/2021\",\"1/13/2021\",\"1/14/2021\",\"1/15/2021\",\"1/16/2021\",\"1/17/2021\",\"1/18/2021\",\"1/19/2021\",\"1/20/2021\",\"1/21/2021\",\"1/22/2021\",\"1/23/2021\",\"1/24/2021\",\"1/25/2021\"],\"xaxis\":\"x\",\"y\":[0.0,2229.0,2798.0,3010.0,2583.0,2119.0,1974.0,1822.0,1994.0,2128.0,2439.0,3361.0,4730.0,4832.0,4944.0,5812.0,7042.0,8132.0,9103.0,9588.0,9771.0,9963.0,10515.0,10743.0,10919.0,11087.0,11174.0,11220.0,11136.0,9226.0],\"yaxis\":\"y\",\"type\":\"scattergl\"},{\"hovertemplate\":\"country=Denmark<br>date=%{x}<br>daily_vaccinations=%{y}<extra></extra>\",\"legendgroup\":\"Denmark\",\"line\":{\"color\":\"#ab63fa\",\"dash\":\"solid\"},\"marker\":{\"symbol\":\"circle\"},\"mode\":\"lines\",\"name\":\"Denmark\",\"showlegend\":true,\"x\":[\"12/27/2020\",\"12/28/2020\",\"12/29/2020\",\"12/30/2020\",\"12/31/2020\",\"1/1/2021\",\"1/2/2021\",\"1/3/2021\",\"1/4/2021\",\"1/5/2021\",\"1/6/2021\",\"1/7/2021\",\"1/8/2021\",\"1/9/2021\",\"1/10/2021\",\"1/11/2021\",\"1/12/2021\",\"1/13/2021\",\"1/14/2021\",\"1/15/2021\",\"1/16/2021\",\"1/17/2021\",\"1/18/2021\",\"1/19/2021\",\"1/20/2021\",\"1/21/2021\",\"1/22/2021\",\"1/23/2021\",\"1/24/2021\",\"1/25/2021\"],\"xaxis\":\"x\",\"y\":[0.0,1994.0,5527.0,7525.0,7223.0,6254.0,6712.0,6616.0,6679.0,7319.0,8525.0,10138.0,11022.0,10008.0,9261.0,9008.0,7139.0,6098.0,6122.0,7052.0,7451.0,7800.0,8567.0,9160.0,7840.0,5852.0,4568.0,4948.0,5299.0,4439.0],\"yaxis\":\"y\",\"type\":\"scattergl\"},{\"hovertemplate\":\"country=Ecuador<br>date=%{x}<br>daily_vaccinations=%{y}<extra></extra>\",\"legendgroup\":\"Ecuador\",\"line\":{\"color\":\"#FFA15A\",\"dash\":\"solid\"},\"marker\":{\"symbol\":\"circle\"},\"mode\":\"lines\",\"name\":\"Ecuador\",\"showlegend\":true,\"x\":[\"1/21/2021\",\"1/22/2021\"],\"xaxis\":\"x\",\"y\":[0.0,108.0],\"yaxis\":\"y\",\"type\":\"scattergl\"},{\"hovertemplate\":\"country=England<br>date=%{x}<br>daily_vaccinations=%{y}<extra></extra>\",\"legendgroup\":\"England\",\"line\":{\"color\":\"#19d3f3\",\"dash\":\"solid\"},\"marker\":{\"symbol\":\"circle\"},\"mode\":\"lines\",\"name\":\"England\",\"showlegend\":true,\"x\":[\"12/20/2020\",\"12/21/2020\",\"12/22/2020\",\"12/23/2020\",\"12/24/2020\",\"12/25/2020\",\"12/26/2020\",\"12/27/2020\",\"12/28/2020\",\"12/29/2020\",\"12/30/2020\",\"12/31/2020\",\"1/1/2021\",\"1/2/2021\",\"1/3/2021\",\"1/4/2021\",\"1/5/2021\",\"1/6/2021\",\"1/7/2021\",\"1/8/2021\",\"1/9/2021\",\"1/10/2021\",\"1/11/2021\",\"1/12/2021\",\"1/13/2021\",\"1/14/2021\",\"1/15/2021\",\"1/16/2021\",\"1/17/2021\",\"1/18/2021\",\"1/19/2021\",\"1/20/2021\",\"1/21/2021\",\"1/22/2021\",\"1/23/2021\",\"1/24/2021\"],\"xaxis\":\"x\",\"y\":[0.0,37625.0,37625.0,37625.0,37625.0,37625.0,37625.0,37625.0,39253.0,40882.0,42511.0,44139.0,45768.0,47396.0,49025.0,65678.0,82331.0,98984.0,115637.0,132290.0,148943.0,165596.0,162002.0,165152.0,176950.0,193243.0,215973.0,231918.0,230525.0,234877.0,251122.0,261507.0,272972.0,287384.0,311226.0,317419.0],\"yaxis\":\"y\",\"type\":\"scattergl\"},{\"hovertemplate\":\"country=Estonia<br>date=%{x}<br>daily_vaccinations=%{y}<extra></extra>\",\"legendgroup\":\"Estonia\",\"line\":{\"color\":\"#FF6692\",\"dash\":\"solid\"},\"marker\":{\"symbol\":\"circle\"},\"mode\":\"lines\",\"name\":\"Estonia\",\"showlegend\":true,\"x\":[\"12/28/2020\",\"12/29/2020\",\"12/30/2020\",\"12/31/2020\",\"1/1/2021\",\"1/2/2021\",\"1/3/2021\",\"1/4/2021\",\"1/5/2021\",\"1/6/2021\",\"1/7/2021\",\"1/8/2021\",\"1/9/2021\",\"1/10/2021\",\"1/11/2021\",\"1/12/2021\",\"1/13/2021\",\"1/14/2021\",\"1/15/2021\",\"1/16/2021\",\"1/17/2021\",\"1/18/2021\",\"1/19/2021\",\"1/20/2021\",\"1/21/2021\",\"1/22/2021\",\"1/23/2021\",\"1/24/2021\",\"1/25/2021\"],\"xaxis\":\"x\",\"y\":[0.0,309.0,338.0,567.0,570.0,459.0,385.0,333.0,382.0,589.0,675.0,784.0,1099.0,1176.0,1205.0,1244.0,1210.0,1178.0,1243.0,1109.0,1061.0,1043.0,1060.0,1000.0,1015.0,1074.0,1106.0,1112.0,1122.0],\"yaxis\":\"y\",\"type\":\"scattergl\"},{\"hovertemplate\":\"country=Finland<br>date=%{x}<br>daily_vaccinations=%{y}<extra></extra>\",\"legendgroup\":\"Finland\",\"line\":{\"color\":\"#B6E880\",\"dash\":\"solid\"},\"marker\":{\"symbol\":\"circle\"},\"mode\":\"lines\",\"name\":\"Finland\",\"showlegend\":true,\"x\":[\"12/31/2020\",\"1/1/2021\",\"1/2/2021\",\"1/3/2021\",\"1/4/2021\",\"1/5/2021\",\"1/6/2021\",\"1/7/2021\",\"1/8/2021\",\"1/9/2021\",\"1/10/2021\",\"1/11/2021\",\"1/12/2021\",\"1/13/2021\",\"1/14/2021\",\"1/15/2021\",\"1/16/2021\",\"1/17/2021\",\"1/18/2021\",\"1/19/2021\",\"1/20/2021\",\"1/21/2021\",\"1/22/2021\",\"1/23/2021\",\"1/24/2021\",\"1/25/2021\"],\"xaxis\":\"x\",\"y\":[0.0,459.0,459.0,459.0,459.0,736.0,839.0,913.0,1273.0,1353.0,1433.0,1513.0,1739.0,2332.0,3554.0,4573.0,4971.0,5369.0,5767.0,5458.0,5562.0,6467.0,6874.0,7253.0,7633.0,8012.0],\"yaxis\":\"y\",\"type\":\"scattergl\"},{\"hovertemplate\":\"country=France<br>date=%{x}<br>daily_vaccinations=%{y}<extra></extra>\",\"legendgroup\":\"France\",\"line\":{\"color\":\"#FF97FF\",\"dash\":\"solid\"},\"marker\":{\"symbol\":\"circle\"},\"mode\":\"lines\",\"name\":\"France\",\"showlegend\":true,\"x\":[\"1/4/2021\",\"1/5/2021\",\"1/6/2021\",\"1/7/2021\",\"1/8/2021\",\"1/9/2021\",\"1/10/2021\",\"1/11/2021\",\"1/12/2021\",\"1/13/2021\",\"1/14/2021\",\"1/15/2021\",\"1/16/2021\",\"1/17/2021\",\"1/18/2021\",\"1/19/2021\",\"1/20/2021\",\"1/21/2021\",\"1/22/2021\",\"1/23/2021\",\"1/24/2021\",\"1/25/2021\"],\"xaxis\":\"x\",\"y\":[0.0,5000.0,8500.0,14667.0,20000.0,18800.0,17667.0,19622.0,26262.0,32738.0,39031.0,43961.0,45435.0,45018.0,48789.0,56547.0,63659.0,72193.0,82058.0,85096.0,86392.0,87584.0],\"yaxis\":\"y\",\"type\":\"scattergl\"},{\"hovertemplate\":\"country=Germany<br>date=%{x}<br>daily_vaccinations=%{y}<extra></extra>\",\"legendgroup\":\"Germany\",\"line\":{\"color\":\"#FECB52\",\"dash\":\"solid\"},\"marker\":{\"symbol\":\"circle\"},\"mode\":\"lines\",\"name\":\"Germany\",\"showlegend\":true,\"x\":[\"12/27/2020\",\"12/28/2020\",\"12/29/2020\",\"12/30/2020\",\"12/31/2020\",\"1/1/2021\",\"1/2/2021\",\"1/3/2021\",\"1/4/2021\",\"1/5/2021\",\"1/6/2021\",\"1/7/2021\",\"1/8/2021\",\"1/9/2021\",\"1/10/2021\",\"1/11/2021\",\"1/12/2021\",\"1/13/2021\",\"1/14/2021\",\"1/15/2021\",\"1/16/2021\",\"1/17/2021\",\"1/18/2021\",\"1/19/2021\",\"1/20/2021\",\"1/21/2021\",\"1/22/2021\",\"1/23/2021\",\"1/24/2021\"],\"xaxis\":\"x\",\"y\":[0.0,19721.0,31436.0,40119.0,39570.0,37778.0,38986.0,36924.0,41060.0,42191.0,42015.0,44865.0,48794.0,50053.0,51184.0,53647.0,57811.0,63158.0,69184.0,73836.0,73987.0,75782.0,76079.0,76635.0,80136.0,78281.0,80900.0,85088.0,87377.0],\"yaxis\":\"y\",\"type\":\"scattergl\"},{\"hovertemplate\":\"country=Gibraltar<br>date=%{x}<br>daily_vaccinations=%{y}<extra></extra>\",\"legendgroup\":\"Gibraltar\",\"line\":{\"color\":\"#636efa\",\"dash\":\"solid\"},\"marker\":{\"symbol\":\"circle\"},\"mode\":\"lines\",\"name\":\"Gibraltar\",\"showlegend\":true,\"x\":[\"1/10/2021\",\"1/11/2021\",\"1/12/2021\",\"1/13/2021\",\"1/14/2021\",\"1/15/2021\",\"1/16/2021\",\"1/17/2021\",\"1/18/2021\",\"1/19/2021\",\"1/20/2021\",\"1/21/2021\",\"1/22/2021\",\"1/23/2021\",\"1/24/2021\"],\"xaxis\":\"x\",\"y\":[0.0,1025.0,1040.0,986.0,959.0,943.0,904.0,775.0,713.0,645.0,520.0,527.0,535.0,566.0,642.0],\"yaxis\":\"y\",\"type\":\"scattergl\"},{\"hovertemplate\":\"country=Greece<br>date=%{x}<br>daily_vaccinations=%{y}<extra></extra>\",\"legendgroup\":\"Greece\",\"line\":{\"color\":\"#EF553B\",\"dash\":\"solid\"},\"marker\":{\"symbol\":\"circle\"},\"mode\":\"lines\",\"name\":\"Greece\",\"showlegend\":true,\"x\":[\"12/28/2020\",\"12/29/2020\",\"12/30/2020\",\"12/31/2020\",\"1/1/2021\",\"1/2/2021\",\"1/3/2021\",\"1/4/2021\",\"1/5/2021\",\"1/6/2021\",\"1/7/2021\",\"1/8/2021\",\"1/9/2021\",\"1/10/2021\",\"1/11/2021\",\"1/12/2021\",\"1/13/2021\",\"1/14/2021\",\"1/15/2021\",\"1/16/2021\",\"1/17/2021\",\"1/18/2021\",\"1/19/2021\",\"1/20/2021\",\"1/21/2021\",\"1/22/2021\",\"1/23/2021\",\"1/24/2021\",\"1/25/2021\"],\"xaxis\":\"x\",\"y\":[0.0,670.0,662.0,642.0,551.0,549.0,576.0,1370.0,2168.0,2680.0,3385.0,4599.0,5290.0,5748.0,5667.0,5709.0,6308.0,6384.0,5784.0,5654.0,5486.0,5083.0,5283.0,6102.0,7522.0,9371.0,11092.0,12128.0,13165.0],\"yaxis\":\"y\",\"type\":\"scattergl\"},{\"hovertemplate\":\"country=Hungary<br>date=%{x}<br>daily_vaccinations=%{y}<extra></extra>\",\"legendgroup\":\"Hungary\",\"line\":{\"color\":\"#00cc96\",\"dash\":\"solid\"},\"marker\":{\"symbol\":\"circle\"},\"mode\":\"lines\",\"name\":\"Hungary\",\"showlegend\":true,\"x\":[\"12/28/2020\",\"12/29/2020\",\"12/30/2020\",\"12/31/2020\",\"1/1/2021\",\"1/2/2021\",\"1/3/2021\",\"1/4/2021\",\"1/5/2021\",\"1/6/2021\",\"1/7/2021\",\"1/8/2021\",\"1/9/2021\",\"1/10/2021\",\"1/11/2021\",\"1/12/2021\",\"1/13/2021\",\"1/14/2021\",\"1/15/2021\",\"1/16/2021\",\"1/17/2021\",\"1/18/2021\",\"1/19/2021\",\"1/20/2021\",\"1/21/2021\",\"1/22/2021\",\"1/23/2021\",\"1/24/2021\"],\"xaxis\":\"x\",\"y\":[0.0,1367.0,1348.0,1339.0,1578.0,1722.0,1818.0,1987.0,2648.0,3959.0,5348.0,6375.0,7402.0,8429.0,9083.0,9418.0,9229.0,9026.0,8688.0,8347.0,7455.0,7536.0,6618.0,6069.0,5581.0,5326.0,4778.0,4701.0],\"yaxis\":\"y\",\"type\":\"scattergl\"},{\"hovertemplate\":\"country=Iceland<br>date=%{x}<br>daily_vaccinations=%{y}<extra></extra>\",\"legendgroup\":\"Iceland\",\"line\":{\"color\":\"#ab63fa\",\"dash\":\"solid\"},\"marker\":{\"symbol\":\"circle\"},\"mode\":\"lines\",\"name\":\"Iceland\",\"showlegend\":true,\"x\":[\"12/30/2020\",\"12/31/2020\",\"1/1/2021\",\"1/2/2021\",\"1/3/2021\",\"1/4/2021\",\"1/5/2021\",\"1/6/2021\",\"1/7/2021\",\"1/8/2021\",\"1/9/2021\",\"1/10/2021\",\"1/11/2021\",\"1/12/2021\",\"1/13/2021\",\"1/14/2021\",\"1/15/2021\",\"1/16/2021\",\"1/17/2021\",\"1/18/2021\",\"1/19/2021\",\"1/20/2021\",\"1/21/2021\",\"1/22/2021\",\"1/23/2021\",\"1/24/2021\",\"1/25/2021\"],\"xaxis\":\"x\",\"y\":[0.0,63.0,63.0,63.0,63.0,63.0,63.0,63.0,63.0,63.0,63.0,63.0,63.0,63.0,63.0,63.0,63.0,63.0,63.0,63.0,63.0,63.0,312.0,560.0,809.0,1057.0,1306.0],\"yaxis\":\"y\",\"type\":\"scattergl\"},{\"hovertemplate\":\"country=India<br>date=%{x}<br>daily_vaccinations=%{y}<extra></extra>\",\"legendgroup\":\"India\",\"line\":{\"color\":\"#FFA15A\",\"dash\":\"solid\"},\"marker\":{\"symbol\":\"circle\"},\"mode\":\"lines\",\"name\":\"India\",\"showlegend\":true,\"x\":[\"1/15/2021\",\"1/16/2021\",\"1/17/2021\",\"1/18/2021\",\"1/19/2021\",\"1/20/2021\",\"1/21/2021\",\"1/22/2021\",\"1/23/2021\",\"1/24/2021\",\"1/25/2021\"],\"xaxis\":\"x\",\"y\":[0.0,191181.0,112150.0,151350.0,168709.0,161297.0,173922.0,198656.0,198717.0,198743.0,224251.0],\"yaxis\":\"y\",\"type\":\"scattergl\"},{\"hovertemplate\":\"country=Indonesia<br>date=%{x}<br>daily_vaccinations=%{y}<extra></extra>\",\"legendgroup\":\"Indonesia\",\"line\":{\"color\":\"#19d3f3\",\"dash\":\"solid\"},\"marker\":{\"symbol\":\"circle\"},\"mode\":\"lines\",\"name\":\"Indonesia\",\"showlegend\":true,\"x\":[\"1/12/2021\",\"1/13/2021\",\"1/14/2021\",\"1/15/2021\",\"1/16/2021\",\"1/17/2021\",\"1/18/2021\",\"1/19/2021\",\"1/20/2021\",\"1/21/2021\",\"1/22/2021\",\"1/23/2021\",\"1/24/2021\",\"1/25/2021\"],\"xaxis\":\"x\",\"y\":[0.0,13200.0,13200.0,13200.0,13200.0,13200.0,13200.0,13200.0,13200.0,13200.0,13200.0,12546.0,11892.0,11823.0],\"yaxis\":\"y\",\"type\":\"scattergl\"},{\"hovertemplate\":\"country=Ireland<br>date=%{x}<br>daily_vaccinations=%{y}<extra></extra>\",\"legendgroup\":\"Ireland\",\"line\":{\"color\":\"#FF6692\",\"dash\":\"solid\"},\"marker\":{\"symbol\":\"circle\"},\"mode\":\"lines\",\"name\":\"Ireland\",\"showlegend\":true,\"x\":[\"12/31/2020\",\"1/1/2021\",\"1/2/2021\",\"1/3/2021\",\"1/4/2021\",\"1/5/2021\",\"1/6/2021\",\"1/7/2021\",\"1/8/2021\",\"1/9/2021\",\"1/10/2021\",\"1/11/2021\",\"1/12/2021\",\"1/13/2021\",\"1/14/2021\",\"1/15/2021\",\"1/16/2021\",\"1/17/2021\",\"1/18/2021\",\"1/19/2021\",\"1/20/2021\",\"1/21/2021\",\"1/22/2021\",\"1/23/2021\",\"1/24/2021\"],\"xaxis\":\"x\",\"y\":[0.0,550.0,550.0,550.0,550.0,1194.0,1624.0,1931.0,3028.0,4124.0,5221.0,6919.0,8157.0,9394.0,9452.0,8873.0,8293.0,7714.0,7267.0,6819.0,6371.0,6528.0,6686.0,6843.0,7000.0],\"yaxis\":\"y\",\"type\":\"scattergl\"},{\"hovertemplate\":\"country=Isle of Man<br>date=%{x}<br>daily_vaccinations=%{y}<extra></extra>\",\"legendgroup\":\"Isle of Man\",\"line\":{\"color\":\"#B6E880\",\"dash\":\"solid\"},\"marker\":{\"symbol\":\"circle\"},\"mode\":\"lines\",\"name\":\"Isle of Man\",\"showlegend\":true,\"x\":[\"1/21/2021\",\"1/22/2021\",\"1/23/2021\",\"1/24/2021\",\"1/25/2021\"],\"xaxis\":\"x\",\"y\":[0.0,90.0,138.0,155.0,163.0],\"yaxis\":\"y\",\"type\":\"scattergl\"},{\"hovertemplate\":\"country=Israel<br>date=%{x}<br>daily_vaccinations=%{y}<extra></extra>\",\"legendgroup\":\"Israel\",\"line\":{\"color\":\"#FF97FF\",\"dash\":\"solid\"},\"marker\":{\"symbol\":\"circle\"},\"mode\":\"lines\",\"name\":\"Israel\",\"showlegend\":true,\"x\":[\"12/19/2020\",\"12/20/2020\",\"12/21/2020\",\"12/22/2020\",\"12/23/2020\",\"12/24/2020\",\"12/25/2020\",\"12/26/2020\",\"12/27/2020\",\"12/28/2020\",\"12/29/2020\",\"12/30/2020\",\"12/31/2020\",\"1/1/2021\",\"1/2/2021\",\"1/3/2021\",\"1/4/2021\",\"1/5/2021\",\"1/6/2021\",\"1/7/2021\",\"1/8/2021\",\"1/9/2021\",\"1/10/2021\",\"1/11/2021\",\"1/12/2021\",\"1/13/2021\",\"1/14/2021\",\"1/15/2021\",\"1/16/2021\",\"1/17/2021\",\"1/18/2021\",\"1/19/2021\",\"1/20/2021\",\"1/21/2021\",\"1/22/2021\",\"1/23/2021\",\"1/24/2021\",\"1/25/2021\"],\"xaxis\":\"x\",\"y\":[0.0,6887.0,14690.0,23477.0,32331.0,39926.0,39552.0,38469.0,51884.0,67094.0,82835.0,95621.0,107654.0,112314.0,117846.0,124170.0,125626.0,121500.0,114634.0,108735.0,108004.0,104169.0,89553.0,75289.0,66167.0,67059.0,68432.0,68475.0,70010.0,85359.0,106360.0,127524.0,143169.0,158364.0,164426.0,169880.0,177883.0,176343.0],\"yaxis\":\"y\",\"type\":\"scattergl\"},{\"hovertemplate\":\"country=Italy<br>date=%{x}<br>daily_vaccinations=%{y}<extra></extra>\",\"legendgroup\":\"Italy\",\"line\":{\"color\":\"#FECB52\",\"dash\":\"solid\"},\"marker\":{\"symbol\":\"circle\"},\"mode\":\"lines\",\"name\":\"Italy\",\"showlegend\":true,\"x\":[\"12/27/2020\",\"12/28/2020\",\"12/29/2020\",\"12/30/2020\",\"12/31/2020\",\"1/1/2021\",\"1/2/2021\",\"1/3/2021\",\"1/4/2021\",\"1/5/2021\",\"1/6/2021\",\"1/7/2021\",\"1/8/2021\",\"1/9/2021\",\"1/10/2021\",\"1/11/2021\",\"1/12/2021\",\"1/13/2021\",\"1/14/2021\",\"1/15/2021\",\"1/16/2021\",\"1/17/2021\",\"1/18/2021\",\"1/19/2021\",\"1/20/2021\",\"1/21/2021\",\"1/22/2021\",\"1/23/2021\",\"1/24/2021\",\"1/25/2021\"],\"xaxis\":\"x\",\"y\":[0.0,950.0,926.0,2147.0,7848.0,8456.0,13319.0,16365.0,25812.0,36875.0,45417.0,54829.0,66485.0,73108.0,76632.0,78150.0,78193.0,81858.0,81516.0,80095.0,76658.0,73130.0,67599.0,60503.0,51507.0,43534.0,35131.0,31852.0,31537.0,32241.0],\"yaxis\":\"y\",\"type\":\"scattergl\"},{\"hovertemplate\":\"country=Kuwait<br>date=%{x}<br>daily_vaccinations=%{y}<extra></extra>\",\"legendgroup\":\"Kuwait\",\"line\":{\"color\":\"#636efa\",\"dash\":\"solid\"},\"marker\":{\"symbol\":\"circle\"},\"mode\":\"lines\",\"name\":\"Kuwait\",\"showlegend\":true,\"x\":[\"12/28/2020\"],\"xaxis\":\"x\",\"y\":[0.0],\"yaxis\":\"y\",\"type\":\"scattergl\"},{\"hovertemplate\":\"country=Latvia<br>date=%{x}<br>daily_vaccinations=%{y}<extra></extra>\",\"legendgroup\":\"Latvia\",\"line\":{\"color\":\"#EF553B\",\"dash\":\"solid\"},\"marker\":{\"symbol\":\"circle\"},\"mode\":\"lines\",\"name\":\"Latvia\",\"showlegend\":true,\"x\":[\"12/28/2020\",\"12/29/2020\",\"12/30/2020\",\"12/31/2020\",\"1/1/2021\",\"1/2/2021\",\"1/3/2021\",\"1/4/2021\",\"1/5/2021\",\"1/6/2021\",\"1/7/2021\",\"1/8/2021\",\"1/9/2021\",\"1/10/2021\",\"1/11/2021\",\"1/12/2021\",\"1/13/2021\",\"1/14/2021\",\"1/15/2021\",\"1/16/2021\",\"1/17/2021\",\"1/18/2021\",\"1/19/2021\",\"1/20/2021\",\"1/21/2021\",\"1/22/2021\",\"1/23/2021\",\"1/24/2021\",\"1/25/2021\"],\"xaxis\":\"x\",\"y\":[0.0,877.0,832.0,602.0,486.0,417.0,371.0,338.0,339.0,338.0,433.0,542.0,565.0,592.0,767.0,872.0,976.0,1120.0,1258.0,1309.0,1279.0,1204.0,1098.0,993.0,773.0,537.0,460.0,491.0,418.0],\"yaxis\":\"y\",\"type\":\"scattergl\"},{\"hovertemplate\":\"country=Lithuania<br>date=%{x}<br>daily_vaccinations=%{y}<extra></extra>\",\"legendgroup\":\"Lithuania\",\"line\":{\"color\":\"#00cc96\",\"dash\":\"solid\"},\"marker\":{\"symbol\":\"circle\"},\"mode\":\"lines\",\"name\":\"Lithuania\",\"showlegend\":true,\"x\":[\"12/25/2020\",\"12/26/2020\",\"12/27/2020\",\"12/28/2020\",\"12/29/2020\",\"12/30/2020\",\"12/31/2020\",\"1/1/2021\",\"1/2/2021\",\"1/3/2021\",\"1/4/2021\",\"1/5/2021\",\"1/6/2021\",\"1/7/2021\",\"1/8/2021\",\"1/9/2021\",\"1/10/2021\",\"1/11/2021\",\"1/12/2021\",\"1/13/2021\",\"1/14/2021\",\"1/15/2021\",\"1/16/2021\",\"1/17/2021\",\"1/18/2021\",\"1/19/2021\",\"1/20/2021\",\"1/21/2021\",\"1/22/2021\",\"1/23/2021\",\"1/24/2021\",\"1/25/2021\"],\"xaxis\":\"x\",\"y\":[0.0,1208.0,1208.0,1734.0,2047.0,1944.0,1624.0,1410.0,1255.0,1100.0,720.0,311.0,592.0,1180.0,1897.0,1923.0,1905.0,2201.0,2479.0,2843.0,3476.0,3765.0,3877.0,4038.0,4363.0,4960.0,4587.0,3564.0,2581.0,2427.0,2268.0,1633.0],\"yaxis\":\"y\",\"type\":\"scattergl\"},{\"hovertemplate\":\"country=Luxembourg<br>date=%{x}<br>daily_vaccinations=%{y}<extra></extra>\",\"legendgroup\":\"Luxembourg\",\"line\":{\"color\":\"#ab63fa\",\"dash\":\"solid\"},\"marker\":{\"symbol\":\"circle\"},\"mode\":\"lines\",\"name\":\"Luxembourg\",\"showlegend\":true,\"x\":[\"12/30/2020\",\"12/31/2020\",\"1/1/2021\",\"1/2/2021\",\"1/3/2021\",\"1/4/2021\",\"1/5/2021\",\"1/6/2021\",\"1/7/2021\",\"1/8/2021\",\"1/9/2021\",\"1/10/2021\",\"1/11/2021\",\"1/12/2021\",\"1/13/2021\",\"1/14/2021\",\"1/15/2021\",\"1/16/2021\",\"1/17/2021\",\"1/18/2021\",\"1/19/2021\",\"1/20/2021\",\"1/21/2021\",\"1/22/2021\",\"1/23/2021\",\"1/24/2021\"],\"xaxis\":\"x\",\"y\":[0.0,62.0,62.0,62.0,62.0,62.0,62.0,62.0,62.0,62.0,62.0,62.0,62.0,114.0,177.0,220.0,236.0,252.0,268.0,375.0,417.0,475.0,523.0,537.0,551.0,565.0],\"yaxis\":\"y\",\"type\":\"scattergl\"},{\"hovertemplate\":\"country=Malta<br>date=%{x}<br>daily_vaccinations=%{y}<extra></extra>\",\"legendgroup\":\"Malta\",\"line\":{\"color\":\"#FFA15A\",\"dash\":\"solid\"},\"marker\":{\"symbol\":\"circle\"},\"mode\":\"lines\",\"name\":\"Malta\",\"showlegend\":true,\"x\":[\"12/28/2020\",\"12/29/2020\",\"12/30/2020\",\"12/31/2020\",\"1/1/2021\",\"1/2/2021\",\"1/3/2021\",\"1/4/2021\",\"1/5/2021\",\"1/6/2021\",\"1/7/2021\",\"1/8/2021\",\"1/9/2021\",\"1/10/2021\",\"1/11/2021\",\"1/12/2021\",\"1/13/2021\",\"1/14/2021\",\"1/15/2021\",\"1/16/2021\",\"1/17/2021\",\"1/18/2021\",\"1/19/2021\",\"1/20/2021\",\"1/21/2021\",\"1/22/2021\",\"1/23/2021\",\"1/24/2021\"],\"xaxis\":\"x\",\"y\":[0.0,259.0,259.0,259.0,259.0,259.0,259.0,259.0,281.0,304.0,327.0,350.0,373.0,396.0,419.0,524.0,629.0,735.0,840.0,938.0,1036.0,1162.0,1178.0,1162.0,1170.0,1182.0,1190.0,1182.0],\"yaxis\":\"y\",\"type\":\"scattergl\"},{\"hovertemplate\":\"country=Mexico<br>date=%{x}<br>daily_vaccinations=%{y}<extra></extra>\",\"legendgroup\":\"Mexico\",\"line\":{\"color\":\"#19d3f3\",\"dash\":\"solid\"},\"marker\":{\"symbol\":\"circle\"},\"mode\":\"lines\",\"name\":\"Mexico\",\"showlegend\":true,\"x\":[\"12/24/2020\",\"12/25/2020\",\"12/26/2020\",\"12/27/2020\",\"12/28/2020\",\"12/29/2020\",\"12/30/2020\",\"12/31/2020\",\"1/1/2021\",\"1/2/2021\",\"1/3/2021\",\"1/4/2021\",\"1/5/2021\",\"1/6/2021\",\"1/7/2021\",\"1/8/2021\",\"1/9/2021\",\"1/10/2021\",\"1/11/2021\",\"1/12/2021\",\"1/13/2021\",\"1/14/2021\",\"1/15/2021\",\"1/16/2021\",\"1/17/2021\",\"1/18/2021\",\"1/19/2021\",\"1/20/2021\",\"1/21/2021\",\"1/22/2021\",\"1/23/2021\",\"1/24/2021\",\"1/25/2021\"],\"xaxis\":\"x\",\"y\":[0.0,1300.0,1300.0,1300.0,1664.0,3121.0,3679.0,3695.0,4051.0,4407.0,4763.0,4912.0,4244.0,4027.0,4230.0,4984.0,5488.0,5876.0,6157.0,6378.0,19912.0,38797.0,49987.0,55493.0,55835.0,57924.0,57892.0,44066.0,31765.0,28205.0,22217.0,22498.0,21797.0],\"yaxis\":\"y\",\"type\":\"scattergl\"},{\"hovertemplate\":\"country=Netherlands<br>date=%{x}<br>daily_vaccinations=%{y}<extra></extra>\",\"legendgroup\":\"Netherlands\",\"line\":{\"color\":\"#FF6692\",\"dash\":\"solid\"},\"marker\":{\"symbol\":\"circle\"},\"mode\":\"lines\",\"name\":\"Netherlands\",\"showlegend\":true,\"x\":[\"1/6/2021\",\"1/7/2021\",\"1/8/2021\",\"1/9/2021\",\"1/10/2021\",\"1/11/2021\",\"1/12/2021\",\"1/13/2021\",\"1/14/2021\",\"1/15/2021\",\"1/16/2021\",\"1/17/2021\",\"1/18/2021\",\"1/19/2021\",\"1/20/2021\",\"1/21/2021\",\"1/22/2021\"],\"xaxis\":\"x\",\"y\":[0.0,9000.0,10500.0,8000.0,7000.0,5900.0,6500.0,5857.0,5143.0,4000.0,5143.0,6143.0,7024.0,6762.0,7571.0,9500.0,11429.0],\"yaxis\":\"y\",\"type\":\"scattergl\"},{\"hovertemplate\":\"country=Northern Ireland<br>date=%{x}<br>daily_vaccinations=%{y}<extra></extra>\",\"legendgroup\":\"Northern Ireland\",\"line\":{\"color\":\"#B6E880\",\"dash\":\"solid\"},\"marker\":{\"symbol\":\"circle\"},\"mode\":\"lines\",\"name\":\"Northern Ireland\",\"showlegend\":true,\"x\":[\"12/13/2020\",\"12/14/2020\",\"12/15/2020\",\"12/16/2020\",\"12/17/2020\",\"12/18/2020\",\"12/19/2020\",\"12/20/2020\",\"12/21/2020\",\"12/22/2020\",\"12/23/2020\",\"12/24/2020\",\"12/25/2020\",\"12/26/2020\",\"12/27/2020\",\"12/28/2020\",\"12/29/2020\",\"12/30/2020\",\"12/31/2020\",\"1/1/2021\",\"1/2/2021\",\"1/3/2021\",\"1/4/2021\",\"1/5/2021\",\"1/6/2021\",\"1/7/2021\",\"1/8/2021\",\"1/9/2021\",\"1/10/2021\",\"1/11/2021\",\"1/12/2021\",\"1/13/2021\",\"1/14/2021\",\"1/15/2021\",\"1/16/2021\",\"1/17/2021\",\"1/18/2021\",\"1/19/2021\",\"1/20/2021\",\"1/21/2021\",\"1/22/2021\",\"1/23/2021\",\"1/24/2021\"],\"xaxis\":\"x\",\"y\":[0.0,1778.0,1778.0,1778.0,1778.0,1778.0,1778.0,1778.0,1829.0,1880.0,1931.0,1982.0,2033.0,2084.0,2135.0,2054.0,1972.0,1890.0,1808.0,1726.0,1645.0,1563.0,2360.0,3157.0,3954.0,4751.0,5548.0,6345.0,7143.0,7197.0,7574.0,8332.0,9044.0,8530.0,7964.0,7826.0,7852.0,7306.0,6404.0,5674.0,5664.0,5396.0,5089.0],\"yaxis\":\"y\",\"type\":\"scattergl\"},{\"hovertemplate\":\"country=Norway<br>date=%{x}<br>daily_vaccinations=%{y}<extra></extra>\",\"legendgroup\":\"Norway\",\"line\":{\"color\":\"#FF97FF\",\"dash\":\"solid\"},\"marker\":{\"symbol\":\"circle\"},\"mode\":\"lines\",\"name\":\"Norway\",\"showlegend\":true,\"x\":[\"12/27/2020\",\"12/28/2020\",\"12/29/2020\",\"12/30/2020\",\"12/31/2020\",\"1/1/2021\",\"1/2/2021\",\"1/3/2021\",\"1/4/2021\",\"1/5/2021\",\"1/6/2021\",\"1/7/2021\",\"1/8/2021\",\"1/9/2021\",\"1/10/2021\",\"1/11/2021\",\"1/12/2021\",\"1/13/2021\",\"1/14/2021\",\"1/15/2021\",\"1/16/2021\",\"1/17/2021\",\"1/18/2021\",\"1/19/2021\",\"1/20/2021\",\"1/21/2021\",\"1/22/2021\",\"1/23/2021\",\"1/24/2021\"],\"xaxis\":\"x\",\"y\":[0.0,600.0,834.0,697.0,540.0,434.0,361.0,310.0,224.0,560.0,1772.0,2696.0,2924.0,2942.0,2958.0,3006.0,3105.0,3201.0,3447.0,3847.0,3929.0,3955.0,4120.0,4276.0,4356.0,4303.0,4109.0,4059.0,4027.0],\"yaxis\":\"y\",\"type\":\"scattergl\"},{\"hovertemplate\":\"country=Oman<br>date=%{x}<br>daily_vaccinations=%{y}<extra></extra>\",\"legendgroup\":\"Oman\",\"line\":{\"color\":\"#FECB52\",\"dash\":\"solid\"},\"marker\":{\"symbol\":\"circle\"},\"mode\":\"lines\",\"name\":\"Oman\",\"showlegend\":true,\"x\":[\"12/28/2020\",\"12/29/2020\",\"12/30/2020\",\"12/31/2020\",\"1/1/2021\",\"1/2/2021\",\"1/3/2021\",\"1/4/2021\",\"1/5/2021\",\"1/6/2021\",\"1/7/2021\",\"1/8/2021\",\"1/9/2021\",\"1/10/2021\",\"1/11/2021\",\"1/12/2021\",\"1/13/2021\",\"1/14/2021\",\"1/15/2021\",\"1/16/2021\",\"1/17/2021\",\"1/18/2021\",\"1/19/2021\",\"1/20/2021\",\"1/21/2021\",\"1/22/2021\",\"1/23/2021\",\"1/24/2021\"],\"xaxis\":\"x\",\"y\":[0.0,1646.0,1663.0,1600.0,1289.0,1103.0,1185.0,1287.0,1341.0,1280.0,1199.0,1158.0,1113.0,1012.0,1080.0,1128.0,1249.0,1328.0,1358.0,1393.0,1363.0,1210.0,1057.0,971.0,817.0,830.0,843.0,1046.0],\"yaxis\":\"y\",\"type\":\"scattergl\"},{\"hovertemplate\":\"country=Panama<br>date=%{x}<br>daily_vaccinations=%{y}<extra></extra>\",\"legendgroup\":\"Panama\",\"line\":{\"color\":\"#636efa\",\"dash\":\"solid\"},\"marker\":{\"symbol\":\"circle\"},\"mode\":\"lines\",\"name\":\"Panama\",\"showlegend\":true,\"x\":[\"1/19/2021\",\"1/20/2021\",\"1/21/2021\",\"1/22/2021\",\"1/23/2021\",\"1/24/2021\"],\"xaxis\":\"x\",\"y\":[0.0,6.0,1364.0,1694.0,1398.0,1284.0],\"yaxis\":\"y\",\"type\":\"scattergl\"},{\"hovertemplate\":\"country=Poland<br>date=%{x}<br>daily_vaccinations=%{y}<extra></extra>\",\"legendgroup\":\"Poland\",\"line\":{\"color\":\"#EF553B\",\"dash\":\"solid\"},\"marker\":{\"symbol\":\"circle\"},\"mode\":\"lines\",\"name\":\"Poland\",\"showlegend\":true,\"x\":[\"12/28/2020\",\"12/29/2020\",\"12/30/2020\",\"12/31/2020\",\"1/1/2021\",\"1/2/2021\",\"1/3/2021\",\"1/4/2021\",\"1/5/2021\",\"1/6/2021\",\"1/7/2021\",\"1/8/2021\",\"1/9/2021\",\"1/10/2021\",\"1/11/2021\",\"1/12/2021\",\"1/13/2021\",\"1/14/2021\",\"1/15/2021\",\"1/16/2021\",\"1/17/2021\",\"1/18/2021\",\"1/19/2021\",\"1/20/2021\",\"1/21/2021\",\"1/22/2021\",\"1/23/2021\",\"1/24/2021\"],\"xaxis\":\"x\",\"y\":[0.0,4300.0,17150.0,15200.0,11749.0,9678.0,8139.0,12889.0,19132.0,17723.0,20194.0,21399.0,21376.0,21746.0,23659.0,24199.0,29836.0,31646.0,34025.0,36754.0,38059.0,33904.0,33087.0,31796.0,33503.0,35331.0,34837.0,34001.0],\"yaxis\":\"y\",\"type\":\"scattergl\"},{\"hovertemplate\":\"country=Portugal<br>date=%{x}<br>daily_vaccinations=%{y}<extra></extra>\",\"legendgroup\":\"Portugal\",\"line\":{\"color\":\"#00cc96\",\"dash\":\"solid\"},\"marker\":{\"symbol\":\"circle\"},\"mode\":\"lines\",\"name\":\"Portugal\",\"showlegend\":true,\"x\":[\"12/27/2020\",\"12/28/2020\",\"12/29/2020\",\"12/30/2020\",\"12/31/2020\",\"1/1/2021\",\"1/2/2021\",\"1/3/2021\",\"1/4/2021\",\"1/5/2021\",\"1/6/2021\",\"1/7/2021\",\"1/8/2021\",\"1/9/2021\",\"1/10/2021\",\"1/11/2021\",\"1/12/2021\",\"1/13/2021\",\"1/14/2021\",\"1/15/2021\",\"1/16/2021\",\"1/17/2021\",\"1/18/2021\",\"1/19/2021\",\"1/20/2021\",\"1/21/2021\",\"1/22/2021\",\"1/23/2021\",\"1/24/2021\"],\"xaxis\":\"x\",\"y\":[0.0,2791.0,7702.0,8527.0,6946.0,5557.0,4631.0,3970.0,3702.0,3724.0,4416.0,5572.0,5929.0,5943.0,5949.0,5944.0,5676.0,5501.0,5623.0,6335.0,6540.0,6701.0,7061.0,8896.0,11058.0,14194.0,16876.0,18770.0,19200.0],\"yaxis\":\"y\",\"type\":\"scattergl\"},{\"hovertemplate\":\"country=Romania<br>date=%{x}<br>daily_vaccinations=%{y}<extra></extra>\",\"legendgroup\":\"Romania\",\"line\":{\"color\":\"#ab63fa\",\"dash\":\"solid\"},\"marker\":{\"symbol\":\"circle\"},\"mode\":\"lines\",\"name\":\"Romania\",\"showlegend\":true,\"x\":[\"12/28/2020\",\"12/29/2020\",\"12/30/2020\",\"12/31/2020\",\"1/1/2021\",\"1/2/2021\",\"1/3/2021\",\"1/4/2021\",\"1/5/2021\",\"1/6/2021\",\"1/7/2021\",\"1/8/2021\",\"1/9/2021\",\"1/10/2021\",\"1/11/2021\",\"1/12/2021\",\"1/13/2021\",\"1/14/2021\",\"1/15/2021\",\"1/16/2021\",\"1/17/2021\",\"1/18/2021\",\"1/19/2021\",\"1/20/2021\",\"1/21/2021\",\"1/22/2021\",\"1/23/2021\",\"1/24/2021\",\"1/25/2021\"],\"xaxis\":\"x\",\"y\":[0.0,712.0,1800.0,2741.0,2398.0,2235.0,1922.0,3349.0,5547.0,7555.0,9444.0,11579.0,12723.0,13528.0,14240.0,14120.0,13673.0,13030.0,12995.0,13398.0,13824.0,15721.0,18514.0,22017.0,25783.0,28895.0,31828.0,34461.0,35627.0],\"yaxis\":\"y\",\"type\":\"scattergl\"},{\"hovertemplate\":\"country=Russia<br>date=%{x}<br>daily_vaccinations=%{y}<extra></extra>\",\"legendgroup\":\"Russia\",\"line\":{\"color\":\"#FFA15A\",\"dash\":\"solid\"},\"marker\":{\"symbol\":\"circle\"},\"mode\":\"lines\",\"name\":\"Russia\",\"showlegend\":true,\"x\":[\"12/15/2020\",\"12/16/2020\",\"12/17/2020\",\"12/18/2020\",\"12/19/2020\",\"12/20/2020\",\"12/21/2020\",\"12/22/2020\",\"12/23/2020\",\"12/24/2020\",\"12/25/2020\",\"12/26/2020\",\"12/27/2020\",\"12/28/2020\",\"12/29/2020\",\"12/30/2020\",\"12/31/2020\",\"1/1/2021\",\"1/2/2021\",\"1/3/2021\",\"1/4/2021\",\"1/5/2021\",\"1/6/2021\",\"1/7/2021\",\"1/8/2021\",\"1/9/2021\",\"1/10/2021\",\"1/11/2021\",\"1/12/2021\",\"1/13/2021\"],\"xaxis\":\"x\",\"y\":[0.0,3357.0,3357.0,3357.0,3357.0,3357.0,3357.0,3357.0,12592.0,21827.0,31061.0,40296.0,49531.0,58765.0,68000.0,68000.0,68000.0,68000.0,68000.0,60883.0,53766.0,46649.0,39532.0,32416.0,25299.0,18182.0,18182.0,18182.0,18182.0,18182.0],\"yaxis\":\"y\",\"type\":\"scattergl\"},{\"hovertemplate\":\"country=Saudi Arabia<br>date=%{x}<br>daily_vaccinations=%{y}<extra></extra>\",\"legendgroup\":\"Saudi Arabia\",\"line\":{\"color\":\"#19d3f3\",\"dash\":\"solid\"},\"marker\":{\"symbol\":\"circle\"},\"mode\":\"lines\",\"name\":\"Saudi Arabia\",\"showlegend\":true,\"x\":[\"1/6/2021\",\"1/7/2021\",\"1/8/2021\",\"1/9/2021\",\"1/10/2021\",\"1/11/2021\",\"1/12/2021\",\"1/13/2021\",\"1/14/2021\",\"1/15/2021\",\"1/16/2021\",\"1/17/2021\"],\"xaxis\":\"x\",\"y\":[0.0,37862.0,23990.0,19366.0,17055.0,15667.0,16312.0,16772.0,14153.0,15498.0,16843.0,18187.0],\"yaxis\":\"y\",\"type\":\"scattergl\"},{\"hovertemplate\":\"country=Scotland<br>date=%{x}<br>daily_vaccinations=%{y}<extra></extra>\",\"legendgroup\":\"Scotland\",\"line\":{\"color\":\"#FF6692\",\"dash\":\"solid\"},\"marker\":{\"symbol\":\"circle\"},\"mode\":\"lines\",\"name\":\"Scotland\",\"showlegend\":true,\"x\":[\"12/13/2020\",\"12/14/2020\",\"12/15/2020\",\"12/16/2020\",\"12/17/2020\",\"12/18/2020\",\"12/19/2020\",\"12/20/2020\",\"12/21/2020\",\"12/22/2020\",\"12/23/2020\",\"12/24/2020\",\"12/25/2020\",\"12/26/2020\",\"12/27/2020\",\"12/28/2020\",\"12/29/2020\",\"12/30/2020\",\"12/31/2020\",\"1/1/2021\",\"1/2/2021\",\"1/3/2021\",\"1/4/2021\",\"1/5/2021\",\"1/6/2021\",\"1/7/2021\",\"1/8/2021\",\"1/9/2021\",\"1/10/2021\",\"1/11/2021\",\"1/12/2021\",\"1/13/2021\",\"1/14/2021\",\"1/15/2021\",\"1/16/2021\",\"1/17/2021\",\"1/18/2021\",\"1/19/2021\",\"1/20/2021\",\"1/21/2021\",\"1/22/2021\",\"1/23/2021\",\"1/24/2021\"],\"xaxis\":\"x\",\"y\":[0.0,5821.0,5821.0,5821.0,5821.0,5821.0,5821.0,5821.0,5690.0,5558.0,5426.0,5295.0,5163.0,5031.0,4899.0,4635.0,4370.0,4105.0,3841.0,3576.0,3312.0,3047.0,3650.0,4254.0,4858.0,5461.0,6065.0,6668.0,7272.0,8042.0,9311.0,10621.0,11979.0,12869.0,13760.0,14651.0,15667.0,17018.0,18277.0,19282.0,20597.0,22034.0,21750.0],\"yaxis\":\"y\",\"type\":\"scattergl\"},{\"hovertemplate\":\"country=Serbia<br>date=%{x}<br>daily_vaccinations=%{y}<extra></extra>\",\"legendgroup\":\"Serbia\",\"line\":{\"color\":\"#B6E880\",\"dash\":\"solid\"},\"marker\":{\"symbol\":\"circle\"},\"mode\":\"lines\",\"name\":\"Serbia\",\"showlegend\":true,\"x\":[\"1/8/2021\",\"1/9/2021\",\"1/10/2021\",\"1/11/2021\",\"1/12/2021\",\"1/13/2021\",\"1/14/2021\",\"1/15/2021\",\"1/16/2021\",\"1/17/2021\",\"1/18/2021\",\"1/19/2021\",\"1/20/2021\",\"1/21/2021\",\"1/22/2021\",\"1/23/2021\",\"1/24/2021\",\"1/25/2021\"],\"xaxis\":\"x\",\"y\":[0.0,1150.0,1150.0,1503.0,1680.0,1785.0,1856.0,2221.0,2687.0,3153.0,3468.0,3783.0,4098.0,9528.0,13880.0,19485.0,26632.0,31534.0],\"yaxis\":\"y\",\"type\":\"scattergl\"},{\"hovertemplate\":\"country=Seychelles<br>date=%{x}<br>daily_vaccinations=%{y}<extra></extra>\",\"legendgroup\":\"Seychelles\",\"line\":{\"color\":\"#FF97FF\",\"dash\":\"solid\"},\"marker\":{\"symbol\":\"circle\"},\"mode\":\"lines\",\"name\":\"Seychelles\",\"showlegend\":true,\"x\":[\"1/9/2021\",\"1/10/2021\",\"1/11/2021\",\"1/12/2021\",\"1/13/2021\",\"1/14/2021\",\"1/15/2021\",\"1/16/2021\",\"1/17/2021\",\"1/18/2021\",\"1/19/2021\",\"1/20/2021\",\"1/21/2021\",\"1/22/2021\",\"1/23/2021\"],\"xaxis\":\"x\",\"y\":[0.0,500.0,500.0,500.0,500.0,600.0,667.0,1000.0,1118.0,1236.0,1354.0,1595.0,1718.0,1841.0,1622.0],\"yaxis\":\"y\",\"type\":\"scattergl\"},{\"hovertemplate\":\"country=Singapore<br>date=%{x}<br>daily_vaccinations=%{y}<extra></extra>\",\"legendgroup\":\"Singapore\",\"line\":{\"color\":\"#FECB52\",\"dash\":\"solid\"},\"marker\":{\"symbol\":\"circle\"},\"mode\":\"lines\",\"name\":\"Singapore\",\"showlegend\":true,\"x\":[\"1/11/2021\",\"1/12/2021\",\"1/13/2021\",\"1/14/2021\",\"1/15/2021\",\"1/16/2021\",\"1/17/2021\",\"1/18/2021\",\"1/19/2021\",\"1/20/2021\",\"1/21/2021\",\"1/22/2021\"],\"xaxis\":\"x\",\"y\":[0.0,2800.0,4090.0,4520.0,4735.0,4864.0,4950.0,5011.0,5380.0,5380.0,5380.0,5380.0],\"yaxis\":\"y\",\"type\":\"scattergl\"},{\"hovertemplate\":\"country=Slovakia<br>date=%{x}<br>daily_vaccinations=%{y}<extra></extra>\",\"legendgroup\":\"Slovakia\",\"line\":{\"color\":\"#636efa\",\"dash\":\"solid\"},\"marker\":{\"symbol\":\"circle\"},\"mode\":\"lines\",\"name\":\"Slovakia\",\"showlegend\":true,\"x\":[\"1/4/2021\",\"1/5/2021\",\"1/6/2021\",\"1/7/2021\",\"1/8/2021\",\"1/9/2021\",\"1/10/2021\",\"1/11/2021\",\"1/12/2021\",\"1/13/2021\",\"1/14/2021\",\"1/15/2021\",\"1/16/2021\",\"1/17/2021\",\"1/18/2021\",\"1/19/2021\",\"1/20/2021\",\"1/21/2021\"],\"xaxis\":\"x\",\"y\":[0.0,425.0,3309.0,4544.0,5137.0,4456.0,4221.0,4174.0,5616.0,5661.0,5685.0,5744.0,5669.0,5241.0,5968.0,5473.0,5585.0,5535.0],\"yaxis\":\"y\",\"type\":\"scattergl\"},{\"hovertemplate\":\"country=Slovenia<br>date=%{x}<br>daily_vaccinations=%{y}<extra></extra>\",\"legendgroup\":\"Slovenia\",\"line\":{\"color\":\"#EF553B\",\"dash\":\"solid\"},\"marker\":{\"symbol\":\"circle\"},\"mode\":\"lines\",\"name\":\"Slovenia\",\"showlegend\":true,\"x\":[\"1/3/2021\",\"1/4/2021\",\"1/5/2021\",\"1/6/2021\",\"1/7/2021\",\"1/8/2021\",\"1/9/2021\",\"1/10/2021\",\"1/11/2021\",\"1/12/2021\",\"1/13/2021\",\"1/14/2021\",\"1/15/2021\",\"1/16/2021\",\"1/17/2021\",\"1/18/2021\",\"1/19/2021\",\"1/20/2021\",\"1/21/2021\",\"1/22/2021\",\"1/23/2021\",\"1/24/2021\"],\"xaxis\":\"x\",\"y\":[0.0,1270.0,1484.0,2110.0,2601.0,2718.0,2333.0,2087.0,2183.0,2223.0,2471.0,2689.0,3036.0,3073.0,3070.0,2942.0,2772.0,2415.0,2420.0,2009.0,2034.0,1992.0],\"yaxis\":\"y\",\"type\":\"scattergl\"},{\"hovertemplate\":\"country=Spain<br>date=%{x}<br>daily_vaccinations=%{y}<extra></extra>\",\"legendgroup\":\"Spain\",\"line\":{\"color\":\"#00cc96\",\"dash\":\"solid\"},\"marker\":{\"symbol\":\"circle\"},\"mode\":\"lines\",\"name\":\"Spain\",\"showlegend\":true,\"x\":[\"1/4/2021\",\"1/5/2021\",\"1/6/2021\",\"1/7/2021\",\"1/8/2021\",\"1/9/2021\",\"1/10/2021\",\"1/11/2021\",\"1/12/2021\",\"1/13/2021\",\"1/14/2021\",\"1/15/2021\",\"1/16/2021\",\"1/17/2021\",\"1/18/2021\",\"1/19/2021\",\"1/20/2021\",\"1/21/2021\",\"1/22/2021\",\"1/23/2021\",\"1/24/2021\",\"1/25/2021\"],\"xaxis\":\"x\",\"y\":[0.0,56505.0,45248.0,41496.0,48786.0,47569.0,46759.0,46180.0,49826.0,58330.0,66980.0,70139.0,70181.0,70223.0,70264.0,68282.0,63471.0,61016.0,56696.0,53971.0,51247.0,48522.0],\"yaxis\":\"y\",\"type\":\"scattergl\"},{\"hovertemplate\":\"country=Sweden<br>date=%{x}<br>daily_vaccinations=%{y}<extra></extra>\",\"legendgroup\":\"Sweden\",\"line\":{\"color\":\"#ab63fa\",\"dash\":\"solid\"},\"marker\":{\"symbol\":\"circle\"},\"mode\":\"lines\",\"name\":\"Sweden\",\"showlegend\":true,\"x\":[\"12/27/2020\",\"12/28/2020\",\"12/29/2020\",\"12/30/2020\",\"12/31/2020\",\"1/1/2021\",\"1/2/2021\",\"1/3/2021\",\"1/4/2021\",\"1/5/2021\",\"1/6/2021\",\"1/7/2021\",\"1/8/2021\",\"1/9/2021\",\"1/10/2021\",\"1/11/2021\",\"1/12/2021\",\"1/13/2021\",\"1/14/2021\",\"1/15/2021\",\"1/16/2021\",\"1/17/2021\"],\"xaxis\":\"x\",\"y\":[0.0,3859.0,3859.0,3859.0,3859.0,3859.0,3859.0,3859.0,4294.0,4729.0,5165.0,5600.0,6035.0,6470.0,6905.0,7292.0,7680.0,8067.0,8454.0,8841.0,9228.0,9616.0],\"yaxis\":\"y\",\"type\":\"scattergl\"},{\"hovertemplate\":\"country=Switzerland<br>date=%{x}<br>daily_vaccinations=%{y}<extra></extra>\",\"legendgroup\":\"Switzerland\",\"line\":{\"color\":\"#FFA15A\",\"dash\":\"solid\"},\"marker\":{\"symbol\":\"circle\"},\"mode\":\"lines\",\"name\":\"Switzerland\",\"showlegend\":true,\"x\":[\"12/23/2020\",\"12/24/2020\",\"12/25/2020\",\"12/26/2020\",\"12/27/2020\",\"12/28/2020\",\"12/29/2020\",\"12/30/2020\",\"12/31/2020\",\"1/1/2021\",\"1/2/2021\",\"1/3/2021\",\"1/4/2021\",\"1/5/2021\",\"1/6/2021\",\"1/7/2021\",\"1/8/2021\",\"1/9/2021\",\"1/10/2021\",\"1/11/2021\",\"1/12/2021\",\"1/13/2021\",\"1/14/2021\",\"1/15/2021\",\"1/16/2021\",\"1/17/2021\",\"1/18/2021\",\"1/19/2021\",\"1/20/2021\",\"1/21/2021\"],\"xaxis\":\"x\",\"y\":[0.0,3000.0,3000.0,3000.0,3000.0,3000.0,3000.0,3000.0,3000.0,3000.0,3000.0,3000.0,3000.0,3000.0,3000.0,3000.0,3000.0,3000.0,3000.0,3000.0,3000.0,3000.0,3000.0,3829.0,4657.0,5486.0,6314.0,7143.0,10984.0,14826.0],\"yaxis\":\"y\",\"type\":\"scattergl\"},{\"hovertemplate\":\"country=Turkey<br>date=%{x}<br>daily_vaccinations=%{y}<extra></extra>\",\"legendgroup\":\"Turkey\",\"line\":{\"color\":\"#19d3f3\",\"dash\":\"solid\"},\"marker\":{\"symbol\":\"circle\"},\"mode\":\"lines\",\"name\":\"Turkey\",\"showlegend\":true,\"x\":[\"1/13/2021\",\"1/14/2021\",\"1/15/2021\",\"1/16/2021\",\"1/17/2021\",\"1/18/2021\",\"1/19/2021\",\"1/20/2021\",\"1/21/2021\",\"1/22/2021\",\"1/23/2021\",\"1/24/2021\",\"1/25/2021\"],\"xaxis\":\"x\",\"y\":[0.0,279452.0,308326.0,225634.0,176613.0,166482.0,158439.0,150356.0,120115.0,83651.0,78569.0,76886.0,67192.0],\"yaxis\":\"y\",\"type\":\"scattergl\"},{\"hovertemplate\":\"country=United Arab Emirates<br>date=%{x}<br>daily_vaccinations=%{y}<extra></extra>\",\"legendgroup\":\"United Arab Emirates\",\"line\":{\"color\":\"#FF6692\",\"dash\":\"solid\"},\"marker\":{\"symbol\":\"circle\"},\"mode\":\"lines\",\"name\":\"United Arab Emirates\",\"showlegend\":true,\"x\":[\"1/5/2021\",\"1/6/2021\",\"1/7/2021\",\"1/8/2021\",\"1/9/2021\",\"1/10/2021\",\"1/11/2021\",\"1/12/2021\",\"1/13/2021\",\"1/14/2021\",\"1/15/2021\",\"1/16/2021\",\"1/17/2021\",\"1/18/2021\",\"1/19/2021\",\"1/20/2021\",\"1/21/2021\",\"1/22/2021\",\"1/23/2021\",\"1/24/2021\",\"1/25/2021\"],\"xaxis\":\"x\",\"y\":[0.0,30698.0,30698.0,38418.0,48512.0,52053.0,56825.0,64193.0,76797.0,91448.0,103490.0,111082.0,113744.0,114896.0,112816.0,109510.0,102605.0,96156.0,89839.0,86430.0,85653.0],\"yaxis\":\"y\",\"type\":\"scattergl\"},{\"hovertemplate\":\"country=United Kingdom<br>date=%{x}<br>daily_vaccinations=%{y}<extra></extra>\",\"legendgroup\":\"United Kingdom\",\"line\":{\"color\":\"#B6E880\",\"dash\":\"solid\"},\"marker\":{\"symbol\":\"circle\"},\"mode\":\"lines\",\"name\":\"United Kingdom\",\"showlegend\":true,\"x\":[\"12/20/2020\",\"12/21/2020\",\"12/22/2020\",\"12/23/2020\",\"12/24/2020\",\"12/25/2020\",\"12/26/2020\",\"12/27/2020\",\"12/28/2020\",\"12/29/2020\",\"12/30/2020\",\"12/31/2020\",\"1/1/2021\",\"1/2/2021\",\"1/3/2021\",\"1/4/2021\",\"1/5/2021\",\"1/6/2021\",\"1/7/2021\",\"1/8/2021\",\"1/9/2021\",\"1/10/2021\",\"1/11/2021\",\"1/12/2021\",\"1/13/2021\",\"1/14/2021\",\"1/15/2021\",\"1/16/2021\",\"1/17/2021\",\"1/18/2021\",\"1/19/2021\",\"1/20/2021\",\"1/21/2021\",\"1/22/2021\",\"1/23/2021\",\"1/24/2021\"],\"xaxis\":\"x\",\"y\":[0.0,46423.0,46423.0,46423.0,46423.0,46423.0,46423.0,46423.0,47738.0,49053.0,50369.0,51684.0,52999.0,54315.0,55630.0,74138.0,92647.0,111155.0,129663.0,148171.0,166680.0,185188.0,182424.0,187930.0,202716.0,222253.0,242692.0,256292.0,262404.0,268518.0,286118.0,297294.0,310246.0,331933.0,362307.0,361321.0],\"yaxis\":\"y\",\"type\":\"scattergl\"},{\"hovertemplate\":\"country=United States<br>date=%{x}<br>daily_vaccinations=%{y}<extra></extra>\",\"legendgroup\":\"United States\",\"line\":{\"color\":\"#FF97FF\",\"dash\":\"solid\"},\"marker\":{\"symbol\":\"circle\"},\"mode\":\"lines\",\"name\":\"United States\",\"showlegend\":true,\"x\":[\"12/20/2020\",\"12/21/2020\",\"12/22/2020\",\"12/23/2020\",\"12/24/2020\",\"12/25/2020\",\"12/26/2020\",\"12/27/2020\",\"12/28/2020\",\"12/29/2020\",\"12/30/2020\",\"12/31/2020\",\"1/1/2021\",\"1/2/2021\",\"1/3/2021\",\"1/4/2021\",\"1/5/2021\",\"1/6/2021\",\"1/7/2021\",\"1/8/2021\",\"1/9/2021\",\"1/10/2021\",\"1/11/2021\",\"1/12/2021\",\"1/13/2021\",\"1/14/2021\",\"1/15/2021\",\"1/16/2021\",\"1/17/2021\",\"1/18/2021\",\"1/19/2021\",\"1/20/2021\",\"1/21/2021\",\"1/22/2021\",\"1/23/2021\",\"1/24/2021\",\"1/25/2021\"],\"xaxis\":\"x\",\"y\":[0.0,57909.0,127432.0,150606.0,191001.0,215238.0,231396.0,211379.0,216147.0,235685.0,255223.0,278776.0,302329.0,325882.0,336949.0,348017.0,339372.0,358887.0,378253.0,419933.0,461263.0,546636.0,632009.0,641524.0,710238.0,747082.0,798707.0,811670.0,824632.0,837595.0,911493.0,892403.0,913912.0,975540.0,1057387.0,1122182.0,1126251.0],\"yaxis\":\"y\",\"type\":\"scattergl\"},{\"hovertemplate\":\"country=Wales<br>date=%{x}<br>daily_vaccinations=%{y}<extra></extra>\",\"legendgroup\":\"Wales\",\"line\":{\"color\":\"#FECB52\",\"dash\":\"solid\"},\"marker\":{\"symbol\":\"circle\"},\"mode\":\"lines\",\"name\":\"Wales\",\"showlegend\":true,\"x\":[\"12/13/2020\",\"12/14/2020\",\"12/15/2020\",\"12/16/2020\",\"12/17/2020\",\"12/18/2020\",\"12/19/2020\",\"12/20/2020\",\"12/21/2020\",\"12/22/2020\",\"12/23/2020\",\"12/24/2020\",\"12/25/2020\",\"12/26/2020\",\"12/27/2020\",\"12/28/2020\",\"12/29/2020\",\"12/30/2020\",\"12/31/2020\",\"1/1/2021\",\"1/2/2021\",\"1/3/2021\",\"1/4/2021\",\"1/5/2021\",\"1/6/2021\",\"1/7/2021\",\"1/8/2021\",\"1/9/2021\",\"1/10/2021\",\"1/11/2021\",\"1/12/2021\",\"1/13/2021\",\"1/14/2021\",\"1/15/2021\",\"1/16/2021\",\"1/17/2021\",\"1/18/2021\",\"1/19/2021\",\"1/20/2021\",\"1/21/2021\",\"1/22/2021\",\"1/23/2021\",\"1/24/2021\"],\"xaxis\":\"x\",\"y\":[0.0,2198.0,2198.0,2198.0,2198.0,2198.0,2198.0,2198.0,2136.0,2074.0,2012.0,1950.0,1887.0,1825.0,1763.0,1796.0,1830.0,1863.0,1896.0,1929.0,1962.0,1995.0,2450.0,2904.0,3359.0,3814.0,4268.0,4723.0,5177.0,5183.0,5893.0,6812.0,7988.0,8460.0,8931.0,9403.0,10123.0,10672.0,11105.0,12318.0,15148.0,17371.0,17063.0],\"yaxis\":\"y\",\"type\":\"scattergl\"}],                        {\"template\":{\"data\":{\"histogram2dcontour\":[{\"type\":\"histogram2dcontour\",\"colorbar\":{\"outlinewidth\":0,\"ticks\":\"\"},\"colorscale\":[[0.0,\"#0d0887\"],[0.1111111111111111,\"#46039f\"],[0.2222222222222222,\"#7201a8\"],[0.3333333333333333,\"#9c179e\"],[0.4444444444444444,\"#bd3786\"],[0.5555555555555556,\"#d8576b\"],[0.6666666666666666,\"#ed7953\"],[0.7777777777777778,\"#fb9f3a\"],[0.8888888888888888,\"#fdca26\"],[1.0,\"#f0f921\"]]}],\"choropleth\":[{\"type\":\"choropleth\",\"colorbar\":{\"outlinewidth\":0,\"ticks\":\"\"}}],\"histogram2d\":[{\"type\":\"histogram2d\",\"colorbar\":{\"outlinewidth\":0,\"ticks\":\"\"},\"colorscale\":[[0.0,\"#0d0887\"],[0.1111111111111111,\"#46039f\"],[0.2222222222222222,\"#7201a8\"],[0.3333333333333333,\"#9c179e\"],[0.4444444444444444,\"#bd3786\"],[0.5555555555555556,\"#d8576b\"],[0.6666666666666666,\"#ed7953\"],[0.7777777777777778,\"#fb9f3a\"],[0.8888888888888888,\"#fdca26\"],[1.0,\"#f0f921\"]]}],\"heatmap\":[{\"type\":\"heatmap\",\"colorbar\":{\"outlinewidth\":0,\"ticks\":\"\"},\"colorscale\":[[0.0,\"#0d0887\"],[0.1111111111111111,\"#46039f\"],[0.2222222222222222,\"#7201a8\"],[0.3333333333333333,\"#9c179e\"],[0.4444444444444444,\"#bd3786\"],[0.5555555555555556,\"#d8576b\"],[0.6666666666666666,\"#ed7953\"],[0.7777777777777778,\"#fb9f3a\"],[0.8888888888888888,\"#fdca26\"],[1.0,\"#f0f921\"]]}],\"heatmapgl\":[{\"type\":\"heatmapgl\",\"colorbar\":{\"outlinewidth\":0,\"ticks\":\"\"},\"colorscale\":[[0.0,\"#0d0887\"],[0.1111111111111111,\"#46039f\"],[0.2222222222222222,\"#7201a8\"],[0.3333333333333333,\"#9c179e\"],[0.4444444444444444,\"#bd3786\"],[0.5555555555555556,\"#d8576b\"],[0.6666666666666666,\"#ed7953\"],[0.7777777777777778,\"#fb9f3a\"],[0.8888888888888888,\"#fdca26\"],[1.0,\"#f0f921\"]]}],\"contourcarpet\":[{\"type\":\"contourcarpet\",\"colorbar\":{\"outlinewidth\":0,\"ticks\":\"\"}}],\"contour\":[{\"type\":\"contour\",\"colorbar\":{\"outlinewidth\":0,\"ticks\":\"\"},\"colorscale\":[[0.0,\"#0d0887\"],[0.1111111111111111,\"#46039f\"],[0.2222222222222222,\"#7201a8\"],[0.3333333333333333,\"#9c179e\"],[0.4444444444444444,\"#bd3786\"],[0.5555555555555556,\"#d8576b\"],[0.6666666666666666,\"#ed7953\"],[0.7777777777777778,\"#fb9f3a\"],[0.8888888888888888,\"#fdca26\"],[1.0,\"#f0f921\"]]}],\"surface\":[{\"type\":\"surface\",\"colorbar\":{\"outlinewidth\":0,\"ticks\":\"\"},\"colorscale\":[[0.0,\"#0d0887\"],[0.1111111111111111,\"#46039f\"],[0.2222222222222222,\"#7201a8\"],[0.3333333333333333,\"#9c179e\"],[0.4444444444444444,\"#bd3786\"],[0.5555555555555556,\"#d8576b\"],[0.6666666666666666,\"#ed7953\"],[0.7777777777777778,\"#fb9f3a\"],[0.8888888888888888,\"#fdca26\"],[1.0,\"#f0f921\"]]}],\"mesh3d\":[{\"type\":\"mesh3d\",\"colorbar\":{\"outlinewidth\":0,\"ticks\":\"\"}}],\"scatter\":[{\"fillpattern\":{\"fillmode\":\"overlay\",\"size\":10,\"solidity\":0.2},\"type\":\"scatter\"}],\"parcoords\":[{\"type\":\"parcoords\",\"line\":{\"colorbar\":{\"outlinewidth\":0,\"ticks\":\"\"}}}],\"scatterpolargl\":[{\"type\":\"scatterpolargl\",\"marker\":{\"colorbar\":{\"outlinewidth\":0,\"ticks\":\"\"}}}],\"bar\":[{\"error_x\":{\"color\":\"#2a3f5f\"},\"error_y\":{\"color\":\"#2a3f5f\"},\"marker\":{\"line\":{\"color\":\"#E5ECF6\",\"width\":0.5},\"pattern\":{\"fillmode\":\"overlay\",\"size\":10,\"solidity\":0.2}},\"type\":\"bar\"}],\"scattergeo\":[{\"type\":\"scattergeo\",\"marker\":{\"colorbar\":{\"outlinewidth\":0,\"ticks\":\"\"}}}],\"scatterpolar\":[{\"type\":\"scatterpolar\",\"marker\":{\"colorbar\":{\"outlinewidth\":0,\"ticks\":\"\"}}}],\"histogram\":[{\"marker\":{\"pattern\":{\"fillmode\":\"overlay\",\"size\":10,\"solidity\":0.2}},\"type\":\"histogram\"}],\"scattergl\":[{\"type\":\"scattergl\",\"marker\":{\"colorbar\":{\"outlinewidth\":0,\"ticks\":\"\"}}}],\"scatter3d\":[{\"type\":\"scatter3d\",\"line\":{\"colorbar\":{\"outlinewidth\":0,\"ticks\":\"\"}},\"marker\":{\"colorbar\":{\"outlinewidth\":0,\"ticks\":\"\"}}}],\"scattermapbox\":[{\"type\":\"scattermapbox\",\"marker\":{\"colorbar\":{\"outlinewidth\":0,\"ticks\":\"\"}}}],\"scatterternary\":[{\"type\":\"scatterternary\",\"marker\":{\"colorbar\":{\"outlinewidth\":0,\"ticks\":\"\"}}}],\"scattercarpet\":[{\"type\":\"scattercarpet\",\"marker\":{\"colorbar\":{\"outlinewidth\":0,\"ticks\":\"\"}}}],\"carpet\":[{\"aaxis\":{\"endlinecolor\":\"#2a3f5f\",\"gridcolor\":\"white\",\"linecolor\":\"white\",\"minorgridcolor\":\"white\",\"startlinecolor\":\"#2a3f5f\"},\"baxis\":{\"endlinecolor\":\"#2a3f5f\",\"gridcolor\":\"white\",\"linecolor\":\"white\",\"minorgridcolor\":\"white\",\"startlinecolor\":\"#2a3f5f\"},\"type\":\"carpet\"}],\"table\":[{\"cells\":{\"fill\":{\"color\":\"#EBF0F8\"},\"line\":{\"color\":\"white\"}},\"header\":{\"fill\":{\"color\":\"#C8D4E3\"},\"line\":{\"color\":\"white\"}},\"type\":\"table\"}],\"barpolar\":[{\"marker\":{\"line\":{\"color\":\"#E5ECF6\",\"width\":0.5},\"pattern\":{\"fillmode\":\"overlay\",\"size\":10,\"solidity\":0.2}},\"type\":\"barpolar\"}],\"pie\":[{\"automargin\":true,\"type\":\"pie\"}]},\"layout\":{\"autotypenumbers\":\"strict\",\"colorway\":[\"#636efa\",\"#EF553B\",\"#00cc96\",\"#ab63fa\",\"#FFA15A\",\"#19d3f3\",\"#FF6692\",\"#B6E880\",\"#FF97FF\",\"#FECB52\"],\"font\":{\"color\":\"#2a3f5f\"},\"hovermode\":\"closest\",\"hoverlabel\":{\"align\":\"left\"},\"paper_bgcolor\":\"white\",\"plot_bgcolor\":\"#E5ECF6\",\"polar\":{\"bgcolor\":\"#E5ECF6\",\"angularaxis\":{\"gridcolor\":\"white\",\"linecolor\":\"white\",\"ticks\":\"\"},\"radialaxis\":{\"gridcolor\":\"white\",\"linecolor\":\"white\",\"ticks\":\"\"}},\"ternary\":{\"bgcolor\":\"#E5ECF6\",\"aaxis\":{\"gridcolor\":\"white\",\"linecolor\":\"white\",\"ticks\":\"\"},\"baxis\":{\"gridcolor\":\"white\",\"linecolor\":\"white\",\"ticks\":\"\"},\"caxis\":{\"gridcolor\":\"white\",\"linecolor\":\"white\",\"ticks\":\"\"}},\"coloraxis\":{\"colorbar\":{\"outlinewidth\":0,\"ticks\":\"\"}},\"colorscale\":{\"sequential\":[[0.0,\"#0d0887\"],[0.1111111111111111,\"#46039f\"],[0.2222222222222222,\"#7201a8\"],[0.3333333333333333,\"#9c179e\"],[0.4444444444444444,\"#bd3786\"],[0.5555555555555556,\"#d8576b\"],[0.6666666666666666,\"#ed7953\"],[0.7777777777777778,\"#fb9f3a\"],[0.8888888888888888,\"#fdca26\"],[1.0,\"#f0f921\"]],\"sequentialminus\":[[0.0,\"#0d0887\"],[0.1111111111111111,\"#46039f\"],[0.2222222222222222,\"#7201a8\"],[0.3333333333333333,\"#9c179e\"],[0.4444444444444444,\"#bd3786\"],[0.5555555555555556,\"#d8576b\"],[0.6666666666666666,\"#ed7953\"],[0.7777777777777778,\"#fb9f3a\"],[0.8888888888888888,\"#fdca26\"],[1.0,\"#f0f921\"]],\"diverging\":[[0,\"#8e0152\"],[0.1,\"#c51b7d\"],[0.2,\"#de77ae\"],[0.3,\"#f1b6da\"],[0.4,\"#fde0ef\"],[0.5,\"#f7f7f7\"],[0.6,\"#e6f5d0\"],[0.7,\"#b8e186\"],[0.8,\"#7fbc41\"],[0.9,\"#4d9221\"],[1,\"#276419\"]]},\"xaxis\":{\"gridcolor\":\"white\",\"linecolor\":\"white\",\"ticks\":\"\",\"title\":{\"standoff\":15},\"zerolinecolor\":\"white\",\"automargin\":true,\"zerolinewidth\":2},\"yaxis\":{\"gridcolor\":\"white\",\"linecolor\":\"white\",\"ticks\":\"\",\"title\":{\"standoff\":15},\"zerolinecolor\":\"white\",\"automargin\":true,\"zerolinewidth\":2},\"scene\":{\"xaxis\":{\"backgroundcolor\":\"#E5ECF6\",\"gridcolor\":\"white\",\"linecolor\":\"white\",\"showbackground\":true,\"ticks\":\"\",\"zerolinecolor\":\"white\",\"gridwidth\":2},\"yaxis\":{\"backgroundcolor\":\"#E5ECF6\",\"gridcolor\":\"white\",\"linecolor\":\"white\",\"showbackground\":true,\"ticks\":\"\",\"zerolinecolor\":\"white\",\"gridwidth\":2},\"zaxis\":{\"backgroundcolor\":\"#E5ECF6\",\"gridcolor\":\"white\",\"linecolor\":\"white\",\"showbackground\":true,\"ticks\":\"\",\"zerolinecolor\":\"white\",\"gridwidth\":2}},\"shapedefaults\":{\"line\":{\"color\":\"#2a3f5f\"}},\"annotationdefaults\":{\"arrowcolor\":\"#2a3f5f\",\"arrowhead\":0,\"arrowwidth\":1},\"geo\":{\"bgcolor\":\"white\",\"landcolor\":\"#E5ECF6\",\"subunitcolor\":\"white\",\"showland\":true,\"showlakes\":true,\"lakecolor\":\"white\"},\"title\":{\"x\":0.05},\"mapbox\":{\"style\":\"light\"}}},\"xaxis\":{\"anchor\":\"y\",\"domain\":[0.0,1.0],\"title\":{\"text\":\"Date\"}},\"yaxis\":{\"anchor\":\"x\",\"domain\":[0.0,1.0],\"title\":{\"text\":\"Daily Vaccinations\"}},\"legend\":{\"title\":{\"text\":\"country\"},\"tracegroupgap\":0},\"margin\":{\"t\":60},\"title\":{\"text\":\"Daily vaccination trend\",\"y\":0.95,\"x\":0.5}},                        {\"responsive\": true}                    ).then(function(){\n",
       "                            \n",
       "var gd = document.getElementById('31f4efa8-c9b4-4cd2-a2e9-00c0c150c554');\n",
       "var x = new MutationObserver(function (mutations, observer) {{\n",
       "        var display = window.getComputedStyle(gd).display;\n",
       "        if (!display || display === 'none') {{\n",
       "            console.log([gd, 'removed!']);\n",
       "            Plotly.purge(gd);\n",
       "            observer.disconnect();\n",
       "        }}\n",
       "}});\n",
       "\n",
       "// Listen for the removal of the full notebook cells\n",
       "var notebookContainer = gd.closest('#notebook-container');\n",
       "if (notebookContainer) {{\n",
       "    x.observe(notebookContainer, {childList: true});\n",
       "}}\n",
       "\n",
       "// Listen for the clearing of the current output cell\n",
       "var outputEl = gd.closest('.output');\n",
       "if (outputEl) {{\n",
       "    x.observe(outputEl, {childList: true});\n",
       "}}\n",
       "\n",
       "                        })                };                });            </script>        </div>"
      ]
     },
     "metadata": {},
     "output_type": "display_data"
    }
   ],
   "source": [
    "\n",
    "fig = px.line(data, x = 'date', y ='daily_vaccinations', color = 'country')\n",
    "fig.update_layout(\n",
    "    title={\n",
    "            'text' : \"Daily vaccination trend\",\n",
    "            'y':0.95,\n",
    "            'x':0.5\n",
    "        },\n",
    "    xaxis_title=\"Date\",\n",
    "    yaxis_title=\"Daily Vaccinations\"\n",
    ")\n",
    "fig.show()"
   ]
  },
  {
   "cell_type": "code",
   "execution_count": 121,
   "id": "90267745",
   "metadata": {
    "scrolled": false
   },
   "outputs": [
    {
     "data": {
      "application/vnd.plotly.v1+json": {
       "config": {
        "plotlyServerURL": "https://plot.ly"
       },
       "data": [
        {
         "alignmentgroup": "True",
         "hovertemplate": "index=%{x}<br>vaccines=%{marker.color}<extra></extra>",
         "legendgroup": "",
         "marker": {
          "color": [
           null,
           null,
           null,
           null,
           null,
           null,
           null,
           null,
           null,
           null,
           null,
           null,
           null,
           null,
           null,
           null,
           null,
           null,
           null,
           null,
           null,
           null,
           null,
           null,
           null,
           null,
           null,
           null,
           null,
           null,
           null,
           null,
           null,
           null,
           null,
           null,
           null,
           null,
           null,
           null,
           null,
           null,
           null,
           null,
           null,
           null,
           null,
           null,
           null,
           null,
           null,
           null,
           null,
           null,
           null,
           null,
           null,
           null,
           null,
           null
          ],
          "coloraxis": "coloraxis",
          "pattern": {
           "shape": ""
          }
         },
         "name": "",
         "offsetgroup": "",
         "orientation": "v",
         "showlegend": false,
         "textposition": "auto",
         "type": "bar",
         "x": [
          "Argentina",
          "Austria",
          "Bahrain",
          "Belgium",
          "Brazil",
          "Bulgaria",
          "Canada",
          "Chile",
          "China",
          "Costa Rica",
          "Croatia",
          "Cyprus",
          "Czechia",
          "Denmark",
          "Ecuador",
          "England",
          "Estonia",
          "Finland",
          "France",
          "Germany",
          "Gibraltar",
          "Greece",
          "Hungary",
          "Iceland",
          "India",
          "Indonesia",
          "Ireland",
          "Isle of Man",
          "Israel",
          "Italy",
          "Kuwait",
          "Latvia",
          "Lithuania",
          "Luxembourg",
          "Malta",
          "Mexico",
          "Netherlands",
          "Northern Ireland",
          "Norway",
          "Oman",
          "Panama",
          "Poland",
          "Portugal",
          "Romania",
          "Russia",
          "Saudi Arabia",
          "Scotland",
          "Serbia",
          "Seychelles",
          "Singapore",
          "Slovakia",
          "Slovenia",
          "Spain",
          "Sweden",
          "Switzerland",
          "Turkey",
          "United Arab Emirates",
          "United Kingdom",
          "United States",
          "Wales"
         ],
         "xaxis": "x",
         "y": [
          null,
          null,
          null,
          null,
          null,
          null,
          null,
          null,
          null,
          null,
          null,
          null,
          null,
          null,
          null,
          null,
          null,
          null,
          null,
          null,
          null,
          null,
          null,
          null,
          null,
          null,
          null,
          null,
          null,
          null,
          null,
          null,
          null,
          null,
          null,
          null,
          null,
          null,
          null,
          null,
          null,
          null,
          null,
          null,
          null,
          null,
          null,
          null,
          null,
          null,
          null,
          null,
          null,
          null,
          null,
          null,
          null,
          null,
          null,
          null
         ],
         "yaxis": "y"
        }
       ],
       "layout": {
        "barmode": "relative",
        "coloraxis": {
         "colorbar": {
          "title": {
           "text": "vaccines"
          }
         },
         "colorscale": [
          [
           0,
           "#0d0887"
          ],
          [
           0.1111111111111111,
           "#46039f"
          ],
          [
           0.2222222222222222,
           "#7201a8"
          ],
          [
           0.3333333333333333,
           "#9c179e"
          ],
          [
           0.4444444444444444,
           "#bd3786"
          ],
          [
           0.5555555555555556,
           "#d8576b"
          ],
          [
           0.6666666666666666,
           "#ed7953"
          ],
          [
           0.7777777777777778,
           "#fb9f3a"
          ],
          [
           0.8888888888888888,
           "#fdca26"
          ],
          [
           1,
           "#f0f921"
          ]
         ]
        },
        "legend": {
         "title": {
          "text": "Total vaccinated"
         },
         "tracegroupgap": 0
        },
        "margin": {
         "t": 60
        },
        "template": {
         "data": {
          "bar": [
           {
            "error_x": {
             "color": "#2a3f5f"
            },
            "error_y": {
             "color": "#2a3f5f"
            },
            "marker": {
             "line": {
              "color": "#E5ECF6",
              "width": 0.5
             },
             "pattern": {
              "fillmode": "overlay",
              "size": 10,
              "solidity": 0.2
             }
            },
            "type": "bar"
           }
          ],
          "barpolar": [
           {
            "marker": {
             "line": {
              "color": "#E5ECF6",
              "width": 0.5
             },
             "pattern": {
              "fillmode": "overlay",
              "size": 10,
              "solidity": 0.2
             }
            },
            "type": "barpolar"
           }
          ],
          "carpet": [
           {
            "aaxis": {
             "endlinecolor": "#2a3f5f",
             "gridcolor": "white",
             "linecolor": "white",
             "minorgridcolor": "white",
             "startlinecolor": "#2a3f5f"
            },
            "baxis": {
             "endlinecolor": "#2a3f5f",
             "gridcolor": "white",
             "linecolor": "white",
             "minorgridcolor": "white",
             "startlinecolor": "#2a3f5f"
            },
            "type": "carpet"
           }
          ],
          "choropleth": [
           {
            "colorbar": {
             "outlinewidth": 0,
             "ticks": ""
            },
            "type": "choropleth"
           }
          ],
          "contour": [
           {
            "colorbar": {
             "outlinewidth": 0,
             "ticks": ""
            },
            "colorscale": [
             [
              0,
              "#0d0887"
             ],
             [
              0.1111111111111111,
              "#46039f"
             ],
             [
              0.2222222222222222,
              "#7201a8"
             ],
             [
              0.3333333333333333,
              "#9c179e"
             ],
             [
              0.4444444444444444,
              "#bd3786"
             ],
             [
              0.5555555555555556,
              "#d8576b"
             ],
             [
              0.6666666666666666,
              "#ed7953"
             ],
             [
              0.7777777777777778,
              "#fb9f3a"
             ],
             [
              0.8888888888888888,
              "#fdca26"
             ],
             [
              1,
              "#f0f921"
             ]
            ],
            "type": "contour"
           }
          ],
          "contourcarpet": [
           {
            "colorbar": {
             "outlinewidth": 0,
             "ticks": ""
            },
            "type": "contourcarpet"
           }
          ],
          "heatmap": [
           {
            "colorbar": {
             "outlinewidth": 0,
             "ticks": ""
            },
            "colorscale": [
             [
              0,
              "#0d0887"
             ],
             [
              0.1111111111111111,
              "#46039f"
             ],
             [
              0.2222222222222222,
              "#7201a8"
             ],
             [
              0.3333333333333333,
              "#9c179e"
             ],
             [
              0.4444444444444444,
              "#bd3786"
             ],
             [
              0.5555555555555556,
              "#d8576b"
             ],
             [
              0.6666666666666666,
              "#ed7953"
             ],
             [
              0.7777777777777778,
              "#fb9f3a"
             ],
             [
              0.8888888888888888,
              "#fdca26"
             ],
             [
              1,
              "#f0f921"
             ]
            ],
            "type": "heatmap"
           }
          ],
          "heatmapgl": [
           {
            "colorbar": {
             "outlinewidth": 0,
             "ticks": ""
            },
            "colorscale": [
             [
              0,
              "#0d0887"
             ],
             [
              0.1111111111111111,
              "#46039f"
             ],
             [
              0.2222222222222222,
              "#7201a8"
             ],
             [
              0.3333333333333333,
              "#9c179e"
             ],
             [
              0.4444444444444444,
              "#bd3786"
             ],
             [
              0.5555555555555556,
              "#d8576b"
             ],
             [
              0.6666666666666666,
              "#ed7953"
             ],
             [
              0.7777777777777778,
              "#fb9f3a"
             ],
             [
              0.8888888888888888,
              "#fdca26"
             ],
             [
              1,
              "#f0f921"
             ]
            ],
            "type": "heatmapgl"
           }
          ],
          "histogram": [
           {
            "marker": {
             "pattern": {
              "fillmode": "overlay",
              "size": 10,
              "solidity": 0.2
             }
            },
            "type": "histogram"
           }
          ],
          "histogram2d": [
           {
            "colorbar": {
             "outlinewidth": 0,
             "ticks": ""
            },
            "colorscale": [
             [
              0,
              "#0d0887"
             ],
             [
              0.1111111111111111,
              "#46039f"
             ],
             [
              0.2222222222222222,
              "#7201a8"
             ],
             [
              0.3333333333333333,
              "#9c179e"
             ],
             [
              0.4444444444444444,
              "#bd3786"
             ],
             [
              0.5555555555555556,
              "#d8576b"
             ],
             [
              0.6666666666666666,
              "#ed7953"
             ],
             [
              0.7777777777777778,
              "#fb9f3a"
             ],
             [
              0.8888888888888888,
              "#fdca26"
             ],
             [
              1,
              "#f0f921"
             ]
            ],
            "type": "histogram2d"
           }
          ],
          "histogram2dcontour": [
           {
            "colorbar": {
             "outlinewidth": 0,
             "ticks": ""
            },
            "colorscale": [
             [
              0,
              "#0d0887"
             ],
             [
              0.1111111111111111,
              "#46039f"
             ],
             [
              0.2222222222222222,
              "#7201a8"
             ],
             [
              0.3333333333333333,
              "#9c179e"
             ],
             [
              0.4444444444444444,
              "#bd3786"
             ],
             [
              0.5555555555555556,
              "#d8576b"
             ],
             [
              0.6666666666666666,
              "#ed7953"
             ],
             [
              0.7777777777777778,
              "#fb9f3a"
             ],
             [
              0.8888888888888888,
              "#fdca26"
             ],
             [
              1,
              "#f0f921"
             ]
            ],
            "type": "histogram2dcontour"
           }
          ],
          "mesh3d": [
           {
            "colorbar": {
             "outlinewidth": 0,
             "ticks": ""
            },
            "type": "mesh3d"
           }
          ],
          "parcoords": [
           {
            "line": {
             "colorbar": {
              "outlinewidth": 0,
              "ticks": ""
             }
            },
            "type": "parcoords"
           }
          ],
          "pie": [
           {
            "automargin": true,
            "type": "pie"
           }
          ],
          "scatter": [
           {
            "fillpattern": {
             "fillmode": "overlay",
             "size": 10,
             "solidity": 0.2
            },
            "type": "scatter"
           }
          ],
          "scatter3d": [
           {
            "line": {
             "colorbar": {
              "outlinewidth": 0,
              "ticks": ""
             }
            },
            "marker": {
             "colorbar": {
              "outlinewidth": 0,
              "ticks": ""
             }
            },
            "type": "scatter3d"
           }
          ],
          "scattercarpet": [
           {
            "marker": {
             "colorbar": {
              "outlinewidth": 0,
              "ticks": ""
             }
            },
            "type": "scattercarpet"
           }
          ],
          "scattergeo": [
           {
            "marker": {
             "colorbar": {
              "outlinewidth": 0,
              "ticks": ""
             }
            },
            "type": "scattergeo"
           }
          ],
          "scattergl": [
           {
            "marker": {
             "colorbar": {
              "outlinewidth": 0,
              "ticks": ""
             }
            },
            "type": "scattergl"
           }
          ],
          "scattermapbox": [
           {
            "marker": {
             "colorbar": {
              "outlinewidth": 0,
              "ticks": ""
             }
            },
            "type": "scattermapbox"
           }
          ],
          "scatterpolar": [
           {
            "marker": {
             "colorbar": {
              "outlinewidth": 0,
              "ticks": ""
             }
            },
            "type": "scatterpolar"
           }
          ],
          "scatterpolargl": [
           {
            "marker": {
             "colorbar": {
              "outlinewidth": 0,
              "ticks": ""
             }
            },
            "type": "scatterpolargl"
           }
          ],
          "scatterternary": [
           {
            "marker": {
             "colorbar": {
              "outlinewidth": 0,
              "ticks": ""
             }
            },
            "type": "scatterternary"
           }
          ],
          "surface": [
           {
            "colorbar": {
             "outlinewidth": 0,
             "ticks": ""
            },
            "colorscale": [
             [
              0,
              "#0d0887"
             ],
             [
              0.1111111111111111,
              "#46039f"
             ],
             [
              0.2222222222222222,
              "#7201a8"
             ],
             [
              0.3333333333333333,
              "#9c179e"
             ],
             [
              0.4444444444444444,
              "#bd3786"
             ],
             [
              0.5555555555555556,
              "#d8576b"
             ],
             [
              0.6666666666666666,
              "#ed7953"
             ],
             [
              0.7777777777777778,
              "#fb9f3a"
             ],
             [
              0.8888888888888888,
              "#fdca26"
             ],
             [
              1,
              "#f0f921"
             ]
            ],
            "type": "surface"
           }
          ],
          "table": [
           {
            "cells": {
             "fill": {
              "color": "#EBF0F8"
             },
             "line": {
              "color": "white"
             }
            },
            "header": {
             "fill": {
              "color": "#C8D4E3"
             },
             "line": {
              "color": "white"
             }
            },
            "type": "table"
           }
          ]
         },
         "layout": {
          "annotationdefaults": {
           "arrowcolor": "#2a3f5f",
           "arrowhead": 0,
           "arrowwidth": 1
          },
          "autotypenumbers": "strict",
          "coloraxis": {
           "colorbar": {
            "outlinewidth": 0,
            "ticks": ""
           }
          },
          "colorscale": {
           "diverging": [
            [
             0,
             "#8e0152"
            ],
            [
             0.1,
             "#c51b7d"
            ],
            [
             0.2,
             "#de77ae"
            ],
            [
             0.3,
             "#f1b6da"
            ],
            [
             0.4,
             "#fde0ef"
            ],
            [
             0.5,
             "#f7f7f7"
            ],
            [
             0.6,
             "#e6f5d0"
            ],
            [
             0.7,
             "#b8e186"
            ],
            [
             0.8,
             "#7fbc41"
            ],
            [
             0.9,
             "#4d9221"
            ],
            [
             1,
             "#276419"
            ]
           ],
           "sequential": [
            [
             0,
             "#0d0887"
            ],
            [
             0.1111111111111111,
             "#46039f"
            ],
            [
             0.2222222222222222,
             "#7201a8"
            ],
            [
             0.3333333333333333,
             "#9c179e"
            ],
            [
             0.4444444444444444,
             "#bd3786"
            ],
            [
             0.5555555555555556,
             "#d8576b"
            ],
            [
             0.6666666666666666,
             "#ed7953"
            ],
            [
             0.7777777777777778,
             "#fb9f3a"
            ],
            [
             0.8888888888888888,
             "#fdca26"
            ],
            [
             1,
             "#f0f921"
            ]
           ],
           "sequentialminus": [
            [
             0,
             "#0d0887"
            ],
            [
             0.1111111111111111,
             "#46039f"
            ],
            [
             0.2222222222222222,
             "#7201a8"
            ],
            [
             0.3333333333333333,
             "#9c179e"
            ],
            [
             0.4444444444444444,
             "#bd3786"
            ],
            [
             0.5555555555555556,
             "#d8576b"
            ],
            [
             0.6666666666666666,
             "#ed7953"
            ],
            [
             0.7777777777777778,
             "#fb9f3a"
            ],
            [
             0.8888888888888888,
             "#fdca26"
            ],
            [
             1,
             "#f0f921"
            ]
           ]
          },
          "colorway": [
           "#636efa",
           "#EF553B",
           "#00cc96",
           "#ab63fa",
           "#FFA15A",
           "#19d3f3",
           "#FF6692",
           "#B6E880",
           "#FF97FF",
           "#FECB52"
          ],
          "font": {
           "color": "#2a3f5f"
          },
          "geo": {
           "bgcolor": "white",
           "lakecolor": "white",
           "landcolor": "#E5ECF6",
           "showlakes": true,
           "showland": true,
           "subunitcolor": "white"
          },
          "hoverlabel": {
           "align": "left"
          },
          "hovermode": "closest",
          "mapbox": {
           "style": "light"
          },
          "paper_bgcolor": "white",
          "plot_bgcolor": "#E5ECF6",
          "polar": {
           "angularaxis": {
            "gridcolor": "white",
            "linecolor": "white",
            "ticks": ""
           },
           "bgcolor": "#E5ECF6",
           "radialaxis": {
            "gridcolor": "white",
            "linecolor": "white",
            "ticks": ""
           }
          },
          "scene": {
           "xaxis": {
            "backgroundcolor": "#E5ECF6",
            "gridcolor": "white",
            "gridwidth": 2,
            "linecolor": "white",
            "showbackground": true,
            "ticks": "",
            "zerolinecolor": "white"
           },
           "yaxis": {
            "backgroundcolor": "#E5ECF6",
            "gridcolor": "white",
            "gridwidth": 2,
            "linecolor": "white",
            "showbackground": true,
            "ticks": "",
            "zerolinecolor": "white"
           },
           "zaxis": {
            "backgroundcolor": "#E5ECF6",
            "gridcolor": "white",
            "gridwidth": 2,
            "linecolor": "white",
            "showbackground": true,
            "ticks": "",
            "zerolinecolor": "white"
           }
          },
          "shapedefaults": {
           "line": {
            "color": "#2a3f5f"
           }
          },
          "ternary": {
           "aaxis": {
            "gridcolor": "white",
            "linecolor": "white",
            "ticks": ""
           },
           "baxis": {
            "gridcolor": "white",
            "linecolor": "white",
            "ticks": ""
           },
           "bgcolor": "#E5ECF6",
           "caxis": {
            "gridcolor": "white",
            "linecolor": "white",
            "ticks": ""
           }
          },
          "title": {
           "x": 0.05
          },
          "xaxis": {
           "automargin": true,
           "gridcolor": "white",
           "linecolor": "white",
           "ticks": "",
           "title": {
            "standoff": 15
           },
           "zerolinecolor": "white",
           "zerolinewidth": 2
          },
          "yaxis": {
           "automargin": true,
           "gridcolor": "white",
           "linecolor": "white",
           "ticks": "",
           "title": {
            "standoff": 15
           },
           "zerolinecolor": "white",
           "zerolinewidth": 2
          }
         }
        },
        "title": {
         "text": "Vaccination till date in various countries"
        },
        "xaxis": {
         "anchor": "y",
         "domain": [
          0,
          1
         ],
         "title": {
          "text": "date"
         }
        },
        "yaxis": {
         "anchor": "x",
         "domain": [
          0,
          1
         ],
         "title": {
          "text": "Total vaccinated"
         }
        }
       }
      },
      "text/html": [
       "<div>                            <div id=\"9349bcb5-17f9-44c5-bc19-4eb893c6968c\" class=\"plotly-graph-div\" style=\"height:525px; width:100%;\"></div>            <script type=\"text/javascript\">                require([\"plotly\"], function(Plotly) {                    window.PLOTLYENV=window.PLOTLYENV || {};                                    if (document.getElementById(\"9349bcb5-17f9-44c5-bc19-4eb893c6968c\")) {                    Plotly.newPlot(                        \"9349bcb5-17f9-44c5-bc19-4eb893c6968c\",                        [{\"alignmentgroup\":\"True\",\"hovertemplate\":\"index=%{x}<br>vaccines=%{marker.color}<extra></extra>\",\"legendgroup\":\"\",\"marker\":{\"color\":[null,null,null,null,null,null,null,null,null,null,null,null,null,null,null,null,null,null,null,null,null,null,null,null,null,null,null,null,null,null,null,null,null,null,null,null,null,null,null,null,null,null,null,null,null,null,null,null,null,null,null,null,null,null,null,null,null,null,null,null],\"coloraxis\":\"coloraxis\",\"pattern\":{\"shape\":\"\"}},\"name\":\"\",\"offsetgroup\":\"\",\"orientation\":\"v\",\"showlegend\":false,\"textposition\":\"auto\",\"x\":[\"Argentina\",\"Austria\",\"Bahrain\",\"Belgium\",\"Brazil\",\"Bulgaria\",\"Canada\",\"Chile\",\"China\",\"Costa Rica\",\"Croatia\",\"Cyprus\",\"Czechia\",\"Denmark\",\"Ecuador\",\"England\",\"Estonia\",\"Finland\",\"France\",\"Germany\",\"Gibraltar\",\"Greece\",\"Hungary\",\"Iceland\",\"India\",\"Indonesia\",\"Ireland\",\"Isle of Man\",\"Israel\",\"Italy\",\"Kuwait\",\"Latvia\",\"Lithuania\",\"Luxembourg\",\"Malta\",\"Mexico\",\"Netherlands\",\"Northern Ireland\",\"Norway\",\"Oman\",\"Panama\",\"Poland\",\"Portugal\",\"Romania\",\"Russia\",\"Saudi Arabia\",\"Scotland\",\"Serbia\",\"Seychelles\",\"Singapore\",\"Slovakia\",\"Slovenia\",\"Spain\",\"Sweden\",\"Switzerland\",\"Turkey\",\"United Arab Emirates\",\"United Kingdom\",\"United States\",\"Wales\"],\"xaxis\":\"x\",\"y\":[null,null,null,null,null,null,null,null,null,null,null,null,null,null,null,null,null,null,null,null,null,null,null,null,null,null,null,null,null,null,null,null,null,null,null,null,null,null,null,null,null,null,null,null,null,null,null,null,null,null,null,null,null,null,null,null,null,null,null,null],\"yaxis\":\"y\",\"type\":\"bar\"}],                        {\"template\":{\"data\":{\"histogram2dcontour\":[{\"type\":\"histogram2dcontour\",\"colorbar\":{\"outlinewidth\":0,\"ticks\":\"\"},\"colorscale\":[[0.0,\"#0d0887\"],[0.1111111111111111,\"#46039f\"],[0.2222222222222222,\"#7201a8\"],[0.3333333333333333,\"#9c179e\"],[0.4444444444444444,\"#bd3786\"],[0.5555555555555556,\"#d8576b\"],[0.6666666666666666,\"#ed7953\"],[0.7777777777777778,\"#fb9f3a\"],[0.8888888888888888,\"#fdca26\"],[1.0,\"#f0f921\"]]}],\"choropleth\":[{\"type\":\"choropleth\",\"colorbar\":{\"outlinewidth\":0,\"ticks\":\"\"}}],\"histogram2d\":[{\"type\":\"histogram2d\",\"colorbar\":{\"outlinewidth\":0,\"ticks\":\"\"},\"colorscale\":[[0.0,\"#0d0887\"],[0.1111111111111111,\"#46039f\"],[0.2222222222222222,\"#7201a8\"],[0.3333333333333333,\"#9c179e\"],[0.4444444444444444,\"#bd3786\"],[0.5555555555555556,\"#d8576b\"],[0.6666666666666666,\"#ed7953\"],[0.7777777777777778,\"#fb9f3a\"],[0.8888888888888888,\"#fdca26\"],[1.0,\"#f0f921\"]]}],\"heatmap\":[{\"type\":\"heatmap\",\"colorbar\":{\"outlinewidth\":0,\"ticks\":\"\"},\"colorscale\":[[0.0,\"#0d0887\"],[0.1111111111111111,\"#46039f\"],[0.2222222222222222,\"#7201a8\"],[0.3333333333333333,\"#9c179e\"],[0.4444444444444444,\"#bd3786\"],[0.5555555555555556,\"#d8576b\"],[0.6666666666666666,\"#ed7953\"],[0.7777777777777778,\"#fb9f3a\"],[0.8888888888888888,\"#fdca26\"],[1.0,\"#f0f921\"]]}],\"heatmapgl\":[{\"type\":\"heatmapgl\",\"colorbar\":{\"outlinewidth\":0,\"ticks\":\"\"},\"colorscale\":[[0.0,\"#0d0887\"],[0.1111111111111111,\"#46039f\"],[0.2222222222222222,\"#7201a8\"],[0.3333333333333333,\"#9c179e\"],[0.4444444444444444,\"#bd3786\"],[0.5555555555555556,\"#d8576b\"],[0.6666666666666666,\"#ed7953\"],[0.7777777777777778,\"#fb9f3a\"],[0.8888888888888888,\"#fdca26\"],[1.0,\"#f0f921\"]]}],\"contourcarpet\":[{\"type\":\"contourcarpet\",\"colorbar\":{\"outlinewidth\":0,\"ticks\":\"\"}}],\"contour\":[{\"type\":\"contour\",\"colorbar\":{\"outlinewidth\":0,\"ticks\":\"\"},\"colorscale\":[[0.0,\"#0d0887\"],[0.1111111111111111,\"#46039f\"],[0.2222222222222222,\"#7201a8\"],[0.3333333333333333,\"#9c179e\"],[0.4444444444444444,\"#bd3786\"],[0.5555555555555556,\"#d8576b\"],[0.6666666666666666,\"#ed7953\"],[0.7777777777777778,\"#fb9f3a\"],[0.8888888888888888,\"#fdca26\"],[1.0,\"#f0f921\"]]}],\"surface\":[{\"type\":\"surface\",\"colorbar\":{\"outlinewidth\":0,\"ticks\":\"\"},\"colorscale\":[[0.0,\"#0d0887\"],[0.1111111111111111,\"#46039f\"],[0.2222222222222222,\"#7201a8\"],[0.3333333333333333,\"#9c179e\"],[0.4444444444444444,\"#bd3786\"],[0.5555555555555556,\"#d8576b\"],[0.6666666666666666,\"#ed7953\"],[0.7777777777777778,\"#fb9f3a\"],[0.8888888888888888,\"#fdca26\"],[1.0,\"#f0f921\"]]}],\"mesh3d\":[{\"type\":\"mesh3d\",\"colorbar\":{\"outlinewidth\":0,\"ticks\":\"\"}}],\"scatter\":[{\"fillpattern\":{\"fillmode\":\"overlay\",\"size\":10,\"solidity\":0.2},\"type\":\"scatter\"}],\"parcoords\":[{\"type\":\"parcoords\",\"line\":{\"colorbar\":{\"outlinewidth\":0,\"ticks\":\"\"}}}],\"scatterpolargl\":[{\"type\":\"scatterpolargl\",\"marker\":{\"colorbar\":{\"outlinewidth\":0,\"ticks\":\"\"}}}],\"bar\":[{\"error_x\":{\"color\":\"#2a3f5f\"},\"error_y\":{\"color\":\"#2a3f5f\"},\"marker\":{\"line\":{\"color\":\"#E5ECF6\",\"width\":0.5},\"pattern\":{\"fillmode\":\"overlay\",\"size\":10,\"solidity\":0.2}},\"type\":\"bar\"}],\"scattergeo\":[{\"type\":\"scattergeo\",\"marker\":{\"colorbar\":{\"outlinewidth\":0,\"ticks\":\"\"}}}],\"scatterpolar\":[{\"type\":\"scatterpolar\",\"marker\":{\"colorbar\":{\"outlinewidth\":0,\"ticks\":\"\"}}}],\"histogram\":[{\"marker\":{\"pattern\":{\"fillmode\":\"overlay\",\"size\":10,\"solidity\":0.2}},\"type\":\"histogram\"}],\"scattergl\":[{\"type\":\"scattergl\",\"marker\":{\"colorbar\":{\"outlinewidth\":0,\"ticks\":\"\"}}}],\"scatter3d\":[{\"type\":\"scatter3d\",\"line\":{\"colorbar\":{\"outlinewidth\":0,\"ticks\":\"\"}},\"marker\":{\"colorbar\":{\"outlinewidth\":0,\"ticks\":\"\"}}}],\"scattermapbox\":[{\"type\":\"scattermapbox\",\"marker\":{\"colorbar\":{\"outlinewidth\":0,\"ticks\":\"\"}}}],\"scatterternary\":[{\"type\":\"scatterternary\",\"marker\":{\"colorbar\":{\"outlinewidth\":0,\"ticks\":\"\"}}}],\"scattercarpet\":[{\"type\":\"scattercarpet\",\"marker\":{\"colorbar\":{\"outlinewidth\":0,\"ticks\":\"\"}}}],\"carpet\":[{\"aaxis\":{\"endlinecolor\":\"#2a3f5f\",\"gridcolor\":\"white\",\"linecolor\":\"white\",\"minorgridcolor\":\"white\",\"startlinecolor\":\"#2a3f5f\"},\"baxis\":{\"endlinecolor\":\"#2a3f5f\",\"gridcolor\":\"white\",\"linecolor\":\"white\",\"minorgridcolor\":\"white\",\"startlinecolor\":\"#2a3f5f\"},\"type\":\"carpet\"}],\"table\":[{\"cells\":{\"fill\":{\"color\":\"#EBF0F8\"},\"line\":{\"color\":\"white\"}},\"header\":{\"fill\":{\"color\":\"#C8D4E3\"},\"line\":{\"color\":\"white\"}},\"type\":\"table\"}],\"barpolar\":[{\"marker\":{\"line\":{\"color\":\"#E5ECF6\",\"width\":0.5},\"pattern\":{\"fillmode\":\"overlay\",\"size\":10,\"solidity\":0.2}},\"type\":\"barpolar\"}],\"pie\":[{\"automargin\":true,\"type\":\"pie\"}]},\"layout\":{\"autotypenumbers\":\"strict\",\"colorway\":[\"#636efa\",\"#EF553B\",\"#00cc96\",\"#ab63fa\",\"#FFA15A\",\"#19d3f3\",\"#FF6692\",\"#B6E880\",\"#FF97FF\",\"#FECB52\"],\"font\":{\"color\":\"#2a3f5f\"},\"hovermode\":\"closest\",\"hoverlabel\":{\"align\":\"left\"},\"paper_bgcolor\":\"white\",\"plot_bgcolor\":\"#E5ECF6\",\"polar\":{\"bgcolor\":\"#E5ECF6\",\"angularaxis\":{\"gridcolor\":\"white\",\"linecolor\":\"white\",\"ticks\":\"\"},\"radialaxis\":{\"gridcolor\":\"white\",\"linecolor\":\"white\",\"ticks\":\"\"}},\"ternary\":{\"bgcolor\":\"#E5ECF6\",\"aaxis\":{\"gridcolor\":\"white\",\"linecolor\":\"white\",\"ticks\":\"\"},\"baxis\":{\"gridcolor\":\"white\",\"linecolor\":\"white\",\"ticks\":\"\"},\"caxis\":{\"gridcolor\":\"white\",\"linecolor\":\"white\",\"ticks\":\"\"}},\"coloraxis\":{\"colorbar\":{\"outlinewidth\":0,\"ticks\":\"\"}},\"colorscale\":{\"sequential\":[[0.0,\"#0d0887\"],[0.1111111111111111,\"#46039f\"],[0.2222222222222222,\"#7201a8\"],[0.3333333333333333,\"#9c179e\"],[0.4444444444444444,\"#bd3786\"],[0.5555555555555556,\"#d8576b\"],[0.6666666666666666,\"#ed7953\"],[0.7777777777777778,\"#fb9f3a\"],[0.8888888888888888,\"#fdca26\"],[1.0,\"#f0f921\"]],\"sequentialminus\":[[0.0,\"#0d0887\"],[0.1111111111111111,\"#46039f\"],[0.2222222222222222,\"#7201a8\"],[0.3333333333333333,\"#9c179e\"],[0.4444444444444444,\"#bd3786\"],[0.5555555555555556,\"#d8576b\"],[0.6666666666666666,\"#ed7953\"],[0.7777777777777778,\"#fb9f3a\"],[0.8888888888888888,\"#fdca26\"],[1.0,\"#f0f921\"]],\"diverging\":[[0,\"#8e0152\"],[0.1,\"#c51b7d\"],[0.2,\"#de77ae\"],[0.3,\"#f1b6da\"],[0.4,\"#fde0ef\"],[0.5,\"#f7f7f7\"],[0.6,\"#e6f5d0\"],[0.7,\"#b8e186\"],[0.8,\"#7fbc41\"],[0.9,\"#4d9221\"],[1,\"#276419\"]]},\"xaxis\":{\"gridcolor\":\"white\",\"linecolor\":\"white\",\"ticks\":\"\",\"title\":{\"standoff\":15},\"zerolinecolor\":\"white\",\"automargin\":true,\"zerolinewidth\":2},\"yaxis\":{\"gridcolor\":\"white\",\"linecolor\":\"white\",\"ticks\":\"\",\"title\":{\"standoff\":15},\"zerolinecolor\":\"white\",\"automargin\":true,\"zerolinewidth\":2},\"scene\":{\"xaxis\":{\"backgroundcolor\":\"#E5ECF6\",\"gridcolor\":\"white\",\"linecolor\":\"white\",\"showbackground\":true,\"ticks\":\"\",\"zerolinecolor\":\"white\",\"gridwidth\":2},\"yaxis\":{\"backgroundcolor\":\"#E5ECF6\",\"gridcolor\":\"white\",\"linecolor\":\"white\",\"showbackground\":true,\"ticks\":\"\",\"zerolinecolor\":\"white\",\"gridwidth\":2},\"zaxis\":{\"backgroundcolor\":\"#E5ECF6\",\"gridcolor\":\"white\",\"linecolor\":\"white\",\"showbackground\":true,\"ticks\":\"\",\"zerolinecolor\":\"white\",\"gridwidth\":2}},\"shapedefaults\":{\"line\":{\"color\":\"#2a3f5f\"}},\"annotationdefaults\":{\"arrowcolor\":\"#2a3f5f\",\"arrowhead\":0,\"arrowwidth\":1},\"geo\":{\"bgcolor\":\"white\",\"landcolor\":\"#E5ECF6\",\"subunitcolor\":\"white\",\"showland\":true,\"showlakes\":true,\"lakecolor\":\"white\"},\"title\":{\"x\":0.05},\"mapbox\":{\"style\":\"light\"}}},\"xaxis\":{\"anchor\":\"y\",\"domain\":[0.0,1.0],\"title\":{\"text\":\"date\"}},\"yaxis\":{\"anchor\":\"x\",\"domain\":[0.0,1.0],\"title\":{\"text\":\"Total vaccinated\"}},\"coloraxis\":{\"colorbar\":{\"title\":{\"text\":\"vaccines\"}},\"colorscale\":[[0.0,\"#0d0887\"],[0.1111111111111111,\"#46039f\"],[0.2222222222222222,\"#7201a8\"],[0.3333333333333333,\"#9c179e\"],[0.4444444444444444,\"#bd3786\"],[0.5555555555555556,\"#d8576b\"],[0.6666666666666666,\"#ed7953\"],[0.7777777777777778,\"#fb9f3a\"],[0.8888888888888888,\"#fdca26\"],[1.0,\"#f0f921\"]]},\"legend\":{\"tracegroupgap\":0,\"title\":{\"text\":\"Total vaccinated\"}},\"margin\":{\"t\":60},\"barmode\":\"relative\",\"title\":{\"text\":\"Vaccination till date in various countries\"}},                        {\"responsive\": true}                    ).then(function(){\n",
       "                            \n",
       "var gd = document.getElementById('9349bcb5-17f9-44c5-bc19-4eb893c6968c');\n",
       "var x = new MutationObserver(function (mutations, observer) {{\n",
       "        var display = window.getComputedStyle(gd).display;\n",
       "        if (!display || display === 'none') {{\n",
       "            console.log([gd, 'removed!']);\n",
       "            Plotly.purge(gd);\n",
       "            observer.disconnect();\n",
       "        }}\n",
       "}});\n",
       "\n",
       "// Listen for the removal of the full notebook cells\n",
       "var notebookContainer = gd.closest('#notebook-container');\n",
       "if (notebookContainer) {{\n",
       "    x.observe(notebookContainer, {childList: true});\n",
       "}}\n",
       "\n",
       "// Listen for the clearing of the current output cell\n",
       "var outputEl = gd.closest('.output');\n",
       "if (outputEl) {{\n",
       "    x.observe(outputEl, {childList: true});\n",
       "}}\n",
       "\n",
       "                        })                };                });            </script>        </div>"
      ]
     },
     "metadata": {},
     "output_type": "display_data"
    }
   ],
   "source": [
    "import plotly.express as px\n",
    "fig = px.bar(country_wise_total_vaccinated_df, \n",
    "             y = 'vaccines',\n",
    "             x = country_wise_total_vaccinated_df.index,\n",
    "             color = 'vaccines',\n",
    "             color_discrete_sequence= px.colors.sequential.Viridis_r\n",
    "            )\n",
    "fig.update_layout(\n",
    "    title={\n",
    "            'text' : \"Vaccination till date in various countries\",\n",
    "            \n",
    "        },\n",
    "    xaxis_title=\"date\",\n",
    "    yaxis_title=\"Total vaccinated\",\n",
    "    legend_title=\"Total vaccinated\"\n",
    ")\n",
    "fig.show()"
   ]
  },
  {
   "cell_type": "code",
   "execution_count": null,
   "id": "fcc75a73",
   "metadata": {},
   "outputs": [],
   "source": []
  },
  {
   "cell_type": "code",
   "execution_count": null,
   "id": "57247ba2",
   "metadata": {},
   "outputs": [],
   "source": [
    "\n"
   ]
  },
  {
   "cell_type": "code",
   "execution_count": null,
   "id": "7b0ffd6b",
   "metadata": {},
   "outputs": [],
   "source": []
  }
 ],
 "metadata": {
  "kernelspec": {
   "display_name": "Python 3 (ipykernel)",
   "language": "python",
   "name": "python3"
  },
  "language_info": {
   "codemirror_mode": {
    "name": "ipython",
    "version": 3
   },
   "file_extension": ".py",
   "mimetype": "text/x-python",
   "name": "python",
   "nbconvert_exporter": "python",
   "pygments_lexer": "ipython3",
   "version": "3.10.4"
  }
 },
 "nbformat": 4,
 "nbformat_minor": 5
}
